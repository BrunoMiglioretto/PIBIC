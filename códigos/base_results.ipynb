{
 "cells": [
  {
   "cell_type": "markdown",
   "metadata": {
    "id": "zX4diNFIygdk"
   },
   "source": [
    "Instalação da biblioteca AEON, que será bastante explorada nesse projeto para o carregamento dos conjuntos de dados e classificadores base (Rocket e MiniRocket).\n",
    "\n",
    "Link do AEON com uma documentação bastante completa:\n",
    "https://www.aeon-toolkit.org/en/stable/"
   ]
  },
  {
   "cell_type": "code",
   "metadata": {
    "colab": {
     "base_uri": "https://localhost:8080/"
    },
    "executionInfo": {
     "elapsed": 62033,
     "status": "ok",
     "timestamp": 1725122883746,
     "user": {
      "displayName": "Bruno Miglioretto",
      "userId": "07931565830635624050"
     },
     "user_tz": 180
    },
    "id": "7XDMUPC1xGJg",
    "outputId": "0e7bdda1-5f1d-4b89-d82b-2ff600d0cd79",
    "ExecuteTime": {
     "end_time": "2025-03-03T14:04:20.393510Z",
     "start_time": "2025-03-03T14:04:16.654516Z"
    }
   },
   "source": [
    "!pip install aeon\n",
    "!pip install \"dask[dataframe]"
   ],
   "outputs": [
    {
     "name": "stdout",
     "output_type": "stream",
     "text": [
      "Requirement already satisfied: aeon in c:\\users\\bruno\\puc\\iniciacao\\venv\\lib\\site-packages (1.0.0)\n",
      "Requirement already satisfied: deprecated>=1.2.13 in c:\\users\\bruno\\puc\\iniciacao\\venv\\lib\\site-packages (from aeon) (1.2.18)\n",
      "Requirement already satisfied: numba<0.61.0,>=0.55 in c:\\users\\bruno\\puc\\iniciacao\\venv\\lib\\site-packages (from aeon) (0.60.0)\n",
      "Requirement already satisfied: numpy<2.1.0,>=1.21.0 in c:\\users\\bruno\\puc\\iniciacao\\venv\\lib\\site-packages (from aeon) (2.0.2)\n",
      "Requirement already satisfied: packaging>=20.0 in c:\\users\\bruno\\puc\\iniciacao\\venv\\lib\\site-packages (from aeon) (24.2)\n",
      "Requirement already satisfied: pandas<2.3.0,>=2.0.0 in c:\\users\\bruno\\puc\\iniciacao\\venv\\lib\\site-packages (from aeon) (2.2.3)\n",
      "Requirement already satisfied: scikit-learn<1.6.0,>=1.0.0 in c:\\users\\bruno\\puc\\iniciacao\\venv\\lib\\site-packages (from aeon) (1.5.2)\n",
      "Requirement already satisfied: scipy<1.15.0,>=1.9.0 in c:\\users\\bruno\\puc\\iniciacao\\venv\\lib\\site-packages (from aeon) (1.14.1)\n",
      "Requirement already satisfied: typing-extensions>=4.6.0 in c:\\users\\bruno\\puc\\iniciacao\\venv\\lib\\site-packages (from aeon) (4.12.2)\n",
      "Requirement already satisfied: wrapt<2,>=1.10 in c:\\users\\bruno\\puc\\iniciacao\\venv\\lib\\site-packages (from deprecated>=1.2.13->aeon) (1.17.2)\n",
      "Requirement already satisfied: llvmlite<0.44,>=0.43.0dev0 in c:\\users\\bruno\\puc\\iniciacao\\venv\\lib\\site-packages (from numba<0.61.0,>=0.55->aeon) (0.43.0)\n",
      "Requirement already satisfied: python-dateutil>=2.8.2 in c:\\users\\bruno\\puc\\iniciacao\\venv\\lib\\site-packages (from pandas<2.3.0,>=2.0.0->aeon) (2.9.0.post0)\n",
      "Requirement already satisfied: pytz>=2020.1 in c:\\users\\bruno\\puc\\iniciacao\\venv\\lib\\site-packages (from pandas<2.3.0,>=2.0.0->aeon) (2025.1)\n",
      "Requirement already satisfied: tzdata>=2022.7 in c:\\users\\bruno\\puc\\iniciacao\\venv\\lib\\site-packages (from pandas<2.3.0,>=2.0.0->aeon) (2025.1)\n",
      "Requirement already satisfied: joblib>=1.2.0 in c:\\users\\bruno\\puc\\iniciacao\\venv\\lib\\site-packages (from scikit-learn<1.6.0,>=1.0.0->aeon) (1.4.2)\n",
      "Requirement already satisfied: threadpoolctl>=3.1.0 in c:\\users\\bruno\\puc\\iniciacao\\venv\\lib\\site-packages (from scikit-learn<1.6.0,>=1.0.0->aeon) (3.5.0)\n",
      "Requirement already satisfied: six>=1.5 in c:\\users\\bruno\\puc\\iniciacao\\venv\\lib\\site-packages (from python-dateutil>=2.8.2->pandas<2.3.0,>=2.0.0->aeon) (1.17.0)\n"
     ]
    },
    {
     "name": "stderr",
     "output_type": "stream",
     "text": [
      "\n",
      "[notice] A new release of pip is available: 24.3.1 -> 25.0.1\n",
      "[notice] To update, run: python.exe -m pip install --upgrade pip\n"
     ]
    },
    {
     "name": "stdout",
     "output_type": "stream",
     "text": [
      "Requirement already satisfied: dask[dataframe] in c:\\users\\bruno\\puc\\iniciacao\\venv\\lib\\site-packages (2025.2.0)\n",
      "Requirement already satisfied: click>=8.1 in c:\\users\\bruno\\puc\\iniciacao\\venv\\lib\\site-packages (from dask[dataframe]) (8.1.8)\n",
      "Requirement already satisfied: cloudpickle>=3.0.0 in c:\\users\\bruno\\puc\\iniciacao\\venv\\lib\\site-packages (from dask[dataframe]) (3.1.1)\n",
      "Requirement already satisfied: fsspec>=2021.09.0 in c:\\users\\bruno\\puc\\iniciacao\\venv\\lib\\site-packages (from dask[dataframe]) (2025.2.0)\n",
      "Requirement already satisfied: packaging>=20.0 in c:\\users\\bruno\\puc\\iniciacao\\venv\\lib\\site-packages (from dask[dataframe]) (24.2)\n",
      "Requirement already satisfied: partd>=1.4.0 in c:\\users\\bruno\\puc\\iniciacao\\venv\\lib\\site-packages (from dask[dataframe]) (1.4.2)\n",
      "Requirement already satisfied: pyyaml>=5.3.1 in c:\\users\\bruno\\puc\\iniciacao\\venv\\lib\\site-packages (from dask[dataframe]) (6.0.2)\n",
      "Requirement already satisfied: toolz>=0.10.0 in c:\\users\\bruno\\puc\\iniciacao\\venv\\lib\\site-packages (from dask[dataframe]) (1.0.0)\n",
      "Requirement already satisfied: pandas>=2.0 in c:\\users\\bruno\\puc\\iniciacao\\venv\\lib\\site-packages (from dask[dataframe]) (2.2.3)\n",
      "Requirement already satisfied: pyarrow>=14.0.1 in c:\\users\\bruno\\puc\\iniciacao\\venv\\lib\\site-packages (from dask[dataframe]) (19.0.1)\n",
      "Requirement already satisfied: colorama in c:\\users\\bruno\\puc\\iniciacao\\venv\\lib\\site-packages (from click>=8.1->dask[dataframe]) (0.4.6)\n",
      "Requirement already satisfied: numpy>=1.26.0 in c:\\users\\bruno\\puc\\iniciacao\\venv\\lib\\site-packages (from pandas>=2.0->dask[dataframe]) (2.0.2)\n",
      "Requirement already satisfied: python-dateutil>=2.8.2 in c:\\users\\bruno\\puc\\iniciacao\\venv\\lib\\site-packages (from pandas>=2.0->dask[dataframe]) (2.9.0.post0)\n",
      "Requirement already satisfied: pytz>=2020.1 in c:\\users\\bruno\\puc\\iniciacao\\venv\\lib\\site-packages (from pandas>=2.0->dask[dataframe]) (2025.1)\n",
      "Requirement already satisfied: tzdata>=2022.7 in c:\\users\\bruno\\puc\\iniciacao\\venv\\lib\\site-packages (from pandas>=2.0->dask[dataframe]) (2025.1)\n",
      "Requirement already satisfied: locket in c:\\users\\bruno\\puc\\iniciacao\\venv\\lib\\site-packages (from partd>=1.4.0->dask[dataframe]) (1.0.0)\n",
      "Requirement already satisfied: six>=1.5 in c:\\users\\bruno\\puc\\iniciacao\\venv\\lib\\site-packages (from python-dateutil>=2.8.2->pandas>=2.0->dask[dataframe]) (1.17.0)\n"
     ]
    },
    {
     "name": "stderr",
     "output_type": "stream",
     "text": [
      "\n",
      "[notice] A new release of pip is available: 24.3.1 -> 25.0.1\n",
      "[notice] To update, run: python.exe -m pip install --upgrade pip\n"
     ]
    }
   ],
   "execution_count": 1
  },
  {
   "cell_type": "code",
   "metadata": {
    "colab": {
     "base_uri": "https://localhost:8080/"
    },
    "executionInfo": {
     "elapsed": 167079,
     "status": "ok",
     "timestamp": 1725123066855,
     "user": {
      "displayName": "Bruno Miglioretto",
      "userId": "07931565830635624050"
     },
     "user_tz": 180
    },
    "id": "jKv0ySZ2yJjm",
    "outputId": "f26072f1-7801-4cd9-b9e9-3239421edb8d",
    "ExecuteTime": {
     "end_time": "2025-03-03T14:04:31.214443Z",
     "start_time": "2025-03-03T14:04:27.531766Z"
    }
   },
   "source": [
    "import matplotlib.pyplot as plt\n",
    "import numpy as np\n",
    "import pandas as pd\n",
    "\n",
    "\n",
    "from sklearn.metrics import accuracy_score\n",
    "from sklearn.linear_model import RidgeClassifierCV\n",
    "\n",
    "from aeon.transformations.collection.convolution_based import Rocket, MiniRocket\n",
    "\n",
    "from aeon.datasets.tsc_datasets import multivariate\n",
    "from aeon.datasets import load_classification"
   ],
   "outputs": [],
   "execution_count": 2
  },
  {
   "cell_type": "markdown",
   "metadata": {
    "id": "eEodthq4yo8B"
   },
   "source": [
    "Lista de todos os datasets multivariados que serão utilizados na avaliação experimental.\n",
    "\n",
    "Os conjuntos de dados já estão divididos nas partições de treino/teste."
   ]
  },
  {
   "cell_type": "code",
   "metadata": {
    "colab": {
     "base_uri": "https://localhost:8080/"
    },
    "executionInfo": {
     "elapsed": 4,
     "status": "ok",
     "timestamp": 1725123066856,
     "user": {
      "displayName": "Bruno Miglioretto",
      "userId": "07931565830635624050"
     },
     "user_tz": 180
    },
    "id": "uUndhJWCyWXQ",
    "outputId": "74abe7d2-ac0e-4408-9543-32e3f73d47d0",
    "ExecuteTime": {
     "end_time": "2025-03-03T13:34:40.912565Z",
     "start_time": "2025-03-03T13:34:40.905433Z"
    }
   },
   "source": [
    "from aeon.datasets.tsc_datasets import multivariate\n",
    "\n",
    "print(f'Total de {len(multivariate)} datasets')\n",
    "print(f'Nomes dos datasets:')\n",
    "multivariate"
   ],
   "outputs": [
    {
     "name": "stdout",
     "output_type": "stream",
     "text": [
      "Total de 30 datasets\n",
      "Nomes dos datasets:\n"
     ]
    },
    {
     "data": {
      "text/plain": [
       "['ArticularyWordRecognition',\n",
       " 'AtrialFibrillation',\n",
       " 'BasicMotions',\n",
       " 'CharacterTrajectories',\n",
       " 'Cricket',\n",
       " 'DuckDuckGeese',\n",
       " 'EigenWorms',\n",
       " 'Epilepsy',\n",
       " 'EthanolConcentration',\n",
       " 'ERing',\n",
       " 'FaceDetection',\n",
       " 'FingerMovements',\n",
       " 'HandMovementDirection',\n",
       " 'Handwriting',\n",
       " 'Heartbeat',\n",
       " 'InsectWingbeat',\n",
       " 'JapaneseVowels',\n",
       " 'Libras',\n",
       " 'LSST',\n",
       " 'MotorImagery',\n",
       " 'NATOPS',\n",
       " 'PenDigits',\n",
       " 'PEMS-SF',\n",
       " 'PhonemeSpectra',\n",
       " 'RacketSports',\n",
       " 'SelfRegulationSCP1',\n",
       " 'SelfRegulationSCP2',\n",
       " 'SpokenArabicDigits',\n",
       " 'StandWalkJump',\n",
       " 'UWaveGestureLibrary']"
      ]
     },
     "execution_count": 3,
     "metadata": {},
     "output_type": "execute_result"
    }
   ],
   "execution_count": 3
  },
  {
   "cell_type": "code",
   "metadata": {
    "colab": {
     "base_uri": "https://localhost:8080/"
    },
    "executionInfo": {
     "elapsed": 2051,
     "status": "ok",
     "timestamp": 1724955507559,
     "user": {
      "displayName": "Vinícius Souza",
      "userId": "16426429978467319296"
     },
     "user_tz": 180
    },
    "id": "U2JEllZ3NbhD",
    "outputId": "0a438324-02ed-4781-8339-20875683b92d",
    "ExecuteTime": {
     "end_time": "2025-03-03T13:34:51.676255Z",
     "start_time": "2025-03-03T13:34:48.328988Z"
    }
   },
   "source": [
    "# como carregar os dados de treino/teste de um conjunto de dados nas variáveis X_train, y_train\n",
    "X_train, y_train = load_classification('UWaveGestureLibrary', split=\"Train\")\n",
    "\n",
    "# cada exemplo é multivariado, ou seja, é composto por mais de uma série temporal\n",
    "# para o dataset escolhido, temos:\n",
    "print(f'Quantidade de exemplos de treino: {X_train.shape[0]}')\n",
    "print(f'Cada exemplo tem {X_train.shape[1]} variáveis')\n",
    "print(f'Cada variável possui {X_train.shape[2]} observações')"
   ],
   "outputs": [
    {
     "name": "stdout",
     "output_type": "stream",
     "text": [
      "Quantidade de exemplos de treino: 120\n",
      "Cada exemplo tem 3 variáveis\n",
      "Cada variável possui 315 observações\n"
     ]
    }
   ],
   "execution_count": 4
  },
  {
   "cell_type": "code",
   "metadata": {
    "ExecuteTime": {
     "end_time": "2025-03-03T13:34:57.913261Z",
     "start_time": "2025-03-03T13:34:57.909260Z"
    }
   },
   "source": [
    "print(X_train.shape)\n",
    "print(X_train.ndim)"
   ],
   "outputs": [
    {
     "name": "stdout",
     "output_type": "stream",
     "text": [
      "(120, 3, 315)\n",
      "3\n"
     ]
    }
   ],
   "execution_count": 5
  },
  {
   "cell_type": "code",
   "metadata": {
    "colab": {
     "base_uri": "https://localhost:8080/",
     "height": 211
    },
    "executionInfo": {
     "elapsed": 836,
     "status": "error",
     "timestamp": 1725122817121,
     "user": {
      "displayName": "Bruno Miglioretto",
      "userId": "07931565830635624050"
     },
     "user_tz": 180
    },
    "id": "ysXs2rEcJqFl",
    "outputId": "9859b44e-8867-4b8e-ad2d-fcd9a3f13e5c",
    "ExecuteTime": {
     "end_time": "2025-03-03T13:35:01.769527Z",
     "start_time": "2025-03-03T13:35:01.557597Z"
    }
   },
   "source": [
    "# vamos visualizar as séries do 15o exemplo do conjunto de treinamento\n",
    "# veja como esses exemplos são acessados para entender como gerar as imagens\n",
    "plt.figure(figsize=(7,3))\n",
    "for dim in range(X_train.shape[1]):\n",
    "  plt.plot(X_train[15][dim], linewidth=2, alpha=0.6, label=f'Variable {dim}')\n",
    "\n",
    "plt.xlabel('Time')\n",
    "plt.ylabel('Magnitude')\n",
    "plt.legend(loc=\"upper center\", ncols=3)"
   ],
   "outputs": [
    {
     "data": {
      "text/plain": [
       "<matplotlib.legend.Legend at 0x1c98ef60440>"
      ]
     },
     "execution_count": 6,
     "metadata": {},
     "output_type": "execute_result"
    },
    {
     "data": {
      "text/plain": [
       "<Figure size 700x300 with 1 Axes>"
      ],
      "image/png": "[encoded data removed]"
     },
     "metadata": {},
     "output_type": "display_data"
    }
   ],
   "execution_count": 6
  },
  {
   "cell_type": "markdown",
   "metadata": {
    "id": "u1JakiuCJYQH"
   },
   "source": [
    "Vamos utilizar como algoritmo base em nossos experimentos, os classificadores **Rocke**t e **MiniRocket**\n",
    "\n",
    "* Video explicando o funcionamento do Rocket/MiniRocket\n",
    "\n",
    "  https://www.youtube.com/watch?v=ugx4hdytUXI\n",
    "\n",
    "* Explicação sobre o Rocket (AEON) - Caso ainda tenham dúvidas, busquem os artigos originais: *ROCKET: exceptionally fast and accurate time series classification using random convolutional kernels* e *Minirocket: A very fast (almost) deterministic transform for time series classification*\n",
    "\n",
    "  https://www.aeon-toolkit.org/en/stable/examples/classification/convolution_based.html\n",
    "\n",
    "* Como usar o Rocket na biblioteca AEON:\n",
    "\n",
    "  https://www.aeon-toolkit.org/en/stable/api_reference/auto_generated/aeon.transformations.collection.convolution_based.Rocket.html\n",
    "\n",
    "* Como usar o MiniRocket na biblioteca AEON:\n",
    "\n",
    "  https://www.aeon-toolkit.org/en/stable/api_reference/auto_generated/aeon.transformations.collection.convolution_based.MiniRocket.html"
   ]
  },
  {
   "cell_type": "markdown",
   "metadata": {
    "id": "Opp4jPjKy2l7"
   },
   "source": [
    "Vamos escolher 1 dataset específico para treinar um classificador Rocket e avaliar o seu desempenho com dados de teste"
   ]
  },
  {
   "cell_type": "code",
   "metadata": {
    "colab": {
     "base_uri": "https://localhost:8080/"
    },
    "executionInfo": {
     "elapsed": 962,
     "status": "ok",
     "timestamp": 1724955721379,
     "user": {
      "displayName": "Vinícius Souza",
      "userId": "16426429978467319296"
     },
     "user_tz": 180
    },
    "id": "vE1XY0l0LSVS",
    "outputId": "b23e4675-884f-4d34-c16f-4cd150766fd9",
    "ExecuteTime": {
     "end_time": "2025-03-03T14:14:01.598594Z",
     "start_time": "2025-03-03T14:12:28.419520Z"
    }
   },
   "source": [
    "dataset = 'InsectWingbeat'\n",
    "\n",
    "# carrega as partições de treino e teste\n",
    "X_train, y_train = load_classification(dataset, split=\"Train\")\n",
    "X_test, y_test = load_classification(dataset, split=\"Test\")\n",
    "\n",
    "# instanciação do Rocket para a transformação dos dados (também vamos usar o MiniRocket, uma variação mais rápida e precisa do Rocket)\n",
    "rocket = Rocket(n_kernels=10000, n_jobs=-1, random_state=6) # você pode substituir Rocket() por MiniRocket() sem alteração de parâmetros\n",
    "rocket.fit(X_train)\n",
    "\n",
    "# transformação dos dados usando Rocket\n",
    "X_train2 = rocket.transform(X_train)\n",
    "X_test2 = rocket.transform(X_test)\n",
    "\n",
    "# instanciação do classificador Ridge\n",
    "classifier = RidgeClassifierCV(alphas=np.logspace(-3, 3, 10))\n",
    "\n",
    "# treinamento do classificador com dados de treino\n",
    "classifier.fit(X_train, y_train)\n",
    "\n",
    "# classificação dos exemplos de teste\n",
    "acc = classifier.score(X_test, y_test)\n",
    "\n",
    "print(f'Acurácia: {acc}')\n"
   ],
   "outputs": [],
   "execution_count": 9
  },
  {
   "cell_type": "markdown",
   "metadata": {
    "id": "C-pjyOiC1IjB"
   },
   "source": [
    "Façam um código para o treinamento/teste do classificador para cada um dos 30 datasets e ao final, salvar os resultados em um arquivo CSV com 3 colunas, sendo:\n",
    "\n",
    "dataset, Rocket, MiniRocket\n",
    "\n",
    "\n",
    "Os resultados deste arquivo serão utilizados para comparar os resultados da abordagem proposta em nosso projeto, em que usamos representações visuais dos dados"
   ]
  },
  {
   "cell_type": "code",
   "execution_count": 16,
   "metadata": {
    "id": "dhDuqgLnz20U"
   },
   "outputs": [
    {
     "name": "stdout",
     "output_type": "stream",
     "text": [
      "JapaneseVowels\n",
      "Rocket\n",
      "Acurácia: 0.8378378378378378\n",
      "MiniRocket\n",
      "Acurácia: 0.5459459459459459\n",
      "----------Result----------\n",
      "{'dataset': ['JapaneseVowels'], 'Rocket': [0.8378378378378378], 'MiniRocket': [0.5459459459459459]}\n",
      "Handwriting\n",
      "Rocket\n",
      "Acurácia: 0.5364705882352941\n",
      "MiniRocket\n",
      "Acurácia: 0.15411764705882353\n",
      "----------Result----------\n",
      "{'dataset': ['JapaneseVowels', 'Handwriting'], 'Rocket': [0.8378378378378378, 0.5364705882352941], 'MiniRocket': [0.5459459459459459, 0.15411764705882353]}\n",
      "UWaveGestureLibrary\n",
      "Rocket\n",
      "Acurácia: 0.915625\n",
      "MiniRocket\n",
      "Acurácia: 0.778125\n",
      "----------Result----------\n",
      "{'dataset': ['JapaneseVowels', 'Handwriting', 'UWaveGestureLibrary'], 'Rocket': [0.8378378378378378, 0.5364705882352941, 0.915625], 'MiniRocket': [0.5459459459459459, 0.15411764705882353, 0.778125]}\n",
      "EigenWorms\n",
      "Rocket\n",
      "Acurácia: 0.8702290076335878\n",
      "MiniRocket\n",
      "Acurácia: 0.7480916030534351\n",
      "----------Result----------\n",
      "{'dataset': ['JapaneseVowels', 'Handwriting', 'UWaveGestureLibrary', 'EigenWorms'], 'Rocket': [0.8378378378378378, 0.5364705882352941, 0.915625, 0.8702290076335878], 'MiniRocket': [0.5459459459459459, 0.15411764705882353, 0.778125, 0.7480916030534351]}\n",
      "RacketSports\n",
      "Rocket\n",
      "Acurácia: 0.8947368421052632\n",
      "MiniRocket\n",
      "Acurácia: 0.6907894736842105\n",
      "----------Result----------\n",
      "{'dataset': ['JapaneseVowels', 'Handwriting', 'UWaveGestureLibrary', 'EigenWorms', 'RacketSports'], 'Rocket': [0.8378378378378378, 0.5364705882352941, 0.915625, 0.8702290076335878, 0.8947368421052632], 'MiniRocket': [0.5459459459459459, 0.15411764705882353, 0.778125, 0.7480916030534351, 0.6907894736842105]}\n",
      "MotorImagery\n",
      "Rocket\n",
      "Acurácia: 0.52\n",
      "MiniRocket\n",
      "Acurácia: 0.51\n",
      "----------Result----------\n",
      "{'dataset': ['JapaneseVowels', 'Handwriting', 'UWaveGestureLibrary', 'EigenWorms', 'RacketSports', 'MotorImagery'], 'Rocket': [0.8378378378378378, 0.5364705882352941, 0.915625, 0.8702290076335878, 0.8947368421052632, 0.52], 'MiniRocket': [0.5459459459459459, 0.15411764705882353, 0.778125, 0.7480916030534351, 0.6907894736842105, 0.51]}\n",
      "SelfRegulationSCP2\n",
      "Rocket\n",
      "Acurácia: 0.5555555555555556\n",
      "MiniRocket\n",
      "Acurácia: 0.5166666666666667\n",
      "----------Result----------\n",
      "{'dataset': ['JapaneseVowels', 'Handwriting', 'UWaveGestureLibrary', 'EigenWorms', 'RacketSports', 'MotorImagery', 'SelfRegulationSCP2'], 'Rocket': [0.8378378378378378, 0.5364705882352941, 0.915625, 0.8702290076335878, 0.8947368421052632, 0.52, 0.5555555555555556], 'MiniRocket': [0.5459459459459459, 0.15411764705882353, 0.778125, 0.7480916030534351, 0.6907894736842105, 0.51, 0.5166666666666667]}\n",
      "FingerMovements\n",
      "Rocket\n",
      "Acurácia: 0.54\n",
      "MiniRocket\n",
      "Acurácia: 0.48\n",
      "----------Result----------\n",
      "{'dataset': ['JapaneseVowels', 'Handwriting', 'UWaveGestureLibrary', 'EigenWorms', 'RacketSports', 'MotorImagery', 'SelfRegulationSCP2', 'FingerMovements'], 'Rocket': [0.8378378378378378, 0.5364705882352941, 0.915625, 0.8702290076335878, 0.8947368421052632, 0.52, 0.5555555555555556, 0.54], 'MiniRocket': [0.5459459459459459, 0.15411764705882353, 0.778125, 0.7480916030534351, 0.6907894736842105, 0.51, 0.5166666666666667, 0.48]}\n",
      "SpokenArabicDigits\n",
      "Rocket\n",
      "Acurácia: 0.98681218735789\n",
      "MiniRocket\n",
      "Acurácia: 0.9758981355161437\n",
      "----------Result----------\n",
      "{'dataset': ['JapaneseVowels', 'Handwriting', 'UWaveGestureLibrary', 'EigenWorms', 'RacketSports', 'MotorImagery', 'SelfRegulationSCP2', 'FingerMovements', 'SpokenArabicDigits'], 'Rocket': [0.8378378378378378, 0.5364705882352941, 0.915625, 0.8702290076335878, 0.8947368421052632, 0.52, 0.5555555555555556, 0.54, 0.98681218735789], 'MiniRocket': [0.5459459459459459, 0.15411764705882353, 0.778125, 0.7480916030534351, 0.6907894736842105, 0.51, 0.5166666666666667, 0.48, 0.9758981355161437]}\n",
      "PenDigits\n",
      "Rocket\n",
      "Acurácia: 0.982275586049171\n",
      "MiniRocket\n",
      "Acurácia: 0.9791309319611207\n",
      "----------Result----------\n",
      "{'dataset': ['JapaneseVowels', 'Handwriting', 'UWaveGestureLibrary', 'EigenWorms', 'RacketSports', 'MotorImagery', 'SelfRegulationSCP2', 'FingerMovements', 'SpokenArabicDigits', 'PenDigits'], 'Rocket': [0.8378378378378378, 0.5364705882352941, 0.915625, 0.8702290076335878, 0.8947368421052632, 0.52, 0.5555555555555556, 0.54, 0.98681218735789, 0.982275586049171], 'MiniRocket': [0.5459459459459459, 0.15411764705882353, 0.778125, 0.7480916030534351, 0.6907894736842105, 0.51, 0.5166666666666667, 0.48, 0.9758981355161437, 0.9791309319611207]}\n",
      "ArticularyWordRecognition\n",
      "Rocket\n",
      "Acurácia: 0.9933333333333333\n",
      "MiniRocket\n",
      "Acurácia: 0.9633333333333334\n",
      "----------Result----------\n",
      "{'dataset': ['JapaneseVowels', 'Handwriting', 'UWaveGestureLibrary', 'EigenWorms', 'RacketSports', 'MotorImagery', 'SelfRegulationSCP2', 'FingerMovements', 'SpokenArabicDigits', 'PenDigits', 'ArticularyWordRecognition'], 'Rocket': [0.8378378378378378, 0.5364705882352941, 0.915625, 0.8702290076335878, 0.8947368421052632, 0.52, 0.5555555555555556, 0.54, 0.98681218735789, 0.982275586049171, 0.9933333333333333], 'MiniRocket': [0.5459459459459459, 0.15411764705882353, 0.778125, 0.7480916030534351, 0.6907894736842105, 0.51, 0.5166666666666667, 0.48, 0.9758981355161437, 0.9791309319611207, 0.9633333333333334]}\n",
      "Cricket\n",
      "Rocket\n",
      "Acurácia: 0.9861111111111112\n",
      "MiniRocket\n",
      "Acurácia: 0.9166666666666666\n",
      "----------Result----------\n",
      "{'dataset': ['JapaneseVowels', 'Handwriting', 'UWaveGestureLibrary', 'EigenWorms', 'RacketSports', 'MotorImagery', 'SelfRegulationSCP2', 'FingerMovements', 'SpokenArabicDigits', 'PenDigits', 'ArticularyWordRecognition', 'Cricket'], 'Rocket': [0.8378378378378378, 0.5364705882352941, 0.915625, 0.8702290076335878, 0.8947368421052632, 0.52, 0.5555555555555556, 0.54, 0.98681218735789, 0.982275586049171, 0.9933333333333333, 0.9861111111111112], 'MiniRocket': [0.5459459459459459, 0.15411764705882353, 0.778125, 0.7480916030534351, 0.6907894736842105, 0.51, 0.5166666666666667, 0.48, 0.9758981355161437, 0.9791309319611207, 0.9633333333333334, 0.9166666666666666]}\n",
      "HandMovementDirection\n",
      "Rocket\n",
      "Acurácia: 0.44594594594594594\n",
      "MiniRocket\n",
      "Acurácia: 0.2702702702702703\n",
      "----------Result----------\n",
      "{'dataset': ['JapaneseVowels', 'Handwriting', 'UWaveGestureLibrary', 'EigenWorms', 'RacketSports', 'MotorImagery', 'SelfRegulationSCP2', 'FingerMovements', 'SpokenArabicDigits', 'PenDigits', 'ArticularyWordRecognition', 'Cricket', 'HandMovementDirection'], 'Rocket': [0.8378378378378378, 0.5364705882352941, 0.915625, 0.8702290076335878, 0.8947368421052632, 0.52, 0.5555555555555556, 0.54, 0.98681218735789, 0.982275586049171, 0.9933333333333333, 0.9861111111111112, 0.44594594594594594], 'MiniRocket': [0.5459459459459459, 0.15411764705882353, 0.778125, 0.7480916030534351, 0.6907894736842105, 0.51, 0.5166666666666667, 0.48, 0.9758981355161437, 0.9791309319611207, 0.9633333333333334, 0.9166666666666666, 0.2702702702702703]}\n",
      "InsectWingbeat\n",
      "Erro: InsectWingbeat - MiniRocket\n",
      "----------Result----------\n",
      "{'dataset': ['JapaneseVowels', 'Handwriting', 'UWaveGestureLibrary', 'EigenWorms', 'RacketSports', 'MotorImagery', 'SelfRegulationSCP2', 'FingerMovements', 'SpokenArabicDigits', 'PenDigits', 'ArticularyWordRecognition', 'Cricket', 'HandMovementDirection', 'InsectWingbeat'], 'Rocket': [0.8378378378378378, 0.5364705882352941, 0.915625, 0.8702290076335878, 0.8947368421052632, 0.52, 0.5555555555555556, 0.54, 0.98681218735789, 0.982275586049171, 0.9933333333333333, 0.9861111111111112, 0.44594594594594594, None], 'MiniRocket': [0.5459459459459459, 0.15411764705882353, 0.778125, 0.7480916030534351, 0.6907894736842105, 0.51, 0.5166666666666667, 0.48, 0.9758981355161437, 0.9791309319611207, 0.9633333333333334, 0.9166666666666666, 0.2702702702702703, None]}\n",
      "Libras\n",
      "Rocket\n",
      "Acurácia: 0.8666666666666667\n",
      "MiniRocket\n",
      "Acurácia: 0.7888888888888889\n",
      "----------Result----------\n",
      "{'dataset': ['JapaneseVowels', 'Handwriting', 'UWaveGestureLibrary', 'EigenWorms', 'RacketSports', 'MotorImagery', 'SelfRegulationSCP2', 'FingerMovements', 'SpokenArabicDigits', 'PenDigits', 'ArticularyWordRecognition', 'Cricket', 'HandMovementDirection', 'InsectWingbeat', 'Libras'], 'Rocket': [0.8378378378378378, 0.5364705882352941, 0.915625, 0.8702290076335878, 0.8947368421052632, 0.52, 0.5555555555555556, 0.54, 0.98681218735789, 0.982275586049171, 0.9933333333333333, 0.9861111111111112, 0.44594594594594594, None, 0.8666666666666667], 'MiniRocket': [0.5459459459459459, 0.15411764705882353, 0.778125, 0.7480916030534351, 0.6907894736842105, 0.51, 0.5166666666666667, 0.48, 0.9758981355161437, 0.9791309319611207, 0.9633333333333334, 0.9166666666666666, 0.2702702702702703, None, 0.7888888888888889]}\n",
      "Heartbeat\n",
      "Rocket\n",
      "Acurácia: 0.6926829268292682\n",
      "MiniRocket\n",
      "Acurácia: 0.7219512195121951\n",
      "----------Result----------\n",
      "{'dataset': ['JapaneseVowels', 'Handwriting', 'UWaveGestureLibrary', 'EigenWorms', 'RacketSports', 'MotorImagery', 'SelfRegulationSCP2', 'FingerMovements', 'SpokenArabicDigits', 'PenDigits', 'ArticularyWordRecognition', 'Cricket', 'HandMovementDirection', 'InsectWingbeat', 'Libras', 'Heartbeat'], 'Rocket': [0.8378378378378378, 0.5364705882352941, 0.915625, 0.8702290076335878, 0.8947368421052632, 0.52, 0.5555555555555556, 0.54, 0.98681218735789, 0.982275586049171, 0.9933333333333333, 0.9861111111111112, 0.44594594594594594, None, 0.8666666666666667, 0.6926829268292682], 'MiniRocket': [0.5459459459459459, 0.15411764705882353, 0.778125, 0.7480916030534351, 0.6907894736842105, 0.51, 0.5166666666666667, 0.48, 0.9758981355161437, 0.9791309319611207, 0.9633333333333334, 0.9166666666666666, 0.2702702702702703, None, 0.7888888888888889, 0.7219512195121951]}\n",
      "ERing\n",
      "Rocket\n",
      "Acurácia: 0.9592592592592593\n",
      "MiniRocket\n",
      "Acurácia: 0.7851851851851852\n",
      "----------Result----------\n",
      "{'dataset': ['JapaneseVowels', 'Handwriting', 'UWaveGestureLibrary', 'EigenWorms', 'RacketSports', 'MotorImagery', 'SelfRegulationSCP2', 'FingerMovements', 'SpokenArabicDigits', 'PenDigits', 'ArticularyWordRecognition', 'Cricket', 'HandMovementDirection', 'InsectWingbeat', 'Libras', 'Heartbeat', 'ERing'], 'Rocket': [0.8378378378378378, 0.5364705882352941, 0.915625, 0.8702290076335878, 0.8947368421052632, 0.52, 0.5555555555555556, 0.54, 0.98681218735789, 0.982275586049171, 0.9933333333333333, 0.9861111111111112, 0.44594594594594594, None, 0.8666666666666667, 0.6926829268292682, 0.9592592592592593], 'MiniRocket': [0.5459459459459459, 0.15411764705882353, 0.778125, 0.7480916030534351, 0.6907894736842105, 0.51, 0.5166666666666667, 0.48, 0.9758981355161437, 0.9791309319611207, 0.9633333333333334, 0.9166666666666666, 0.2702702702702703, None, 0.7888888888888889, 0.7219512195121951, 0.7851851851851852]}\n",
      "AtrialFibrillation\n",
      "Rocket\n",
      "Acurácia: 0.13333333333333333\n",
      "MiniRocket\n",
      "Acurácia: 0.06666666666666667\n",
      "----------Result----------\n",
      "{'dataset': ['JapaneseVowels', 'Handwriting', 'UWaveGestureLibrary', 'EigenWorms', 'RacketSports', 'MotorImagery', 'SelfRegulationSCP2', 'FingerMovements', 'SpokenArabicDigits', 'PenDigits', 'ArticularyWordRecognition', 'Cricket', 'HandMovementDirection', 'InsectWingbeat', 'Libras', 'Heartbeat', 'ERing', 'AtrialFibrillation'], 'Rocket': [0.8378378378378378, 0.5364705882352941, 0.915625, 0.8702290076335878, 0.8947368421052632, 0.52, 0.5555555555555556, 0.54, 0.98681218735789, 0.982275586049171, 0.9933333333333333, 0.9861111111111112, 0.44594594594594594, None, 0.8666666666666667, 0.6926829268292682, 0.9592592592592593, 0.13333333333333333], 'MiniRocket': [0.5459459459459459, 0.15411764705882353, 0.778125, 0.7480916030534351, 0.6907894736842105, 0.51, 0.5166666666666667, 0.48, 0.9758981355161437, 0.9791309319611207, 0.9633333333333334, 0.9166666666666666, 0.2702702702702703, None, 0.7888888888888889, 0.7219512195121951, 0.7851851851851852, 0.06666666666666667]}\n",
      "EthanolConcentration\n",
      "Rocket\n",
      "Acurácia: 0.376425855513308\n",
      "MiniRocket\n",
      "Acurácia: 0.28517110266159695\n",
      "----------Result----------\n",
      "{'dataset': ['JapaneseVowels', 'Handwriting', 'UWaveGestureLibrary', 'EigenWorms', 'RacketSports', 'MotorImagery', 'SelfRegulationSCP2', 'FingerMovements', 'SpokenArabicDigits', 'PenDigits', 'ArticularyWordRecognition', 'Cricket', 'HandMovementDirection', 'InsectWingbeat', 'Libras', 'Heartbeat', 'ERing', 'AtrialFibrillation', 'EthanolConcentration'], 'Rocket': [0.8378378378378378, 0.5364705882352941, 0.915625, 0.8702290076335878, 0.8947368421052632, 0.52, 0.5555555555555556, 0.54, 0.98681218735789, 0.982275586049171, 0.9933333333333333, 0.9861111111111112, 0.44594594594594594, None, 0.8666666666666667, 0.6926829268292682, 0.9592592592592593, 0.13333333333333333, 0.376425855513308], 'MiniRocket': [0.5459459459459459, 0.15411764705882353, 0.778125, 0.7480916030534351, 0.6907894736842105, 0.51, 0.5166666666666667, 0.48, 0.9758981355161437, 0.9791309319611207, 0.9633333333333334, 0.9166666666666666, 0.2702702702702703, None, 0.7888888888888889, 0.7219512195121951, 0.7851851851851852, 0.06666666666666667, 0.28517110266159695]}\n",
      "CharacterTrajectories\n",
      "Rocket\n",
      "Acurácia: 0.9895543175487466\n",
      "MiniRocket\n",
      "Acurácia: 0.9888579387186629\n",
      "----------Result----------\n",
      "{'dataset': ['JapaneseVowels', 'Handwriting', 'UWaveGestureLibrary', 'EigenWorms', 'RacketSports', 'MotorImagery', 'SelfRegulationSCP2', 'FingerMovements', 'SpokenArabicDigits', 'PenDigits', 'ArticularyWordRecognition', 'Cricket', 'HandMovementDirection', 'InsectWingbeat', 'Libras', 'Heartbeat', 'ERing', 'AtrialFibrillation', 'EthanolConcentration', 'CharacterTrajectories'], 'Rocket': [0.8378378378378378, 0.5364705882352941, 0.915625, 0.8702290076335878, 0.8947368421052632, 0.52, 0.5555555555555556, 0.54, 0.98681218735789, 0.982275586049171, 0.9933333333333333, 0.9861111111111112, 0.44594594594594594, None, 0.8666666666666667, 0.6926829268292682, 0.9592592592592593, 0.13333333333333333, 0.376425855513308, 0.9895543175487466], 'MiniRocket': [0.5459459459459459, 0.15411764705882353, 0.778125, 0.7480916030534351, 0.6907894736842105, 0.51, 0.5166666666666667, 0.48, 0.9758981355161437, 0.9791309319611207, 0.9633333333333334, 0.9166666666666666, 0.2702702702702703, None, 0.7888888888888889, 0.7219512195121951, 0.7851851851851852, 0.06666666666666667, 0.28517110266159695, 0.9888579387186629]}\n",
      "FaceDetection\n",
      "Rocket\n",
      "Acurácia: 0.5729284903518729\n",
      "MiniRocket\n",
      "Acurácia: 0.5598751418842225\n",
      "----------Result----------\n",
      "{'dataset': ['JapaneseVowels', 'Handwriting', 'UWaveGestureLibrary', 'EigenWorms', 'RacketSports', 'MotorImagery', 'SelfRegulationSCP2', 'FingerMovements', 'SpokenArabicDigits', 'PenDigits', 'ArticularyWordRecognition', 'Cricket', 'HandMovementDirection', 'InsectWingbeat', 'Libras', 'Heartbeat', 'ERing', 'AtrialFibrillation', 'EthanolConcentration', 'CharacterTrajectories', 'FaceDetection'], 'Rocket': [0.8378378378378378, 0.5364705882352941, 0.915625, 0.8702290076335878, 0.8947368421052632, 0.52, 0.5555555555555556, 0.54, 0.98681218735789, 0.982275586049171, 0.9933333333333333, 0.9861111111111112, 0.44594594594594594, None, 0.8666666666666667, 0.6926829268292682, 0.9592592592592593, 0.13333333333333333, 0.376425855513308, 0.9895543175487466, 0.5729284903518729], 'MiniRocket': [0.5459459459459459, 0.15411764705882353, 0.778125, 0.7480916030534351, 0.6907894736842105, 0.51, 0.5166666666666667, 0.48, 0.9758981355161437, 0.9791309319611207, 0.9633333333333334, 0.9166666666666666, 0.2702702702702703, None, 0.7888888888888889, 0.7219512195121951, 0.7851851851851852, 0.06666666666666667, 0.28517110266159695, 0.9888579387186629, 0.5598751418842225]}\n",
      "NATOPS\n",
      "Rocket\n",
      "Acurácia: 0.8722222222222222\n",
      "MiniRocket\n",
      "Acurácia: 0.6\n",
      "----------Result----------\n",
      "{'dataset': ['JapaneseVowels', 'Handwriting', 'UWaveGestureLibrary', 'EigenWorms', 'RacketSports', 'MotorImagery', 'SelfRegulationSCP2', 'FingerMovements', 'SpokenArabicDigits', 'PenDigits', 'ArticularyWordRecognition', 'Cricket', 'HandMovementDirection', 'InsectWingbeat', 'Libras', 'Heartbeat', 'ERing', 'AtrialFibrillation', 'EthanolConcentration', 'CharacterTrajectories', 'FaceDetection', 'NATOPS'], 'Rocket': [0.8378378378378378, 0.5364705882352941, 0.915625, 0.8702290076335878, 0.8947368421052632, 0.52, 0.5555555555555556, 0.54, 0.98681218735789, 0.982275586049171, 0.9933333333333333, 0.9861111111111112, 0.44594594594594594, None, 0.8666666666666667, 0.6926829268292682, 0.9592592592592593, 0.13333333333333333, 0.376425855513308, 0.9895543175487466, 0.5729284903518729, 0.8722222222222222], 'MiniRocket': [0.5459459459459459, 0.15411764705882353, 0.778125, 0.7480916030534351, 0.6907894736842105, 0.51, 0.5166666666666667, 0.48, 0.9758981355161437, 0.9791309319611207, 0.9633333333333334, 0.9166666666666666, 0.2702702702702703, None, 0.7888888888888889, 0.7219512195121951, 0.7851851851851852, 0.06666666666666667, 0.28517110266159695, 0.9888579387186629, 0.5598751418842225, 0.6]}\n",
      "PEMS-SF\n",
      "Rocket\n",
      "Acurácia: 0.815028901734104\n",
      "MiniRocket\n",
      "Acurácia: 0.6589595375722543\n",
      "----------Result----------\n",
      "{'dataset': ['JapaneseVowels', 'Handwriting', 'UWaveGestureLibrary', 'EigenWorms', 'RacketSports', 'MotorImagery', 'SelfRegulationSCP2', 'FingerMovements', 'SpokenArabicDigits', 'PenDigits', 'ArticularyWordRecognition', 'Cricket', 'HandMovementDirection', 'InsectWingbeat', 'Libras', 'Heartbeat', 'ERing', 'AtrialFibrillation', 'EthanolConcentration', 'CharacterTrajectories', 'FaceDetection', 'NATOPS', 'PEMS-SF'], 'Rocket': [0.8378378378378378, 0.5364705882352941, 0.915625, 0.8702290076335878, 0.8947368421052632, 0.52, 0.5555555555555556, 0.54, 0.98681218735789, 0.982275586049171, 0.9933333333333333, 0.9861111111111112, 0.44594594594594594, None, 0.8666666666666667, 0.6926829268292682, 0.9592592592592593, 0.13333333333333333, 0.376425855513308, 0.9895543175487466, 0.5729284903518729, 0.8722222222222222, 0.815028901734104], 'MiniRocket': [0.5459459459459459, 0.15411764705882353, 0.778125, 0.7480916030534351, 0.6907894736842105, 0.51, 0.5166666666666667, 0.48, 0.9758981355161437, 0.9791309319611207, 0.9633333333333334, 0.9166666666666666, 0.2702702702702703, None, 0.7888888888888889, 0.7219512195121951, 0.7851851851851852, 0.06666666666666667, 0.28517110266159695, 0.9888579387186629, 0.5598751418842225, 0.6, 0.6589595375722543]}\n",
      "StandWalkJump\n",
      "Rocket\n",
      "Acurácia: 0.5333333333333333\n",
      "MiniRocket\n",
      "Acurácia: 0.4\n",
      "----------Result----------\n",
      "{'dataset': ['JapaneseVowels', 'Handwriting', 'UWaveGestureLibrary', 'EigenWorms', 'RacketSports', 'MotorImagery', 'SelfRegulationSCP2', 'FingerMovements', 'SpokenArabicDigits', 'PenDigits', 'ArticularyWordRecognition', 'Cricket', 'HandMovementDirection', 'InsectWingbeat', 'Libras', 'Heartbeat', 'ERing', 'AtrialFibrillation', 'EthanolConcentration', 'CharacterTrajectories', 'FaceDetection', 'NATOPS', 'PEMS-SF', 'StandWalkJump'], 'Rocket': [0.8378378378378378, 0.5364705882352941, 0.915625, 0.8702290076335878, 0.8947368421052632, 0.52, 0.5555555555555556, 0.54, 0.98681218735789, 0.982275586049171, 0.9933333333333333, 0.9861111111111112, 0.44594594594594594, None, 0.8666666666666667, 0.6926829268292682, 0.9592592592592593, 0.13333333333333333, 0.376425855513308, 0.9895543175487466, 0.5729284903518729, 0.8722222222222222, 0.815028901734104, 0.5333333333333333], 'MiniRocket': [0.5459459459459459, 0.15411764705882353, 0.778125, 0.7480916030534351, 0.6907894736842105, 0.51, 0.5166666666666667, 0.48, 0.9758981355161437, 0.9791309319611207, 0.9633333333333334, 0.9166666666666666, 0.2702702702702703, None, 0.7888888888888889, 0.7219512195121951, 0.7851851851851852, 0.06666666666666667, 0.28517110266159695, 0.9888579387186629, 0.5598751418842225, 0.6, 0.6589595375722543, 0.4]}\n",
      "PhonemeSpectra\n",
      "Rocket\n",
      "Acurácia: 0.1917685654637638\n",
      "MiniRocket\n",
      "Acurácia: 0.23411869967193558\n",
      "----------Result----------\n",
      "{'dataset': ['JapaneseVowels', 'Handwriting', 'UWaveGestureLibrary', 'EigenWorms', 'RacketSports', 'MotorImagery', 'SelfRegulationSCP2', 'FingerMovements', 'SpokenArabicDigits', 'PenDigits', 'ArticularyWordRecognition', 'Cricket', 'HandMovementDirection', 'InsectWingbeat', 'Libras', 'Heartbeat', 'ERing', 'AtrialFibrillation', 'EthanolConcentration', 'CharacterTrajectories', 'FaceDetection', 'NATOPS', 'PEMS-SF', 'StandWalkJump', 'PhonemeSpectra'], 'Rocket': [0.8378378378378378, 0.5364705882352941, 0.915625, 0.8702290076335878, 0.8947368421052632, 0.52, 0.5555555555555556, 0.54, 0.98681218735789, 0.982275586049171, 0.9933333333333333, 0.9861111111111112, 0.44594594594594594, None, 0.8666666666666667, 0.6926829268292682, 0.9592592592592593, 0.13333333333333333, 0.376425855513308, 0.9895543175487466, 0.5729284903518729, 0.8722222222222222, 0.815028901734104, 0.5333333333333333, 0.1917685654637638], 'MiniRocket': [0.5459459459459459, 0.15411764705882353, 0.778125, 0.7480916030534351, 0.6907894736842105, 0.51, 0.5166666666666667, 0.48, 0.9758981355161437, 0.9791309319611207, 0.9633333333333334, 0.9166666666666666, 0.2702702702702703, None, 0.7888888888888889, 0.7219512195121951, 0.7851851851851852, 0.06666666666666667, 0.28517110266159695, 0.9888579387186629, 0.5598751418842225, 0.6, 0.6589595375722543, 0.4, 0.23411869967193558]}\n",
      "SelfRegulationSCP1\n",
      "Rocket\n",
      "Acurácia: 0.8293515358361775\n",
      "MiniRocket\n",
      "Acurácia: 0.6484641638225256\n",
      "----------Result----------\n",
      "{'dataset': ['JapaneseVowels', 'Handwriting', 'UWaveGestureLibrary', 'EigenWorms', 'RacketSports', 'MotorImagery', 'SelfRegulationSCP2', 'FingerMovements', 'SpokenArabicDigits', 'PenDigits', 'ArticularyWordRecognition', 'Cricket', 'HandMovementDirection', 'InsectWingbeat', 'Libras', 'Heartbeat', 'ERing', 'AtrialFibrillation', 'EthanolConcentration', 'CharacterTrajectories', 'FaceDetection', 'NATOPS', 'PEMS-SF', 'StandWalkJump', 'PhonemeSpectra', 'SelfRegulationSCP1'], 'Rocket': [0.8378378378378378, 0.5364705882352941, 0.915625, 0.8702290076335878, 0.8947368421052632, 0.52, 0.5555555555555556, 0.54, 0.98681218735789, 0.982275586049171, 0.9933333333333333, 0.9861111111111112, 0.44594594594594594, None, 0.8666666666666667, 0.6926829268292682, 0.9592592592592593, 0.13333333333333333, 0.376425855513308, 0.9895543175487466, 0.5729284903518729, 0.8722222222222222, 0.815028901734104, 0.5333333333333333, 0.1917685654637638, 0.8293515358361775], 'MiniRocket': [0.5459459459459459, 0.15411764705882353, 0.778125, 0.7480916030534351, 0.6907894736842105, 0.51, 0.5166666666666667, 0.48, 0.9758981355161437, 0.9791309319611207, 0.9633333333333334, 0.9166666666666666, 0.2702702702702703, None, 0.7888888888888889, 0.7219512195121951, 0.7851851851851852, 0.06666666666666667, 0.28517110266159695, 0.9888579387186629, 0.5598751418842225, 0.6, 0.6589595375722543, 0.4, 0.23411869967193558, 0.6484641638225256]}\n",
      "LSST\n",
      "Rocket\n",
      "Acurácia: 0.5332522303325223\n",
      "MiniRocket\n",
      "Acurácia: 0.5478507704785077\n",
      "----------Result----------\n",
      "{'dataset': ['JapaneseVowels', 'Handwriting', 'UWaveGestureLibrary', 'EigenWorms', 'RacketSports', 'MotorImagery', 'SelfRegulationSCP2', 'FingerMovements', 'SpokenArabicDigits', 'PenDigits', 'ArticularyWordRecognition', 'Cricket', 'HandMovementDirection', 'InsectWingbeat', 'Libras', 'Heartbeat', 'ERing', 'AtrialFibrillation', 'EthanolConcentration', 'CharacterTrajectories', 'FaceDetection', 'NATOPS', 'PEMS-SF', 'StandWalkJump', 'PhonemeSpectra', 'SelfRegulationSCP1', 'LSST'], 'Rocket': [0.8378378378378378, 0.5364705882352941, 0.915625, 0.8702290076335878, 0.8947368421052632, 0.52, 0.5555555555555556, 0.54, 0.98681218735789, 0.982275586049171, 0.9933333333333333, 0.9861111111111112, 0.44594594594594594, None, 0.8666666666666667, 0.6926829268292682, 0.9592592592592593, 0.13333333333333333, 0.376425855513308, 0.9895543175487466, 0.5729284903518729, 0.8722222222222222, 0.815028901734104, 0.5333333333333333, 0.1917685654637638, 0.8293515358361775, 0.5332522303325223], 'MiniRocket': [0.5459459459459459, 0.15411764705882353, 0.778125, 0.7480916030534351, 0.6907894736842105, 0.51, 0.5166666666666667, 0.48, 0.9758981355161437, 0.9791309319611207, 0.9633333333333334, 0.9166666666666666, 0.2702702702702703, None, 0.7888888888888889, 0.7219512195121951, 0.7851851851851852, 0.06666666666666667, 0.28517110266159695, 0.9888579387186629, 0.5598751418842225, 0.6, 0.6589595375722543, 0.4, 0.23411869967193558, 0.6484641638225256, 0.5478507704785077]}\n",
      "Epilepsy\n",
      "Rocket\n",
      "Acurácia: 0.9782608695652174\n",
      "MiniRocket\n",
      "Acurácia: 0.9057971014492754\n",
      "----------Result----------\n",
      "{'dataset': ['JapaneseVowels', 'Handwriting', 'UWaveGestureLibrary', 'EigenWorms', 'RacketSports', 'MotorImagery', 'SelfRegulationSCP2', 'FingerMovements', 'SpokenArabicDigits', 'PenDigits', 'ArticularyWordRecognition', 'Cricket', 'HandMovementDirection', 'InsectWingbeat', 'Libras', 'Heartbeat', 'ERing', 'AtrialFibrillation', 'EthanolConcentration', 'CharacterTrajectories', 'FaceDetection', 'NATOPS', 'PEMS-SF', 'StandWalkJump', 'PhonemeSpectra', 'SelfRegulationSCP1', 'LSST', 'Epilepsy'], 'Rocket': [0.8378378378378378, 0.5364705882352941, 0.915625, 0.8702290076335878, 0.8947368421052632, 0.52, 0.5555555555555556, 0.54, 0.98681218735789, 0.982275586049171, 0.9933333333333333, 0.9861111111111112, 0.44594594594594594, None, 0.8666666666666667, 0.6926829268292682, 0.9592592592592593, 0.13333333333333333, 0.376425855513308, 0.9895543175487466, 0.5729284903518729, 0.8722222222222222, 0.815028901734104, 0.5333333333333333, 0.1917685654637638, 0.8293515358361775, 0.5332522303325223, 0.9782608695652174], 'MiniRocket': [0.5459459459459459, 0.15411764705882353, 0.778125, 0.7480916030534351, 0.6907894736842105, 0.51, 0.5166666666666667, 0.48, 0.9758981355161437, 0.9791309319611207, 0.9633333333333334, 0.9166666666666666, 0.2702702702702703, None, 0.7888888888888889, 0.7219512195121951, 0.7851851851851852, 0.06666666666666667, 0.28517110266159695, 0.9888579387186629, 0.5598751418842225, 0.6, 0.6589595375722543, 0.4, 0.23411869967193558, 0.6484641638225256, 0.5478507704785077, 0.9057971014492754]}\n",
      "DuckDuckGeese\n",
      "Rocket\n",
      "Acurácia: 0.48\n",
      "MiniRocket\n",
      "Acurácia: 0.38\n",
      "----------Result----------\n",
      "{'dataset': ['JapaneseVowels', 'Handwriting', 'UWaveGestureLibrary', 'EigenWorms', 'RacketSports', 'MotorImagery', 'SelfRegulationSCP2', 'FingerMovements', 'SpokenArabicDigits', 'PenDigits', 'ArticularyWordRecognition', 'Cricket', 'HandMovementDirection', 'InsectWingbeat', 'Libras', 'Heartbeat', 'ERing', 'AtrialFibrillation', 'EthanolConcentration', 'CharacterTrajectories', 'FaceDetection', 'NATOPS', 'PEMS-SF', 'StandWalkJump', 'PhonemeSpectra', 'SelfRegulationSCP1', 'LSST', 'Epilepsy', 'DuckDuckGeese'], 'Rocket': [0.8378378378378378, 0.5364705882352941, 0.915625, 0.8702290076335878, 0.8947368421052632, 0.52, 0.5555555555555556, 0.54, 0.98681218735789, 0.982275586049171, 0.9933333333333333, 0.9861111111111112, 0.44594594594594594, None, 0.8666666666666667, 0.6926829268292682, 0.9592592592592593, 0.13333333333333333, 0.376425855513308, 0.9895543175487466, 0.5729284903518729, 0.8722222222222222, 0.815028901734104, 0.5333333333333333, 0.1917685654637638, 0.8293515358361775, 0.5332522303325223, 0.9782608695652174, 0.48], 'MiniRocket': [0.5459459459459459, 0.15411764705882353, 0.778125, 0.7480916030534351, 0.6907894736842105, 0.51, 0.5166666666666667, 0.48, 0.9758981355161437, 0.9791309319611207, 0.9633333333333334, 0.9166666666666666, 0.2702702702702703, None, 0.7888888888888889, 0.7219512195121951, 0.7851851851851852, 0.06666666666666667, 0.28517110266159695, 0.9888579387186629, 0.5598751418842225, 0.6, 0.6589595375722543, 0.4, 0.23411869967193558, 0.6484641638225256, 0.5478507704785077, 0.9057971014492754, 0.38]}\n",
      "BasicMotions\n",
      "Rocket\n",
      "Acurácia: 0.975\n",
      "MiniRocket\n",
      "Acurácia: 0.85\n",
      "----------Result----------\n",
      "{'dataset': ['JapaneseVowels', 'Handwriting', 'UWaveGestureLibrary', 'EigenWorms', 'RacketSports', 'MotorImagery', 'SelfRegulationSCP2', 'FingerMovements', 'SpokenArabicDigits', 'PenDigits', 'ArticularyWordRecognition', 'Cricket', 'HandMovementDirection', 'InsectWingbeat', 'Libras', 'Heartbeat', 'ERing', 'AtrialFibrillation', 'EthanolConcentration', 'CharacterTrajectories', 'FaceDetection', 'NATOPS', 'PEMS-SF', 'StandWalkJump', 'PhonemeSpectra', 'SelfRegulationSCP1', 'LSST', 'Epilepsy', 'DuckDuckGeese', 'BasicMotions'], 'Rocket': [0.8378378378378378, 0.5364705882352941, 0.915625, 0.8702290076335878, 0.8947368421052632, 0.52, 0.5555555555555556, 0.54, 0.98681218735789, 0.982275586049171, 0.9933333333333333, 0.9861111111111112, 0.44594594594594594, None, 0.8666666666666667, 0.6926829268292682, 0.9592592592592593, 0.13333333333333333, 0.376425855513308, 0.9895543175487466, 0.5729284903518729, 0.8722222222222222, 0.815028901734104, 0.5333333333333333, 0.1917685654637638, 0.8293515358361775, 0.5332522303325223, 0.9782608695652174, 0.48, 0.975], 'MiniRocket': [0.5459459459459459, 0.15411764705882353, 0.778125, 0.7480916030534351, 0.6907894736842105, 0.51, 0.5166666666666667, 0.48, 0.9758981355161437, 0.9791309319611207, 0.9633333333333334, 0.9166666666666666, 0.2702702702702703, None, 0.7888888888888889, 0.7219512195121951, 0.7851851851851852, 0.06666666666666667, 0.28517110266159695, 0.9888579387186629, 0.5598751418842225, 0.6, 0.6589595375722543, 0.4, 0.23411869967193558, 0.6484641638225256, 0.5478507704785077, 0.9057971014492754, 0.38, 0.85]}\n",
      "----------Final----------\n"
     ]
    },
    {
     "data": {
      "text/plain": [
       "{'dataset': ['JapaneseVowels',\n",
       "  'Handwriting',\n",
       "  'UWaveGestureLibrary',\n",
       "  'EigenWorms',\n",
       "  'RacketSports',\n",
       "  'MotorImagery',\n",
       "  'SelfRegulationSCP2',\n",
       "  'FingerMovements',\n",
       "  'SpokenArabicDigits',\n",
       "  'PenDigits',\n",
       "  'ArticularyWordRecognition',\n",
       "  'Cricket',\n",
       "  'HandMovementDirection',\n",
       "  'InsectWingbeat',\n",
       "  'Libras',\n",
       "  'Heartbeat',\n",
       "  'ERing',\n",
       "  'AtrialFibrillation',\n",
       "  'EthanolConcentration',\n",
       "  'CharacterTrajectories',\n",
       "  'FaceDetection',\n",
       "  'NATOPS',\n",
       "  'PEMS-SF',\n",
       "  'StandWalkJump',\n",
       "  'PhonemeSpectra',\n",
       "  'SelfRegulationSCP1',\n",
       "  'LSST',\n",
       "  'Epilepsy',\n",
       "  'DuckDuckGeese',\n",
       "  'BasicMotions'],\n",
       " 'Rocket': [0.8378378378378378,\n",
       "  0.5364705882352941,\n",
       "  0.915625,\n",
       "  0.8702290076335878,\n",
       "  0.8947368421052632,\n",
       "  0.52,\n",
       "  0.5555555555555556,\n",
       "  0.54,\n",
       "  0.98681218735789,\n",
       "  0.982275586049171,\n",
       "  0.9933333333333333,\n",
       "  0.9861111111111112,\n",
       "  0.44594594594594594,\n",
       "  None,\n",
       "  0.8666666666666667,\n",
       "  0.6926829268292682,\n",
       "  0.9592592592592593,\n",
       "  0.13333333333333333,\n",
       "  0.376425855513308,\n",
       "  0.9895543175487466,\n",
       "  0.5729284903518729,\n",
       "  0.8722222222222222,\n",
       "  0.815028901734104,\n",
       "  0.5333333333333333,\n",
       "  0.1917685654637638,\n",
       "  0.8293515358361775,\n",
       "  0.5332522303325223,\n",
       "  0.9782608695652174,\n",
       "  0.48,\n",
       "  0.975],\n",
       " 'MiniRocket': [0.5459459459459459,\n",
       "  0.15411764705882353,\n",
       "  0.778125,\n",
       "  0.7480916030534351,\n",
       "  0.6907894736842105,\n",
       "  0.51,\n",
       "  0.5166666666666667,\n",
       "  0.48,\n",
       "  0.9758981355161437,\n",
       "  0.9791309319611207,\n",
       "  0.9633333333333334,\n",
       "  0.9166666666666666,\n",
       "  0.2702702702702703,\n",
       "  None,\n",
       "  0.7888888888888889,\n",
       "  0.7219512195121951,\n",
       "  0.7851851851851852,\n",
       "  0.06666666666666667,\n",
       "  0.28517110266159695,\n",
       "  0.9888579387186629,\n",
       "  0.5598751418842225,\n",
       "  0.6,\n",
       "  0.6589595375722543,\n",
       "  0.4,\n",
       "  0.23411869967193558,\n",
       "  0.6484641638225256,\n",
       "  0.5478507704785077,\n",
       "  0.9057971014492754,\n",
       "  0.38,\n",
       "  0.85]}"
      ]
     },
     "execution_count": 16,
     "metadata": {},
     "output_type": "execute_result"
    }
   ],
   "source": [
    "result = {\n",
    "    \"dataset\": [],\n",
    "    \"Rocket\": [],\n",
    "    \"MiniRocket\": [],\n",
    "}\n",
    "\n",
    "fails = []\n",
    "\n",
    "for dataset in multivariate:\n",
    "    r = {\n",
    "        \"dataset\": dataset,\n",
    "        \"Rocket\": None,\n",
    "        \"MiniRocket\": None,\n",
    "    }\n",
    "    try:\n",
    "        print(dataset)\n",
    "    \n",
    "        # carrega as partições de treino e teste\n",
    "        X_train, y_train = load_classification(dataset, split=\"Train\")\n",
    "        X_test, y_test = load_classification(dataset, split=\"Test\")\n",
    "        \n",
    "        for name, Algorithm in [(\"Rocket\", Rocket), (\"MiniRocket\", MiniRocket)]:\n",
    "            print(name)\n",
    "            \n",
    "            # instanciação do Rocket para a transformação dos dados (também vamos usar o MiniRocket, uma variação mais rápida e precisa do Rocket)\n",
    "            algorithm = Algorithm(num_kernels=10000, n_jobs=-1, random_state=6) # você pode substituir Rocket() por MiniRocket() sem alteração de parâmetros\n",
    "            algorithm.fit(X_train)\n",
    "            \n",
    "            # transformação dos dados usando Rocket\n",
    "            X_train = algorithm.transform(X_train)\n",
    "            X_test = algorithm.transform(X_test)\n",
    "            \n",
    "            # instanciação do classificador Ridge\n",
    "            classifier = RidgeClassifierCV(alphas=np.logspace(-3, 3, 10))\n",
    "            \n",
    "            # treinamento do classificador com dados de treino\n",
    "            classifier.fit(X_train, y_train)\n",
    "            \n",
    "            # classificação dos exemplos de teste\n",
    "            acc = classifier.score(X_test, y_test)\n",
    "            \n",
    "            print(f'Acurácia: {acc}')\n",
    "            r[name] = acc\n",
    "    except:\n",
    "        print(f\"Erro: {dataset} - {name}\")\n",
    "        fails.append(r)\n",
    "\n",
    "    result[\"dataset\"].append(r[\"dataset\"])\n",
    "    result[\"Rocket\"].append(r[\"Rocket\"])\n",
    "    result[\"MiniRocket\"].append(r[\"MiniRocket\"])\n",
    "\n",
    "    print(\"----------Result----------\")\n",
    "    print(result)\n",
    "\n",
    "\n",
    "print(\"----------Final----------\")\n",
    "result"
   ]
  },
  {
   "cell_type": "code",
   "execution_count": 17,
   "metadata": {},
   "outputs": [
    {
     "name": "stdout",
     "output_type": "stream",
     "text": [
      "30\n",
      "30\n",
      "30\n"
     ]
    }
   ],
   "source": [
    "print(len(result[\"dataset\"]))\n",
    "print(len(result[\"Rocket\"]))\n",
    "print(len(result[\"MiniRocket\"]))"
   ]
  },
  {
   "cell_type": "code",
   "execution_count": 18,
   "metadata": {
    "scrolled": true
   },
   "outputs": [],
   "source": [
    "dt = pd.DataFrame(result)"
   ]
  },
  {
   "cell_type": "code",
   "execution_count": 20,
   "metadata": {},
   "outputs": [],
   "source": [
    "dt.to_csv(\"C:/Users/bruno/puc/iniciacao/tests.csv\")"
   ]
  },
  {
   "cell_type": "code",
   "execution_count": null,
   "metadata": {},
   "outputs": [],
   "source": []
  }
 ],
 "metadata": {
  "colab": {
   "provenance": [
    {
     "file_id": "1D262QkHd40fmjR9idX5ceOg90PcdHhi_",
     "timestamp": 1725122344310
    }
   ]
  },
  "kernelspec": {
   "display_name": "Python 3 (ipykernel)",
   "language": "python",
   "name": "python3"
  },
  "language_info": {
   "codemirror_mode": {
    "name": "ipython",
    "version": 3
   },
   "file_extension": ".py",
   "mimetype": "text/x-python",
   "name": "python",
   "nbconvert_exporter": "python",
   "pygments_lexer": "ipython3",
   "version": "3.12.4"
  }
 },
 "nbformat": 4,
 "nbformat_minor": 4
}
