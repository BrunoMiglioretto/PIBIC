{
 "cells": [
  {
   "cell_type": "code",
   "metadata": {
    "colab": {
     "base_uri": "https://localhost:8080/"
    },
    "executionInfo": {
     "elapsed": 62033,
     "status": "ok",
     "timestamp": 1725122883746,
     "user": {
      "displayName": "Bruno Miglioretto",
      "userId": "07931565830635624050"
     },
     "user_tz": 180
    },
    "id": "7XDMUPC1xGJg",
    "outputId": "0e7bdda1-5f1d-4b89-d82b-2ff600d0cd79",
    "ExecuteTime": {
     "end_time": "2025-04-05T23:09:08.007360Z",
     "start_time": "2025-04-05T23:09:04.421456Z"
    }
   },
   "source": [
    "!pip install aeon\n",
    "!pip install \"dask[dataframe]"
   ],
   "outputs": [
    {
     "name": "stdout",
     "output_type": "stream",
     "text": [
      "Requirement already satisfied: aeon in c:\\users\\bruno\\puc\\iniciacao\\venv\\lib\\site-packages (1.0.0)\n",
      "Requirement already satisfied: deprecated>=1.2.13 in c:\\users\\bruno\\puc\\iniciacao\\venv\\lib\\site-packages (from aeon) (1.2.18)\n",
      "Requirement already satisfied: numba<0.61.0,>=0.55 in c:\\users\\bruno\\puc\\iniciacao\\venv\\lib\\site-packages (from aeon) (0.60.0)\n",
      "Requirement already satisfied: numpy<2.1.0,>=1.21.0 in c:\\users\\bruno\\puc\\iniciacao\\venv\\lib\\site-packages (from aeon) (2.0.2)\n",
      "Requirement already satisfied: packaging>=20.0 in c:\\users\\bruno\\puc\\iniciacao\\venv\\lib\\site-packages (from aeon) (24.2)\n",
      "Requirement already satisfied: pandas<2.3.0,>=2.0.0 in c:\\users\\bruno\\puc\\iniciacao\\venv\\lib\\site-packages (from aeon) (2.2.3)\n",
      "Requirement already satisfied: scikit-learn<1.6.0,>=1.0.0 in c:\\users\\bruno\\puc\\iniciacao\\venv\\lib\\site-packages (from aeon) (1.5.2)\n",
      "Requirement already satisfied: scipy<1.15.0,>=1.9.0 in c:\\users\\bruno\\puc\\iniciacao\\venv\\lib\\site-packages (from aeon) (1.14.1)\n",
      "Requirement already satisfied: typing-extensions>=4.6.0 in c:\\users\\bruno\\puc\\iniciacao\\venv\\lib\\site-packages (from aeon) (4.12.2)\n",
      "Requirement already satisfied: wrapt<2,>=1.10 in c:\\users\\bruno\\puc\\iniciacao\\venv\\lib\\site-packages (from deprecated>=1.2.13->aeon) (1.17.2)\n",
      "Requirement already satisfied: llvmlite<0.44,>=0.43.0dev0 in c:\\users\\bruno\\puc\\iniciacao\\venv\\lib\\site-packages (from numba<0.61.0,>=0.55->aeon) (0.43.0)\n",
      "Requirement already satisfied: python-dateutil>=2.8.2 in c:\\users\\bruno\\puc\\iniciacao\\venv\\lib\\site-packages (from pandas<2.3.0,>=2.0.0->aeon) (2.9.0.post0)\n",
      "Requirement already satisfied: pytz>=2020.1 in c:\\users\\bruno\\puc\\iniciacao\\venv\\lib\\site-packages (from pandas<2.3.0,>=2.0.0->aeon) (2025.1)\n",
      "Requirement already satisfied: tzdata>=2022.7 in c:\\users\\bruno\\puc\\iniciacao\\venv\\lib\\site-packages (from pandas<2.3.0,>=2.0.0->aeon) (2025.1)\n",
      "Requirement already satisfied: joblib>=1.2.0 in c:\\users\\bruno\\puc\\iniciacao\\venv\\lib\\site-packages (from scikit-learn<1.6.0,>=1.0.0->aeon) (1.4.2)\n",
      "Requirement already satisfied: threadpoolctl>=3.1.0 in c:\\users\\bruno\\puc\\iniciacao\\venv\\lib\\site-packages (from scikit-learn<1.6.0,>=1.0.0->aeon) (3.5.0)\n",
      "Requirement already satisfied: six>=1.5 in c:\\users\\bruno\\puc\\iniciacao\\venv\\lib\\site-packages (from python-dateutil>=2.8.2->pandas<2.3.0,>=2.0.0->aeon) (1.17.0)\n"
     ]
    },
    {
     "name": "stderr",
     "output_type": "stream",
     "text": [
      "\n",
      "[notice] A new release of pip is available: 24.3.1 -> 25.0.1\n",
      "[notice] To update, run: python.exe -m pip install --upgrade pip\n"
     ]
    },
    {
     "name": "stdout",
     "output_type": "stream",
     "text": [
      "Requirement already satisfied: dask[dataframe] in c:\\users\\bruno\\puc\\iniciacao\\venv\\lib\\site-packages (2025.2.0)\n",
      "Requirement already satisfied: click>=8.1 in c:\\users\\bruno\\puc\\iniciacao\\venv\\lib\\site-packages (from dask[dataframe]) (8.1.8)\n",
      "Requirement already satisfied: cloudpickle>=3.0.0 in c:\\users\\bruno\\puc\\iniciacao\\venv\\lib\\site-packages (from dask[dataframe]) (3.1.1)\n",
      "Requirement already satisfied: fsspec>=2021.09.0 in c:\\users\\bruno\\puc\\iniciacao\\venv\\lib\\site-packages (from dask[dataframe]) (2025.2.0)\n",
      "Requirement already satisfied: packaging>=20.0 in c:\\users\\bruno\\puc\\iniciacao\\venv\\lib\\site-packages (from dask[dataframe]) (24.2)\n",
      "Requirement already satisfied: partd>=1.4.0 in c:\\users\\bruno\\puc\\iniciacao\\venv\\lib\\site-packages (from dask[dataframe]) (1.4.2)\n",
      "Requirement already satisfied: pyyaml>=5.3.1 in c:\\users\\bruno\\puc\\iniciacao\\venv\\lib\\site-packages (from dask[dataframe]) (6.0.2)\n",
      "Requirement already satisfied: toolz>=0.10.0 in c:\\users\\bruno\\puc\\iniciacao\\venv\\lib\\site-packages (from dask[dataframe]) (1.0.0)\n",
      "Requirement already satisfied: pandas>=2.0 in c:\\users\\bruno\\puc\\iniciacao\\venv\\lib\\site-packages (from dask[dataframe]) (2.2.3)\n",
      "Requirement already satisfied: pyarrow>=14.0.1 in c:\\users\\bruno\\puc\\iniciacao\\venv\\lib\\site-packages (from dask[dataframe]) (19.0.1)\n",
      "Requirement already satisfied: colorama in c:\\users\\bruno\\puc\\iniciacao\\venv\\lib\\site-packages (from click>=8.1->dask[dataframe]) (0.4.6)\n",
      "Requirement already satisfied: numpy>=1.26.0 in c:\\users\\bruno\\puc\\iniciacao\\venv\\lib\\site-packages (from pandas>=2.0->dask[dataframe]) (2.0.2)\n",
      "Requirement already satisfied: python-dateutil>=2.8.2 in c:\\users\\bruno\\puc\\iniciacao\\venv\\lib\\site-packages (from pandas>=2.0->dask[dataframe]) (2.9.0.post0)\n",
      "Requirement already satisfied: pytz>=2020.1 in c:\\users\\bruno\\puc\\iniciacao\\venv\\lib\\site-packages (from pandas>=2.0->dask[dataframe]) (2025.1)\n",
      "Requirement already satisfied: tzdata>=2022.7 in c:\\users\\bruno\\puc\\iniciacao\\venv\\lib\\site-packages (from pandas>=2.0->dask[dataframe]) (2025.1)\n",
      "Requirement already satisfied: locket in c:\\users\\bruno\\puc\\iniciacao\\venv\\lib\\site-packages (from partd>=1.4.0->dask[dataframe]) (1.0.0)\n",
      "Requirement already satisfied: six>=1.5 in c:\\users\\bruno\\puc\\iniciacao\\venv\\lib\\site-packages (from python-dateutil>=2.8.2->pandas>=2.0->dask[dataframe]) (1.17.0)\n"
     ]
    },
    {
     "name": "stderr",
     "output_type": "stream",
     "text": [
      "\n",
      "[notice] A new release of pip is available: 24.3.1 -> 25.0.1\n",
      "[notice] To update, run: python.exe -m pip install --upgrade pip\n"
     ]
    }
   ],
   "execution_count": 32
  },
  {
   "cell_type": "code",
   "metadata": {
    "colab": {
     "base_uri": "https://localhost:8080/"
    },
    "executionInfo": {
     "elapsed": 167079,
     "status": "ok",
     "timestamp": 1725123066855,
     "user": {
      "displayName": "Bruno Miglioretto",
      "userId": "07931565830635624050"
     },
     "user_tz": 180
    },
    "id": "jKv0ySZ2yJjm",
    "outputId": "f26072f1-7801-4cd9-b9e9-3239421edb8d",
    "ExecuteTime": {
     "end_time": "2025-04-05T23:40:25.573010Z",
     "start_time": "2025-04-05T23:40:23.508424Z"
    }
   },
   "source": [
    "import time\n",
    "\n",
    "import numpy as np\n",
    "import pandas as pd\n",
    "\n",
    "from sklearn.linear_model import RidgeClassifierCV\n",
    "from aeon.transformations.collection.convolution_based import Rocket, MiniRocket\n",
    "from aeon.datasets.tsc_datasets import multivariate\n",
    "\n",
    "import config\n",
    "from config import logger\n",
    "from utils import load_dataset"
   ],
   "outputs": [],
   "execution_count": 1
  },
  {
   "cell_type": "code",
   "metadata": {
    "id": "dhDuqgLnz20U",
    "ExecuteTime": {
     "end_time": "2025-04-05T23:41:30.458816Z",
     "start_time": "2025-04-05T23:40:28.318576Z"
    }
   },
   "source": [
    "result = {\n",
    "    \"dataset\": [],\n",
    "    \"Rocket\": [],\n",
    "    \"MiniRocket\": [],\n",
    "}\n",
    "\n",
    "for dataset_name in multivariate:\n",
    "    r = {\n",
    "        \"dataset\": dataset_name,\n",
    "        \"Rocket\": None,\n",
    "        \"MiniRocket\": None,\n",
    "    }\n",
    "    try:\n",
    "        dataset = load_dataset(dataset_name, config.DATASETS_FOLDER)\n",
    "        X_train = dataset[\"X_train\"]\n",
    "        y_train = dataset[\"y_train\"]\n",
    "        X_test = dataset[\"X_test\"]\n",
    "        y_test = dataset[\"y_test\"]\n",
    "        \n",
    "        for algorithm_name, Algorithm in [(\"Rocket\", Rocket), (\"MiniRocket\", MiniRocket)]:\n",
    "            algorithm = Algorithm(n_kernels=10000, n_jobs=-1, random_state=6)\n",
    "            algorithm.fit(X_train)\n",
    "            \n",
    "            X_train = algorithm.transform(X_train)\n",
    "            X_test = algorithm.transform(X_test)\n",
    "            \n",
    "            classifier = RidgeClassifierCV(alphas=np.logspace(-3, 3, 10))\n",
    "            classifier.fit(X_train, y_train)\n",
    "            \n",
    "            acc = classifier.score(X_test, y_test)\n",
    "            \n",
    "            r[algorithm_name] = acc\n",
    "    except Exception as e:\n",
    "        logger.error(e)\n",
    "        logger.error(f\"{dataset_name} - {algorithm_name}\")\n",
    "\n",
    "    result[\"dataset\"].append(r[\"dataset\"])\n",
    "    result[\"Rocket\"].append(r[\"Rocket\"])\n",
    "    result[\"MiniRocket\"].append(r[\"MiniRocket\"])"
   ],
   "outputs": [
    {
     "ename": "KeyboardInterrupt",
     "evalue": "",
     "output_type": "error",
     "traceback": [
      "\u001B[31m---------------------------------------------------------------------------\u001B[39m",
      "\u001B[31mKeyboardInterrupt\u001B[39m                         Traceback (most recent call last)",
      "\u001B[36mCell\u001B[39m\u001B[36m \u001B[39m\u001B[32mIn[2]\u001B[39m\u001B[32m, line 22\u001B[39m\n\u001B[32m     20\u001B[39m \u001B[38;5;28;01mfor\u001B[39;00m algorithm_name, Algorithm \u001B[38;5;129;01min\u001B[39;00m [(\u001B[33m\"\u001B[39m\u001B[33mRocket\u001B[39m\u001B[33m\"\u001B[39m, Rocket), (\u001B[33m\"\u001B[39m\u001B[33mMiniRocket\u001B[39m\u001B[33m\"\u001B[39m, MiniRocket)]:\n\u001B[32m     21\u001B[39m     algorithm = Algorithm(n_kernels=\u001B[32m10000\u001B[39m, n_jobs=-\u001B[32m1\u001B[39m, random_state=\u001B[32m6\u001B[39m)\n\u001B[32m---> \u001B[39m\u001B[32m22\u001B[39m     \u001B[43malgorithm\u001B[49m\u001B[43m.\u001B[49m\u001B[43mfit\u001B[49m\u001B[43m(\u001B[49m\u001B[43mX_train\u001B[49m\u001B[43m)\u001B[49m\n\u001B[32m     24\u001B[39m     X_train = algorithm.transform(X_train)\n\u001B[32m     25\u001B[39m     X_test = algorithm.transform(X_test)\n",
      "\u001B[36mFile \u001B[39m\u001B[32m~\\puc\\iniciacao\\venv\\Lib\\site-packages\\aeon\\transformations\\collection\\base.py:100\u001B[39m, in \u001B[36mBaseCollectionTransformer.fit\u001B[39m\u001B[34m(self, X, y)\u001B[39m\n\u001B[32m     98\u001B[39m X_inner = \u001B[38;5;28mself\u001B[39m._preprocess_collection(X)\n\u001B[32m     99\u001B[39m y_inner = y\n\u001B[32m--> \u001B[39m\u001B[32m100\u001B[39m \u001B[38;5;28;43mself\u001B[39;49m\u001B[43m.\u001B[49m\u001B[43m_fit\u001B[49m\u001B[43m(\u001B[49m\u001B[43mX\u001B[49m\u001B[43m=\u001B[49m\u001B[43mX_inner\u001B[49m\u001B[43m,\u001B[49m\u001B[43m \u001B[49m\u001B[43my\u001B[49m\u001B[43m=\u001B[49m\u001B[43my_inner\u001B[49m\u001B[43m)\u001B[49m\n\u001B[32m    102\u001B[39m \u001B[38;5;28mself\u001B[39m.is_fitted = \u001B[38;5;28;01mTrue\u001B[39;00m\n\u001B[32m    104\u001B[39m \u001B[38;5;28;01mreturn\u001B[39;00m \u001B[38;5;28mself\u001B[39m\n",
      "\u001B[36mFile \u001B[39m\u001B[32m~\\puc\\iniciacao\\venv\\Lib\\site-packages\\aeon\\transformations\\collection\\convolution_based\\_minirocket.py:122\u001B[39m, in \u001B[36mMiniRocket._fit\u001B[39m\u001B[34m(self, X, y)\u001B[39m\n\u001B[32m    120\u001B[39m \u001B[38;5;28;01melse\u001B[39;00m:\n\u001B[32m    121\u001B[39m     \u001B[38;5;28mself\u001B[39m.n_kernels_ = \u001B[38;5;28mself\u001B[39m.n_kernels\n\u001B[32m--> \u001B[39m\u001B[32m122\u001B[39m \u001B[38;5;28mself\u001B[39m.parameters = \u001B[43m_static_fit\u001B[49m\u001B[43m(\u001B[49m\n\u001B[32m    123\u001B[39m \u001B[43m    \u001B[49m\u001B[43mX\u001B[49m\u001B[43m,\u001B[49m\u001B[43m \u001B[49m\u001B[38;5;28;43mself\u001B[39;49m\u001B[43m.\u001B[49m\u001B[43mn_kernels_\u001B[49m\u001B[43m,\u001B[49m\u001B[43m \u001B[49m\u001B[38;5;28;43mself\u001B[39;49m\u001B[43m.\u001B[49m\u001B[43mmax_dilations_per_kernel\u001B[49m\u001B[43m,\u001B[49m\u001B[43m \u001B[49m\u001B[43mrandom_state\u001B[49m\n\u001B[32m    124\u001B[39m \u001B[43m\u001B[49m\u001B[43m)\u001B[49m\n\u001B[32m    125\u001B[39m \u001B[38;5;28;01mreturn\u001B[39;00m \u001B[38;5;28mself\u001B[39m\n",
      "\u001B[36mFile \u001B[39m\u001B[32m~\\puc\\iniciacao\\venv\\Lib\\site-packages\\aeon\\transformations\\collection\\convolution_based\\_minirocket.py:214\u001B[39m, in \u001B[36m_static_fit\u001B[39m\u001B[34m(X, n_features, max_dilations_per_kernel, seed)\u001B[39m\n\u001B[32m    210\u001B[39m     channel_indices[n_channels_start:n_channels_end] = np.random.choice(\n\u001B[32m    211\u001B[39m         n_channels, n_channels_this_combination, replace=\u001B[38;5;28;01mFalse\u001B[39;00m\n\u001B[32m    212\u001B[39m     )\n\u001B[32m    213\u001B[39m     n_channels_start = n_channels_end\n\u001B[32m--> \u001B[39m\u001B[32m214\u001B[39m biases = \u001B[43m_fit_biases\u001B[49m\u001B[43m(\u001B[49m\n\u001B[32m    215\u001B[39m \u001B[43m    \u001B[49m\u001B[43mX\u001B[49m\u001B[43m,\u001B[49m\n\u001B[32m    216\u001B[39m \u001B[43m    \u001B[49m\u001B[43mn_channels_per_combination\u001B[49m\u001B[43m,\u001B[49m\n\u001B[32m    217\u001B[39m \u001B[43m    \u001B[49m\u001B[43mchannel_indices\u001B[49m\u001B[43m,\u001B[49m\n\u001B[32m    218\u001B[39m \u001B[43m    \u001B[49m\u001B[43mdilations\u001B[49m\u001B[43m,\u001B[49m\n\u001B[32m    219\u001B[39m \u001B[43m    \u001B[49m\u001B[43mn_features_per_dilation\u001B[49m\u001B[43m,\u001B[49m\n\u001B[32m    220\u001B[39m \u001B[43m    \u001B[49m\u001B[43mquantiles\u001B[49m\u001B[43m,\u001B[49m\n\u001B[32m    221\u001B[39m \u001B[43m    \u001B[49m\u001B[43mMiniRocket\u001B[49m\u001B[43m.\u001B[49m\u001B[43m_indices\u001B[49m\u001B[43m,\u001B[49m\n\u001B[32m    222\u001B[39m \u001B[43m    \u001B[49m\u001B[43mseed\u001B[49m\u001B[43m,\u001B[49m\n\u001B[32m    223\u001B[39m \u001B[43m\u001B[49m\u001B[43m)\u001B[49m\n\u001B[32m    224\u001B[39m \u001B[38;5;28;01mreturn\u001B[39;00m (\n\u001B[32m    225\u001B[39m     n_channels_per_combination,\n\u001B[32m    226\u001B[39m     channel_indices,\n\u001B[32m   (...)\u001B[39m\u001B[32m    229\u001B[39m     biases,\n\u001B[32m    230\u001B[39m )\n",
      "\u001B[31mKeyboardInterrupt\u001B[39m: "
     ]
    }
   ],
   "execution_count": 2
  },
  {
   "cell_type": "code",
   "metadata": {
    "scrolled": true,
    "ExecuteTime": {
     "end_time": "2025-04-05T23:39:13.816627Z",
     "start_time": "2025-04-05T23:39:13.809063Z"
    }
   },
   "source": [
    "df = pd.DataFrame(result)\n",
    "df.to_csv(f\"{config.RESULTS_FOLDER}/base_results_{time.time()}.csv\")"
   ],
   "outputs": [],
   "execution_count": 4
  }
 ],
 "metadata": {
  "colab": {
   "provenance": [
    {
     "file_id": "1D262QkHd40fmjR9idX5ceOg90PcdHhi_",
     "timestamp": 1725122344310
    }
   ]
  },
  "kernelspec": {
   "display_name": "Python 3 (ipykernel)",
   "language": "python",
   "name": "python3"
  },
  "language_info": {
   "codemirror_mode": {
    "name": "ipython",
    "version": 3
   },
   "file_extension": ".py",
   "mimetype": "text/x-python",
   "name": "python",
   "nbconvert_exporter": "python",
   "pygments_lexer": "ipython3",
   "version": "3.12.4"
  }
 },
 "nbformat": 4,
 "nbformat_minor": 4
}
