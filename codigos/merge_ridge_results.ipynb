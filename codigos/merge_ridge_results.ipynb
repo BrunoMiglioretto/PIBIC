{
 "cells": [
  {
   "cell_type": "code",
   "id": "initial_id",
   "metadata": {
    "collapsed": true,
    "ExecuteTime": {
     "end_time": "2025-03-03T14:47:51.625663Z",
     "start_time": "2025-03-03T14:47:51.622664Z"
    }
   },
   "source": [
    "import pandas as pd\n",
    "from os import listdir\n",
    "from os.path import isfile"
   ],
   "outputs": [],
   "execution_count": 3
  },
  {
   "metadata": {
    "ExecuteTime": {
     "end_time": "2025-03-03T15:02:00.772367Z",
     "start_time": "2025-03-03T15:02:00.736981Z"
    }
   },
   "cell_type": "code",
   "source": [
    "from os.path import join\n",
    "\n",
    "directory_path = \"./resultados ridge puro/\"\n",
    "\n",
    "dfs = []\n",
    "for file in listdir(directory_path):\n",
    "    if isfile(join(directory_path, file)):\n",
    "        dfs.append(\n",
    "            pd.read_csv(str(join(directory_path, file)))\n",
    "        )  \n",
    "        \n",
    "df = pd.concat(dfs)\n",
    "df.to_csv(\"./pure_redge.csv\")"
   ],
   "id": "c0daaac1398ef2ac",
   "outputs": [
    {
     "name": "stderr",
     "output_type": "stream",
     "text": [
      "C:\\Users\\bruno\\AppData\\Local\\Temp\\ipykernel_17356\\2489581719.py:12: FutureWarning: The behavior of DataFrame concatenation with empty or all-NA entries is deprecated. In a future version, this will no longer exclude empty or all-NA columns when determining the result dtypes. To retain the old behavior, exclude the relevant entries before the concat operation.\n",
      "  df = pd.concat(dfs)\n"
     ]
    }
   ],
   "execution_count": 10
  }
 ],
 "metadata": {
  "kernelspec": {
   "display_name": "Python 3",
   "language": "python",
   "name": "python3"
  },
  "language_info": {
   "codemirror_mode": {
    "name": "ipython",
    "version": 2
   },
   "file_extension": ".py",
   "mimetype": "text/x-python",
   "name": "python",
   "nbconvert_exporter": "python",
   "pygments_lexer": "ipython2",
   "version": "2.7.6"
  }
 },
 "nbformat": 4,
 "nbformat_minor": 5
}
