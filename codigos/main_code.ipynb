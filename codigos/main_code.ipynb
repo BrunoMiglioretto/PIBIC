{
 "cells": [
  {
   "cell_type": "code",
   "id": "initial_id",
   "metadata": {
    "collapsed": true,
    "ExecuteTime": {
     "end_time": "2025-04-06T12:17:57.058252Z",
     "start_time": "2025-04-06T12:17:52.094129Z"
    }
   },
   "source": [
    "!pip install PyWavelets\n",
    "!pip install pyts\n",
    "!pip install aeon"
   ],
   "outputs": [
    {
     "name": "stdout",
     "output_type": "stream",
     "text": [
      "Requirement already satisfied: PyWavelets in c:\\users\\bruno\\puc\\iniciacao\\venv\\lib\\site-packages (1.8.0)\n",
      "Requirement already satisfied: numpy<3,>=1.23 in c:\\users\\bruno\\puc\\iniciacao\\venv\\lib\\site-packages (from PyWavelets) (2.0.2)\n"
     ]
    },
    {
     "name": "stderr",
     "output_type": "stream",
     "text": [
      "\n",
      "[notice] A new release of pip is available: 24.3.1 -> 25.0.1\n",
      "[notice] To update, run: python.exe -m pip install --upgrade pip\n"
     ]
    },
    {
     "name": "stdout",
     "output_type": "stream",
     "text": [
      "Requirement already satisfied: pyts in c:\\users\\bruno\\puc\\iniciacao\\venv\\lib\\site-packages (0.13.0)\n",
      "Requirement already satisfied: numpy>=1.22.4 in c:\\users\\bruno\\puc\\iniciacao\\venv\\lib\\site-packages (from pyts) (2.0.2)\n",
      "Requirement already satisfied: scipy>=1.8.1 in c:\\users\\bruno\\puc\\iniciacao\\venv\\lib\\site-packages (from pyts) (1.14.1)\n",
      "Requirement already satisfied: scikit-learn>=1.2.0 in c:\\users\\bruno\\puc\\iniciacao\\venv\\lib\\site-packages (from pyts) (1.5.2)\n",
      "Requirement already satisfied: joblib>=1.1.1 in c:\\users\\bruno\\puc\\iniciacao\\venv\\lib\\site-packages (from pyts) (1.4.2)\n",
      "Requirement already satisfied: numba>=0.55.2 in c:\\users\\bruno\\puc\\iniciacao\\venv\\lib\\site-packages (from pyts) (0.60.0)\n",
      "Requirement already satisfied: llvmlite<0.44,>=0.43.0dev0 in c:\\users\\bruno\\puc\\iniciacao\\venv\\lib\\site-packages (from numba>=0.55.2->pyts) (0.43.0)\n",
      "Requirement already satisfied: threadpoolctl>=3.1.0 in c:\\users\\bruno\\puc\\iniciacao\\venv\\lib\\site-packages (from scikit-learn>=1.2.0->pyts) (3.5.0)\n"
     ]
    },
    {
     "name": "stderr",
     "output_type": "stream",
     "text": [
      "\n",
      "[notice] A new release of pip is available: 24.3.1 -> 25.0.1\n",
      "[notice] To update, run: python.exe -m pip install --upgrade pip\n"
     ]
    },
    {
     "name": "stdout",
     "output_type": "stream",
     "text": [
      "Requirement already satisfied: aeon in c:\\users\\bruno\\puc\\iniciacao\\venv\\lib\\site-packages (1.0.0)\n",
      "Requirement already satisfied: deprecated>=1.2.13 in c:\\users\\bruno\\puc\\iniciacao\\venv\\lib\\site-packages (from aeon) (1.2.18)\n",
      "Requirement already satisfied: numba<0.61.0,>=0.55 in c:\\users\\bruno\\puc\\iniciacao\\venv\\lib\\site-packages (from aeon) (0.60.0)\n",
      "Requirement already satisfied: numpy<2.1.0,>=1.21.0 in c:\\users\\bruno\\puc\\iniciacao\\venv\\lib\\site-packages (from aeon) (2.0.2)\n",
      "Requirement already satisfied: packaging>=20.0 in c:\\users\\bruno\\puc\\iniciacao\\venv\\lib\\site-packages (from aeon) (24.2)\n",
      "Requirement already satisfied: pandas<2.3.0,>=2.0.0 in c:\\users\\bruno\\puc\\iniciacao\\venv\\lib\\site-packages (from aeon) (2.2.3)\n",
      "Requirement already satisfied: scikit-learn<1.6.0,>=1.0.0 in c:\\users\\bruno\\puc\\iniciacao\\venv\\lib\\site-packages (from aeon) (1.5.2)\n",
      "Requirement already satisfied: scipy<1.15.0,>=1.9.0 in c:\\users\\bruno\\puc\\iniciacao\\venv\\lib\\site-packages (from aeon) (1.14.1)\n",
      "Requirement already satisfied: typing-extensions>=4.6.0 in c:\\users\\bruno\\puc\\iniciacao\\venv\\lib\\site-packages (from aeon) (4.12.2)\n",
      "Requirement already satisfied: wrapt<2,>=1.10 in c:\\users\\bruno\\puc\\iniciacao\\venv\\lib\\site-packages (from deprecated>=1.2.13->aeon) (1.17.2)\n",
      "Requirement already satisfied: llvmlite<0.44,>=0.43.0dev0 in c:\\users\\bruno\\puc\\iniciacao\\venv\\lib\\site-packages (from numba<0.61.0,>=0.55->aeon) (0.43.0)\n",
      "Requirement already satisfied: python-dateutil>=2.8.2 in c:\\users\\bruno\\puc\\iniciacao\\venv\\lib\\site-packages (from pandas<2.3.0,>=2.0.0->aeon) (2.9.0.post0)\n",
      "Requirement already satisfied: pytz>=2020.1 in c:\\users\\bruno\\puc\\iniciacao\\venv\\lib\\site-packages (from pandas<2.3.0,>=2.0.0->aeon) (2025.1)\n",
      "Requirement already satisfied: tzdata>=2022.7 in c:\\users\\bruno\\puc\\iniciacao\\venv\\lib\\site-packages (from pandas<2.3.0,>=2.0.0->aeon) (2025.1)\n",
      "Requirement already satisfied: joblib>=1.2.0 in c:\\users\\bruno\\puc\\iniciacao\\venv\\lib\\site-packages (from scikit-learn<1.6.0,>=1.0.0->aeon) (1.4.2)\n",
      "Requirement already satisfied: threadpoolctl>=3.1.0 in c:\\users\\bruno\\puc\\iniciacao\\venv\\lib\\site-packages (from scikit-learn<1.6.0,>=1.0.0->aeon) (3.5.0)\n",
      "Requirement already satisfied: six>=1.5 in c:\\users\\bruno\\puc\\iniciacao\\venv\\lib\\site-packages (from python-dateutil>=2.8.2->pandas<2.3.0,>=2.0.0->aeon) (1.17.0)\n"
     ]
    },
    {
     "name": "stderr",
     "output_type": "stream",
     "text": [
      "\n",
      "[notice] A new release of pip is available: 24.3.1 -> 25.0.1\n",
      "[notice] To update, run: python.exe -m pip install --upgrade pip\n"
     ]
    }
   ],
   "execution_count": 1
  },
  {
   "metadata": {
    "ExecuteTime": {
     "end_time": "2025-04-06T12:18:13.741783Z",
     "start_time": "2025-04-06T12:18:10.668414Z"
    }
   },
   "cell_type": "code",
   "source": [
    "import time\n",
    "import pywt\n",
    "import numpy as np\n",
    "import pandas as pd\n",
    "\n",
    "from pyts.image import MarkovTransitionField\n",
    "from pyts.image import GramianAngularField\n",
    "from pyts.image import RecurrencePlot\n",
    "\n",
    "from aeon.transformations.collection.convolution_based import Rocket, MiniRocket\n",
    "from aeon.datasets.tsc_datasets import multivariate\n",
    "from sklearn.linear_model import RidgeClassifierCV\n",
    "\n",
    "import config \n",
    "from config import DATASETS_FOLDER, logger\n",
    "from utils import load_dataset\n"
   ],
   "id": "6e74a7ab5f5c84fa",
   "outputs": [],
   "execution_count": 2
  },
  {
   "metadata": {},
   "cell_type": "markdown",
   "source": "#### Configurações",
   "id": "790b0230694dfe5f"
  },
  {
   "metadata": {
    "ExecuteTime": {
     "end_time": "2025-04-06T12:18:17.129674Z",
     "start_time": "2025-04-06T12:18:17.124153Z"
    }
   },
   "cell_type": "code",
   "source": [
    "RESULTS_FILENAME = f'results_run-{time.time()}.csv'\n",
    "\n",
    "reps = ['RP', 'MTF', 'GASF', 'GADF', 'FIRTS', 'CWT']\n",
    "operations = [\"sum\", \"subtraction\", \"dot_product\", \"element_wise\"]\n"
   ],
   "id": "e56718d2b9450db8",
   "outputs": [],
   "execution_count": 3
  },
  {
   "metadata": {},
   "cell_type": "markdown",
   "source": "#### Funções utilitárias",
   "id": "914f1b3dcf4ab6d3"
  },
  {
   "metadata": {
    "ExecuteTime": {
     "end_time": "2025-04-06T12:18:20.287871Z",
     "start_time": "2025-04-06T12:18:20.280509Z"
    }
   },
   "cell_type": "code",
   "source": [
    "def znorm(x):\n",
    "    \"\"\"\n",
    "    função para normalizar as séries na mesma escala\n",
    "    a série ficará com uma média próxima de 0 e desvio-padrão próximo de 1\n",
    "    \"\"\"\n",
    "\n",
    "    x_znorm = (x - np.mean(x)) / np.std(x)\n",
    "    return x_znorm\n",
    "\n",
    "\n",
    "def transform_series(series, representation):\n",
    "    \"\"\"\n",
    "    função que transforma uma série de entrada em uma imagem em 2D.\n",
    "    transformações que serão exploradas: CWT, MTF, GADF, GASF, RP e FIRTS\n",
    "    referência para entender um pouco melhor: https://pyts.readthedocs.io/en/stable/modules/image.html\n",
    "    \"\"\"\n",
    "\n",
    "    series = np.array(znorm(series))\n",
    "    if representation == \"CWT\":\n",
    "        coeffs, freqs = pywt.cwt(series, scales=np.arange(1, len(series) + 1), wavelet='morl') # morl\n",
    "        im_final = coeffs\n",
    "    elif representation == \"MTF\":\n",
    "        series = series.reshape(1, len(series))\n",
    "        mtf = MarkovTransitionField(strategy='normal') #n_bins=4, strategy='uniform'\n",
    "        X_mtf = mtf.fit_transform(series)\n",
    "        im_final = X_mtf[0]\n",
    "    elif representation == \"GADF\":\n",
    "        series = series.reshape(1, len(series))\n",
    "        gaf = GramianAngularField(method='difference')\n",
    "        X_gaf = gaf.fit_transform(series)\n",
    "        im_final = X_gaf[0]\n",
    "    elif representation == \"GASF\":\n",
    "        series = series.reshape(1, len(series))\n",
    "        gaf = GramianAngularField(method='summation')\n",
    "        X_gaf = gaf.fit_transform(series)\n",
    "        im_final = X_gaf[0]\n",
    "    elif representation == \"RP\":\n",
    "        series = series.reshape(1, len(series))\n",
    "        rp = RecurrencePlot(threshold='distance')\n",
    "        X_rp = rp.fit_transform(series)\n",
    "        im_final = X_rp[0]\n",
    "    elif representation == \"FIRTS\":\n",
    "        series = series.reshape(1, len(series))\n",
    "        mtf = MarkovTransitionField(n_bins=4, strategy='uniform')\n",
    "        X_mtf = mtf.fit_transform(series)\n",
    "        gaf = GramianAngularField(method='difference')\n",
    "        X_gaf = gaf.fit_transform(series)\n",
    "        rp = RecurrencePlot(threshold='distance')\n",
    "        X_rp = rp.fit_transform(series)\n",
    "        im_final = (X_mtf[0] + X_gaf[0] + X_rp[0])\n",
    "    return im_final\n",
    "\n",
    "\n",
    "def dimensions_fusion(img_dataset, operation):\n",
    "    \"\"\"\n",
    "    operation: sum, subtraction, dot_product, element_wise\n",
    "    \"\"\"\n",
    "\n",
    "    new_data = []\n",
    "    for dataset in img_dataset:\n",
    "        imgs = dataset.copy()\n",
    "        img_final = imgs.pop()\n",
    "        for img in imgs:\n",
    "            if operation == 'sum':\n",
    "                img_final += img\n",
    "            elif operation == 'subtraction':\n",
    "                img_final -= img\n",
    "            elif operation == 'dot_product':\n",
    "                img_final = np.dot(img_final, img)\n",
    "            elif operation == 'element_wise':\n",
    "                img_final = np.multiply(img_final, img)\n",
    "\n",
    "        flatten_img = img_final.flatten()\n",
    "        new_data.append(flatten_img)\n",
    "\n",
    "    return np.array(new_data)\n"
   ],
   "id": "1f9a17d8304809f7",
   "outputs": [],
   "execution_count": 4
  },
  {
   "metadata": {},
   "cell_type": "markdown",
   "source": "#### Gerando resultados com apenas o classficador Ridge sem nenhuma transformação ou convolução",
   "id": "2a8c38b12b6a3413"
  },
  {
   "metadata": {
    "ExecuteTime": {
     "end_time": "2025-04-06T12:19:47.743724Z",
     "start_time": "2025-04-06T12:18:26.969873Z"
    }
   },
   "cell_type": "code",
   "source": [
    "df_results = pd.DataFrame(columns=[\n",
    "    \"dataset\",\n",
    "    \"representation\",\n",
    "    \"operation\",\n",
    "    \"accuracy\",\n",
    "    \"convolution_algorithm\",\n",
    "    \"classification_algorithm\",\n",
    "])\n",
    "\n",
    "for dataset_name in multivariate:\n",
    "    try:\n",
    "        dataset = load_dataset(dataset_name, DATASETS_FOLDER)\n",
    "        X_train = dataset[\"X_train\"]\n",
    "        y_train = dataset[\"y_train\"]\n",
    "        X_test = dataset[\"X_test\"]\n",
    "        y_test = dataset[\"y_test\"]\n",
    "\n",
    "        try:\n",
    "            result = np.sum(X_train[0], axis=0)\n",
    "            X_train_transformed = np.array([np.sum(serie, axis=0) for serie in X_train])\n",
    "            X_test_transformed = np.array([np.sum(serie, axis=0) for serie in X_test])\n",
    "\n",
    "            classifier = RidgeClassifierCV(alphas=np.logspace(-3, 3, 10))\n",
    "            classifier.fit(X_train_transformed, y_train)\n",
    "\n",
    "            accuracy = classifier.score(X_test_transformed, y_test)\n",
    "\n",
    "            new_result_line = {\n",
    "                \"dataset\": dataset_name,\n",
    "                \"representation\": None,\n",
    "                \"operation\": None,\n",
    "                \"accuracy\": accuracy,\n",
    "                \"convolution_algorithm\": None,\n",
    "                \"classification_algorithm\": \"Ridge\",\n",
    "            }\n",
    "            df_results.loc[len(df_results)] = new_result_line\n",
    "            df_results.to_csv(f\"{config.RESULTS_FOLDER}/{RESULTS_FILENAME}\", index=False)\n",
    "            \n",
    "            logger.info(\"Processamento finalizado com sucesso.\")\n",
    "        except Exception as e:\n",
    "            logger.error(f\"Problema com o dataset {dataset_name}: {e}\")\n",
    "    except Exception as e:\n",
    "        logger.error(f\"Problema ao carregar dataset {dataset_name}: {e}\")\n"
   ],
   "id": "49e16e93b83d2422",
   "outputs": [],
   "execution_count": 5
  },
  {
   "metadata": {},
   "cell_type": "markdown",
   "source": "#### Gerando resultados com o classficador Ridge, transformações e convoluções",
   "id": "def0ecfbb9eff538"
  },
  {
   "metadata": {
    "jupyter": {
     "is_executing": true
    }
   },
   "cell_type": "code",
   "source": [
    "for dataset_name in multivariate:\n",
    "    try:\n",
    "        dataset = load_dataset(dataset_name, config.DATASETS_FOLDER)\n",
    "        X_train = dataset[\"X_train\"]\n",
    "        y_train = dataset[\"y_train\"]\n",
    "        X_test = dataset[\"X_test\"]\n",
    "        y_test = dataset[\"y_test\"]\n",
    "\n",
    "        for representation in reps:\n",
    "            logger.info(f\"Iniciando o processo de transformação das dimensões na representação {representation}\")\n",
    "\n",
    "            transformed_train_series = []\n",
    "            for exemple in X_train:\n",
    "                transformed_train_series.append(\n",
    "                    [transform_series(series, representation) for series in exemple]\n",
    "                )\n",
    "            transformed_test_series = []\n",
    "            for exemple in X_test:\n",
    "                transformed_test_series.append(\n",
    "                    [transform_series(series, representation) for series in exemple]\n",
    "                )\n",
    "\n",
    "            logger.info(\"Finalizado processo de transformação das dimensões com sucesso\")\n",
    "\n",
    "            for operation in operations:\n",
    "                logger.info(f\"Iniciando processo de fusão das dimensões na operação {operation}\")\n",
    "                X_train_transformed = dimensions_fusion(transformed_train_series, operation)\n",
    "                X_test_transformed = dimensions_fusion(transformed_test_series, operation)\n",
    "                logger.info(\"Finalizado processo de fusão\")\n",
    "\n",
    "                try:\n",
    "                    logger.info(\"Iniciando processo de treinamento apenas com o classificador Ridge\")\n",
    "                    classifier = RidgeClassifierCV(alphas=np.logspace(-3, 3, 10))\n",
    "                    classifier.fit(X_train_transformed, y_train)\n",
    "\n",
    "                    accuracy = classifier.score(X_test_transformed, y_test)\n",
    "\n",
    "                    new_result_line = {\n",
    "                        \"dataset\": dataset_name,\n",
    "                        \"representation\": representation,\n",
    "                        \"operation\": operation,\n",
    "                        \"accuracy\": accuracy,\n",
    "                        \"convolution_algorithm\": None,\n",
    "                        \"classification_algorithm\": \"Ridge\",\n",
    "                    }\n",
    "                    df_results.loc[len(df_results)] = new_result_line\n",
    "                except Exception as e:\n",
    "                    logger.error(f\"Problema com o dataset {dataset_name} com o classificador Ridge: {e}\")\n",
    "\n",
    "                try:\n",
    "                    logger.info(\"Iniciando processo de treinamento com o classificador Ridge e convolução Rocket\")\n",
    "\n",
    "                    algorithm = Rocket(n_kernels=10000, n_jobs=-1, random_state=6)\n",
    "                    algorithm.fit(X_train_transformed)\n",
    "\n",
    "                    X_train_transformed = algorithm.transform(X_train_transformed)\n",
    "                    X_test_transformed = algorithm.transform(X_test_transformed)\n",
    "\n",
    "                    classifier = RidgeClassifierCV(alphas=np.logspace(-3, 3, 10))\n",
    "                    classifier.fit(X_train_transformed, y_train)\n",
    "\n",
    "                    accuracy = classifier.score(X_test_transformed, y_test)\n",
    "\n",
    "                    new_result_line = {\n",
    "                        \"dataset\": dataset_name,\n",
    "                        \"representation\": representation,\n",
    "                        \"operation\": operation,\n",
    "                        \"accuracy\": accuracy,\n",
    "                        \"convolution_algorithm\": \"Rocket\",\n",
    "                        \"classification_algorithm\": \"Ridge\",\n",
    "                    }\n",
    "                    df_results.loc[len(df_results)] = new_result_line\n",
    "                    df_results.to_csv(f\"{config.RESULTS_FOLDER}/{RESULTS_FILENAME}\", index=False)\n",
    "                except Exception as e:\n",
    "                    logger.error(f\"Problema com o dataset {dataset_name} usando Rocket: {e}\")\n",
    "\n",
    "                try:\n",
    "                    logger.info(\"Iniciando processo de treinamento com o classificador Ridge e convolução MiniRocket\")\n",
    "\n",
    "                    algorithm = MiniRocket(n_kernels=10000, n_jobs=-1, random_state=6)\n",
    "                    algorithm.fit(X_train_transformed)\n",
    "\n",
    "                    X_train_transformed = algorithm.transform(X_train_transformed)\n",
    "                    X_test_transformed = algorithm.transform(X_test_transformed)\n",
    "\n",
    "                    classifier = RidgeClassifierCV(alphas=np.logspace(-3, 3, 10))\n",
    "                    classifier.fit(X_train_transformed, y_train)\n",
    "\n",
    "                    accuracy = classifier.score(X_test_transformed, y_test)\n",
    "\n",
    "                    new_result_line = {\n",
    "                        \"dataset\": dataset_name,\n",
    "                        \"representation\": representation,\n",
    "                        \"operation\": operation,\n",
    "                        \"accuracy\": accuracy,\n",
    "                        \"convolution_algorithm\": \"MiniRocket\",\n",
    "                        \"classification_algorithm\": \"Ridge\",\n",
    "                    }\n",
    "                    df_results.loc[len(df_results)] = new_result_line\n",
    "                    df_results.to_csv(f\"{config.RESULTS_FOLDER}/{RESULTS_FILENAME}\", index=False)\n",
    "                except Exception as e:\n",
    "                    logger.error(f\"Problema com o dataset {dataset_name} usando MiniRocket: {e}\")\n",
    "\n",
    "        logger.info(f\"Finalizado o processamento do dataset {dataset_name}.\")\n",
    "    except Exception as e:\n",
    "        logger.error(f\"Problema ao carregar dataset {dataset_name}: {e}\")\n",
    "    \n",
    "logger.info(\"Finalizado o processamento de todos os datasets.\")\n"
   ],
   "id": "29954c0c17ff2448",
   "outputs": [],
   "execution_count": null
  },
  {
   "metadata": {},
   "cell_type": "code",
   "outputs": [],
   "execution_count": null,
   "source": "",
   "id": "c62ac1f2a36b4767"
  }
 ],
 "metadata": {
  "kernelspec": {
   "display_name": "Python 3",
   "language": "python",
   "name": "python3"
  },
  "language_info": {
   "codemirror_mode": {
    "name": "ipython",
    "version": 2
   },
   "file_extension": ".py",
   "mimetype": "text/x-python",
   "name": "python",
   "nbconvert_exporter": "python",
   "pygments_lexer": "ipython2",
   "version": "2.7.6"
  }
 },
 "nbformat": 4,
 "nbformat_minor": 5
}
