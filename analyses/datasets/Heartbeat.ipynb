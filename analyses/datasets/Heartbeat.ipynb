{
 "cells": [
  {
   "cell_type": "code",
   "id": "initial_id",
   "metadata": {
    "collapsed": true,
    "ExecuteTime": {
     "end_time": "2025-05-22T10:06:57.514576Z",
     "start_time": "2025-05-22T10:06:56.650194Z"
    }
   },
   "source": [
    "import pandas as pd\n",
    "import numpy as np\n",
    "import matplotlib as plt\n",
    "from aeon.datasets import load_from_ts_file\n",
    "import seaborn as sns\n",
    "\n",
    "from utils.utils import dimensions_fusion, transform_series, load_dataset\n",
    "from utils import config"
   ],
   "outputs": [],
   "execution_count": 1
  },
  {
   "metadata": {
    "ExecuteTime": {
     "end_time": "2025-05-22T10:06:58.449570Z",
     "start_time": "2025-05-22T10:06:57.515582Z"
    }
   },
   "cell_type": "code",
   "source": [
    "DATASETS_FOLDER = \"C:/Users/bruno/puc/iniciacao/projeto/datasets/data\"\n",
    "X_train, y_train = load_from_ts_file(f\"{DATASETS_FOLDER}/Heartbeat/Heartbeat_TRAIN.ts\")"
   ],
   "id": "6da4e1593c68484",
   "outputs": [],
   "execution_count": 2
  },
  {
   "metadata": {
    "ExecuteTime": {
     "end_time": "2025-05-22T10:07:05.513954Z",
     "start_time": "2025-05-22T10:06:58.450574Z"
    }
   },
   "cell_type": "code",
   "source": [
    "transformed_train_series = []\n",
    "for exemple in X_train:\n",
    "    transformed_train_series.append(\n",
    "        [transform_series(series, \"MTF\") for series in exemple]\n",
    "    )\n",
    "transformed_test_series = []\n",
    "for exemple in X_train:\n",
    "    transformed_test_series.append(\n",
    "        [transform_series(series, \"MTF\") for series in exemple]\n",
    "    )\n"
   ],
   "id": "bbd93100150b4b9e",
   "outputs": [
    {
     "ename": "KeyboardInterrupt",
     "evalue": "",
     "output_type": "error",
     "traceback": [
      "\u001B[31m---------------------------------------------------------------------------\u001B[39m",
      "\u001B[31mKeyboardInterrupt\u001B[39m                         Traceback (most recent call last)",
      "\u001B[36mCell\u001B[39m\u001B[36m \u001B[39m\u001B[32mIn[3]\u001B[39m\u001B[32m, line 4\u001B[39m\n\u001B[32m      1\u001B[39m transformed_train_series = []\n\u001B[32m      2\u001B[39m \u001B[38;5;28;01mfor\u001B[39;00m exemple \u001B[38;5;129;01min\u001B[39;00m X_train:\n\u001B[32m      3\u001B[39m     transformed_train_series.append(\n\u001B[32m----> \u001B[39m\u001B[32m4\u001B[39m         [\u001B[43mtransform_series\u001B[49m\u001B[43m(\u001B[49m\u001B[43mseries\u001B[49m\u001B[43m,\u001B[49m\u001B[43m \u001B[49m\u001B[33;43m\"\u001B[39;49m\u001B[33;43mMTF\u001B[39;49m\u001B[33;43m\"\u001B[39;49m\u001B[43m)\u001B[49m \u001B[38;5;28;01mfor\u001B[39;00m series \u001B[38;5;129;01min\u001B[39;00m exemple]\n\u001B[32m      5\u001B[39m     )\n\u001B[32m      6\u001B[39m transformed_test_series = []\n\u001B[32m      7\u001B[39m \u001B[38;5;28;01mfor\u001B[39;00m exemple \u001B[38;5;129;01min\u001B[39;00m X_train:\n",
      "\u001B[36mFile \u001B[39m\u001B[32m~\\puc\\iniciacao\\projeto\\utils\\utils.py:72\u001B[39m, in \u001B[36mtransform_series\u001B[39m\u001B[34m(series, representation)\u001B[39m\n\u001B[32m     70\u001B[39m     series = series.reshape(\u001B[32m1\u001B[39m, \u001B[38;5;28mlen\u001B[39m(series))\n\u001B[32m     71\u001B[39m     mtf = MarkovTransitionField(strategy=\u001B[33m'\u001B[39m\u001B[33mnormal\u001B[39m\u001B[33m'\u001B[39m) \u001B[38;5;66;03m#n_bins=4, strategy='uniform'\u001B[39;00m\n\u001B[32m---> \u001B[39m\u001B[32m72\u001B[39m     X_mtf = \u001B[43mmtf\u001B[49m\u001B[43m.\u001B[49m\u001B[43mfit_transform\u001B[49m\u001B[43m(\u001B[49m\u001B[43mseries\u001B[49m\u001B[43m)\u001B[49m\n\u001B[32m     73\u001B[39m     im_final = X_mtf[\u001B[32m0\u001B[39m]\n\u001B[32m     74\u001B[39m \u001B[38;5;28;01melif\u001B[39;00m representation == \u001B[33m\"\u001B[39m\u001B[33mGADF\u001B[39m\u001B[33m\"\u001B[39m:\n",
      "\u001B[36mFile \u001B[39m\u001B[32m~\\puc\\iniciacao\\projeto\\venv\\Lib\\site-packages\\pyts\\base.py:37\u001B[39m, in \u001B[36mUnivariateTransformerMixin.fit_transform\u001B[39m\u001B[34m(self, X, y, **fit_params)\u001B[39m\n\u001B[32m     13\u001B[39m \u001B[38;5;250m\u001B[39m\u001B[33;03m\"\"\"Fit to data, then transform it.\u001B[39;00m\n\u001B[32m     14\u001B[39m \n\u001B[32m     15\u001B[39m \u001B[33;03mFits transformer to `X` and `y` with optional parameters `fit_params`\u001B[39;00m\n\u001B[32m   (...)\u001B[39m\u001B[32m     33\u001B[39m \n\u001B[32m     34\u001B[39m \u001B[33;03m\"\"\"\u001B[39;00m  \u001B[38;5;66;03m# noqa: E501\u001B[39;00m\n\u001B[32m     35\u001B[39m \u001B[38;5;28;01mif\u001B[39;00m y \u001B[38;5;129;01mis\u001B[39;00m \u001B[38;5;28;01mNone\u001B[39;00m:\n\u001B[32m     36\u001B[39m     \u001B[38;5;66;03m# fit method of arity 1 (unsupervised transformation)\u001B[39;00m\n\u001B[32m---> \u001B[39m\u001B[32m37\u001B[39m     \u001B[38;5;28;01mreturn\u001B[39;00m \u001B[38;5;28;43mself\u001B[39;49m\u001B[43m.\u001B[49m\u001B[43mfit\u001B[49m\u001B[43m(\u001B[49m\u001B[43mX\u001B[49m\u001B[43m,\u001B[49m\u001B[43m \u001B[49m\u001B[43m*\u001B[49m\u001B[43m*\u001B[49m\u001B[43mfit_params\u001B[49m\u001B[43m)\u001B[49m\u001B[43m.\u001B[49m\u001B[43mtransform\u001B[49m\u001B[43m(\u001B[49m\u001B[43mX\u001B[49m\u001B[43m)\u001B[49m\n\u001B[32m     38\u001B[39m \u001B[38;5;28;01melse\u001B[39;00m:\n\u001B[32m     39\u001B[39m     \u001B[38;5;66;03m# fit method of arity 2 (supervised transformation)\u001B[39;00m\n\u001B[32m     40\u001B[39m     \u001B[38;5;28;01mreturn\u001B[39;00m \u001B[38;5;28mself\u001B[39m.fit(X, y, **fit_params).transform(X)\n",
      "\u001B[36mFile \u001B[39m\u001B[32m~\\puc\\iniciacao\\projeto\\venv\\Lib\\site-packages\\pyts\\image\\mtf.py:160\u001B[39m, in \u001B[36mMarkovTransitionField.transform\u001B[39m\u001B[34m(self, X)\u001B[39m\n\u001B[32m    155\u001B[39m window_size, remainder = \u001B[38;5;28mdivmod\u001B[39m(n_timestamps, image_size)\n\u001B[32m    156\u001B[39m \u001B[38;5;28;01mif\u001B[39;00m remainder == \u001B[32m0\u001B[39m:\n\u001B[32m    157\u001B[39m     X_amtf = \u001B[43mnp\u001B[49m\u001B[43m.\u001B[49m\u001B[43mreshape\u001B[49m\u001B[43m(\u001B[49m\n\u001B[32m    158\u001B[39m \u001B[43m        \u001B[49m\u001B[43mX_mtf\u001B[49m\u001B[43m,\u001B[49m\u001B[43m \u001B[49m\u001B[43m(\u001B[49m\u001B[43mn_samples\u001B[49m\u001B[43m,\u001B[49m\u001B[43m \u001B[49m\u001B[43mimage_size\u001B[49m\u001B[43m,\u001B[49m\u001B[43m \u001B[49m\u001B[43mwindow_size\u001B[49m\u001B[43m,\u001B[49m\n\u001B[32m    159\u001B[39m \u001B[43m                \u001B[49m\u001B[43mimage_size\u001B[49m\u001B[43m,\u001B[49m\u001B[43m \u001B[49m\u001B[43mwindow_size\u001B[49m\u001B[43m)\u001B[49m\n\u001B[32m--> \u001B[39m\u001B[32m160\u001B[39m \u001B[43m    \u001B[49m\u001B[43m)\u001B[49m\u001B[43m.\u001B[49m\u001B[43mmean\u001B[49m\u001B[43m(\u001B[49m\u001B[43maxis\u001B[49m\u001B[43m=\u001B[49m\u001B[43m(\u001B[49m\u001B[32;43m2\u001B[39;49m\u001B[43m,\u001B[49m\u001B[43m \u001B[49m\u001B[32;43m4\u001B[39;49m\u001B[43m)\u001B[49m\u001B[43m)\u001B[49m\n\u001B[32m    161\u001B[39m \u001B[38;5;28;01melse\u001B[39;00m:\n\u001B[32m    162\u001B[39m     window_size += \u001B[32m1\u001B[39m\n",
      "\u001B[36mFile \u001B[39m\u001B[32m~\\puc\\iniciacao\\projeto\\venv\\Lib\\site-packages\\numpy\\_core\\_methods.py:127\u001B[39m, in \u001B[36m_mean\u001B[39m\u001B[34m(a, axis, dtype, out, keepdims, where)\u001B[39m\n\u001B[32m    124\u001B[39m         dtype = mu.dtype(\u001B[33m'\u001B[39m\u001B[33mf4\u001B[39m\u001B[33m'\u001B[39m)\n\u001B[32m    125\u001B[39m         is_float16_result = \u001B[38;5;28;01mTrue\u001B[39;00m\n\u001B[32m--> \u001B[39m\u001B[32m127\u001B[39m ret = \u001B[43mumr_sum\u001B[49m\u001B[43m(\u001B[49m\u001B[43marr\u001B[49m\u001B[43m,\u001B[49m\u001B[43m \u001B[49m\u001B[43maxis\u001B[49m\u001B[43m,\u001B[49m\u001B[43m \u001B[49m\u001B[43mdtype\u001B[49m\u001B[43m,\u001B[49m\u001B[43m \u001B[49m\u001B[43mout\u001B[49m\u001B[43m,\u001B[49m\u001B[43m \u001B[49m\u001B[43mkeepdims\u001B[49m\u001B[43m,\u001B[49m\u001B[43m \u001B[49m\u001B[43mwhere\u001B[49m\u001B[43m=\u001B[49m\u001B[43mwhere\u001B[49m\u001B[43m)\u001B[49m\n\u001B[32m    128\u001B[39m \u001B[38;5;28;01mif\u001B[39;00m \u001B[38;5;28misinstance\u001B[39m(ret, mu.ndarray):\n\u001B[32m    129\u001B[39m     \u001B[38;5;28;01mwith\u001B[39;00m _no_nep50_warning():\n",
      "\u001B[31mKeyboardInterrupt\u001B[39m: "
     ]
    }
   ],
   "execution_count": 3
  },
  {
   "metadata": {
    "ExecuteTime": {
     "end_time": "2025-05-22T10:07:05.514991Z",
     "start_time": "2025-05-22T10:07:05.514991Z"
    }
   },
   "cell_type": "code",
   "source": [
    "X_train_transformed = dimensions_fusion(transformed_train_series, \"sum\")\n",
    "X_test_transformed = dimensions_fusion(transformed_test_series, \"sum\")\n"
   ],
   "id": "9d69c7ce86c75d",
   "outputs": [],
   "execution_count": null
  },
  {
   "metadata": {
    "ExecuteTime": {
     "end_time": "2025-05-22T10:07:05.515992Z",
     "start_time": "2025-05-22T10:07:05.515992Z"
    }
   },
   "cell_type": "code",
   "source": [
    "for x in X_train:\n",
    "    for y in x:\n",
    "        for z in y:\n",
    "            if np.isnan(z):\n",
    "                print(z) \n",
    "            if np.isinf(z):\n",
    "                print(z)"
   ],
   "id": "9197674a0b451ba6",
   "outputs": [],
   "execution_count": null
  },
  {
   "metadata": {
    "ExecuteTime": {
     "end_time": "2025-05-22T10:07:05.515992Z",
     "start_time": "2025-05-22T10:07:05.515992Z"
    }
   },
   "cell_type": "code",
   "source": "X_train[0][0][0]",
   "id": "4de7616559839d73",
   "outputs": [],
   "execution_count": null
  }
 ],
 "metadata": {
  "kernelspec": {
   "display_name": "Python 3",
   "language": "python",
   "name": "python3"
  },
  "language_info": {
   "codemirror_mode": {
    "name": "ipython",
    "version": 2
   },
   "file_extension": ".py",
   "mimetype": "text/x-python",
   "name": "python",
   "nbconvert_exporter": "python",
   "pygments_lexer": "ipython2",
   "version": "2.7.6"
  }
 },
 "nbformat": 4,
 "nbformat_minor": 5
}
