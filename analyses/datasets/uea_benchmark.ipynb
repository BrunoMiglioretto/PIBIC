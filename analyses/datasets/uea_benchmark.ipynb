{
 "cells": [
  {
   "cell_type": "code",
   "id": "initial_id",
   "metadata": {
    "collapsed": true,
    "ExecuteTime": {
     "end_time": "2025-08-01T13:43:17.416613Z",
     "start_time": "2025-08-01T13:43:17.413444Z"
    }
   },
   "source": [
    "import pandas as pd\n",
    "import numpy as np\n",
    "\n",
    "import seaborn as sns\n",
    "import matplotlib.pyplot as plt"
   ],
   "outputs": [],
   "execution_count": 1
  },
  {
   "metadata": {
    "ExecuteTime": {
     "end_time": "2025-08-01T13:44:04.289449Z",
     "start_time": "2025-08-01T13:44:04.284329Z"
    }
   },
   "cell_type": "code",
   "source": "df = pd.read_csv(r\"C:\\Users\\bruno\\puc\\iniciacao\\projeto\\metadata\\uea_benchmark.csv\")",
   "id": "8fd01b7cfcfb33c0",
   "outputs": [],
   "execution_count": 4
  },
  {
   "metadata": {
    "ExecuteTime": {
     "end_time": "2025-08-01T13:44:12.841130Z",
     "start_time": "2025-08-01T13:44:12.836962Z"
    }
   },
   "cell_type": "code",
   "source": "df.columns",
   "id": "877307646442759b",
   "outputs": [
    {
     "data": {
      "text/plain": [
       "Index(['dataset', 'unnormalised_edi', 'unnormalised_dtwi', 'unnormalised_dtwd',\n",
       "       'normalised_edi', 'normalised_dtwi', 'normalised_dtwd'],\n",
       "      dtype='object')"
      ]
     },
     "execution_count": 6,
     "metadata": {},
     "output_type": "execute_result"
    }
   ],
   "execution_count": 6
  },
  {
   "metadata": {
    "ExecuteTime": {
     "end_time": "2025-08-01T13:45:33.391616Z",
     "start_time": "2025-08-01T13:45:33.387166Z"
    }
   },
   "cell_type": "code",
   "source": [
    "a = [\n",
    "    df[\"unnormalised_edi\"].sum(),\n",
    "    df[\"unnormalised_dtwi\"].sum(),\n",
    "    df[\"unnormalised_dtwd\"].sum(),\n",
    "    df[\"normalised_edi\"].sum(),\n",
    "    df[\"normalised_dtwi\"].sum(),\n",
    "    df[\"normalised_dtwd\"].sum(),\n",
    "]\n",
    "max(a)"
   ],
   "id": "ee282392e301c372",
   "outputs": [
    {
     "data": {
      "text/plain": [
       "19.309"
      ]
     },
     "execution_count": 8,
     "metadata": {},
     "output_type": "execute_result"
    }
   ],
   "execution_count": 8
  },
  {
   "metadata": {
    "ExecuteTime": {
     "end_time": "2025-08-01T13:45:38.378659Z",
     "start_time": "2025-08-01T13:45:38.374526Z"
    }
   },
   "cell_type": "code",
   "source": "a",
   "id": "6cdd8032588400d",
   "outputs": [
    {
     "data": {
      "text/plain": [
       "[17.73, 19.186, 19.309, 17.428, 19.016, 17.23]"
      ]
     },
     "execution_count": 9,
     "metadata": {},
     "output_type": "execute_result"
    }
   ],
   "execution_count": 9
  }
 ],
 "metadata": {
  "kernelspec": {
   "display_name": "Python 3",
   "language": "python",
   "name": "python3"
  },
  "language_info": {
   "codemirror_mode": {
    "name": "ipython",
    "version": 2
   },
   "file_extension": ".py",
   "mimetype": "text/x-python",
   "name": "python",
   "nbconvert_exporter": "python",
   "pygments_lexer": "ipython2",
   "version": "2.7.6"
  }
 },
 "nbformat": 4,
 "nbformat_minor": 5
}
