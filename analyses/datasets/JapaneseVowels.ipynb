{
 "cells": [
  {
   "metadata": {
    "ExecuteTime": {
     "end_time": "2025-05-23T00:09:15.014925Z",
     "start_time": "2025-05-23T00:09:14.549443Z"
    }
   },
   "cell_type": "code",
   "source": [
    "import pandas as pd\n",
    "import numpy as np\n",
    "import matplotlib as plt\n",
    "from aeon.datasets import load_from_ts_file\n",
    "import seaborn as sns\n",
    "\n",
    "\n",
    "from utils import config\n",
    "from utils.utils import load_dataset, transform_series, dimensions_fusion"
   ],
   "id": "a56c564c2617cd58",
   "outputs": [],
   "execution_count": 1
  },
  {
   "metadata": {
    "ExecuteTime": {
     "end_time": "2025-05-23T00:09:15.041825Z",
     "start_time": "2025-05-23T00:09:15.018991Z"
    }
   },
   "cell_type": "code",
   "source": [
    "dataset = load_dataset(\"JapaneseVowels\", config.DATASETS_FOLDER)\n",
    "X_train = dataset[\"X_train\"]\n",
    "y_train = dataset[\"y_train\"]\n",
    "X_test = dataset[\"X_test\"]\n",
    "y_test = dataset[\"y_test\"]\n"
   ],
   "id": "7fdede4b187f356f",
   "outputs": [],
   "execution_count": 2
  },
  {
   "metadata": {
    "ExecuteTime": {
     "end_time": "2025-05-23T00:09:33.408296Z",
     "start_time": "2025-05-23T00:09:27.269257Z"
    }
   },
   "cell_type": "code",
   "source": [
    "for exemple in X_train:\n",
    "    for rep in config.representations:\n",
    "        a = [transform_series(series, rep)for series in exemple]\n",
    "\n",
    "        for oper in config.operations:\n",
    "            dimensions_fusion([a], oper)\n"
   ],
   "id": "21cce027c14b0f40",
   "outputs": [],
   "execution_count": 4
  },
  {
   "metadata": {},
   "cell_type": "code",
   "outputs": [],
   "execution_count": null,
   "source": "",
   "id": "5e1a11b12b370c2c"
  }
 ],
 "metadata": {
  "kernelspec": {
   "display_name": "Python 3",
   "language": "python",
   "name": "python3"
  },
  "language_info": {
   "codemirror_mode": {
    "name": "ipython",
    "version": 2
   },
   "file_extension": ".py",
   "mimetype": "text/x-python",
   "name": "python",
   "nbconvert_exporter": "python",
   "pygments_lexer": "ipython2",
   "version": "2.7.6"
  }
 },
 "nbformat": 4,
 "nbformat_minor": 5
}
