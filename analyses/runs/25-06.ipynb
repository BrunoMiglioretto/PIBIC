{
 "cells": [
  {
   "cell_type": "code",
   "id": "initial_id",
   "metadata": {
    "collapsed": true,
    "ExecuteTime": {
     "end_time": "2025-06-25T16:57:31.103656Z",
     "start_time": "2025-06-25T16:57:31.100821Z"
    }
   },
   "source": [
    "import itertools\n",
    "import pandas as pd\n",
    "import numpy as np\n",
    "\n",
    "from aeon.datasets.tsc_datasets import multivariate"
   ],
   "outputs": [],
   "execution_count": 26
  },
  {
   "metadata": {
    "ExecuteTime": {
     "end_time": "2025-06-25T16:57:31.112306Z",
     "start_time": "2025-06-25T16:57:31.104661Z"
    }
   },
   "cell_type": "code",
   "source": [
    "df = pd.read_csv(\"../../results/results_25-06.csv\")\n",
    "df_properties = pd.read_csv(\"../../metadata/datasets_properties.csv\")"
   ],
   "id": "49ab40c5af738f9e",
   "outputs": [],
   "execution_count": 27
  },
  {
   "metadata": {
    "ExecuteTime": {
     "end_time": "2025-06-25T16:57:31.149906Z",
     "start_time": "2025-06-25T16:57:31.146907Z"
    }
   },
   "cell_type": "code",
   "source": [
    "reps = ['RP', 'MTF', 'GASF', 'GADF', 'FIRTS', 'CWT']\n",
    "operations = [\"sum\", \"subtraction\", \"dot_product\", \"element_wise\"]\n",
    "convolution_algorithm = [np.nan, \"MiniRocket\", \"Rocket\"]"
   ],
   "id": "da8d9eef0d8f5cb4",
   "outputs": [],
   "execution_count": 28
  },
  {
   "metadata": {},
   "cell_type": "markdown",
   "source": "# Resultados",
   "id": "509a6213de10bdb5"
  },
  {
   "metadata": {
    "ExecuteTime": {
     "end_time": "2025-06-25T16:57:31.211855Z",
     "start_time": "2025-06-25T16:57:31.204315Z"
    }
   },
   "cell_type": "code",
   "source": "df",
   "id": "73d3a14fa25245cd",
   "outputs": [
    {
     "data": {
      "text/plain": [
       "                        dataset representation    operation  accuracy  \\\n",
       "0     ArticularyWordRecognition             RP          sum  0.603333   \n",
       "1     ArticularyWordRecognition             RP          sum  0.713333   \n",
       "2     ArticularyWordRecognition             RP          sum  0.363333   \n",
       "3     ArticularyWordRecognition             RP  subtraction  0.313333   \n",
       "4     ArticularyWordRecognition             RP  subtraction  0.410000   \n",
       "...                         ...            ...          ...       ...   \n",
       "1974                    PEMS-SF            CWT          sum  0.901734   \n",
       "1975                    PEMS-SF            CWT          sum  0.855491   \n",
       "1976                    PEMS-SF            CWT  subtraction  0.635838   \n",
       "1977                    PEMS-SF            CWT  subtraction  0.780347   \n",
       "1978                    PEMS-SF            CWT  subtraction  0.786127   \n",
       "\n",
       "     convolution_algorithm classification_algorithm  \n",
       "0                      NaN                    Ridge  \n",
       "1                   Rocket                    Ridge  \n",
       "2               MiniRocket                    Ridge  \n",
       "3                      NaN                    Ridge  \n",
       "4                   Rocket                    Ridge  \n",
       "...                    ...                      ...  \n",
       "1974                Rocket                    Ridge  \n",
       "1975            MiniRocket                    Ridge  \n",
       "1976                   NaN                    Ridge  \n",
       "1977                Rocket                    Ridge  \n",
       "1978            MiniRocket                    Ridge  \n",
       "\n",
       "[1979 rows x 6 columns]"
      ],
      "text/html": [
       "<div>\n",
       "<style scoped>\n",
       "    .dataframe tbody tr th:only-of-type {\n",
       "        vertical-align: middle;\n",
       "    }\n",
       "\n",
       "    .dataframe tbody tr th {\n",
       "        vertical-align: top;\n",
       "    }\n",
       "\n",
       "    .dataframe thead th {\n",
       "        text-align: right;\n",
       "    }\n",
       "</style>\n",
       "<table border=\"1\" class=\"dataframe\">\n",
       "  <thead>\n",
       "    <tr style=\"text-align: right;\">\n",
       "      <th></th>\n",
       "      <th>dataset</th>\n",
       "      <th>representation</th>\n",
       "      <th>operation</th>\n",
       "      <th>accuracy</th>\n",
       "      <th>convolution_algorithm</th>\n",
       "      <th>classification_algorithm</th>\n",
       "    </tr>\n",
       "  </thead>\n",
       "  <tbody>\n",
       "    <tr>\n",
       "      <th>0</th>\n",
       "      <td>ArticularyWordRecognition</td>\n",
       "      <td>RP</td>\n",
       "      <td>sum</td>\n",
       "      <td>0.603333</td>\n",
       "      <td>NaN</td>\n",
       "      <td>Ridge</td>\n",
       "    </tr>\n",
       "    <tr>\n",
       "      <th>1</th>\n",
       "      <td>ArticularyWordRecognition</td>\n",
       "      <td>RP</td>\n",
       "      <td>sum</td>\n",
       "      <td>0.713333</td>\n",
       "      <td>Rocket</td>\n",
       "      <td>Ridge</td>\n",
       "    </tr>\n",
       "    <tr>\n",
       "      <th>2</th>\n",
       "      <td>ArticularyWordRecognition</td>\n",
       "      <td>RP</td>\n",
       "      <td>sum</td>\n",
       "      <td>0.363333</td>\n",
       "      <td>MiniRocket</td>\n",
       "      <td>Ridge</td>\n",
       "    </tr>\n",
       "    <tr>\n",
       "      <th>3</th>\n",
       "      <td>ArticularyWordRecognition</td>\n",
       "      <td>RP</td>\n",
       "      <td>subtraction</td>\n",
       "      <td>0.313333</td>\n",
       "      <td>NaN</td>\n",
       "      <td>Ridge</td>\n",
       "    </tr>\n",
       "    <tr>\n",
       "      <th>4</th>\n",
       "      <td>ArticularyWordRecognition</td>\n",
       "      <td>RP</td>\n",
       "      <td>subtraction</td>\n",
       "      <td>0.410000</td>\n",
       "      <td>Rocket</td>\n",
       "      <td>Ridge</td>\n",
       "    </tr>\n",
       "    <tr>\n",
       "      <th>...</th>\n",
       "      <td>...</td>\n",
       "      <td>...</td>\n",
       "      <td>...</td>\n",
       "      <td>...</td>\n",
       "      <td>...</td>\n",
       "      <td>...</td>\n",
       "    </tr>\n",
       "    <tr>\n",
       "      <th>1974</th>\n",
       "      <td>PEMS-SF</td>\n",
       "      <td>CWT</td>\n",
       "      <td>sum</td>\n",
       "      <td>0.901734</td>\n",
       "      <td>Rocket</td>\n",
       "      <td>Ridge</td>\n",
       "    </tr>\n",
       "    <tr>\n",
       "      <th>1975</th>\n",
       "      <td>PEMS-SF</td>\n",
       "      <td>CWT</td>\n",
       "      <td>sum</td>\n",
       "      <td>0.855491</td>\n",
       "      <td>MiniRocket</td>\n",
       "      <td>Ridge</td>\n",
       "    </tr>\n",
       "    <tr>\n",
       "      <th>1976</th>\n",
       "      <td>PEMS-SF</td>\n",
       "      <td>CWT</td>\n",
       "      <td>subtraction</td>\n",
       "      <td>0.635838</td>\n",
       "      <td>NaN</td>\n",
       "      <td>Ridge</td>\n",
       "    </tr>\n",
       "    <tr>\n",
       "      <th>1977</th>\n",
       "      <td>PEMS-SF</td>\n",
       "      <td>CWT</td>\n",
       "      <td>subtraction</td>\n",
       "      <td>0.780347</td>\n",
       "      <td>Rocket</td>\n",
       "      <td>Ridge</td>\n",
       "    </tr>\n",
       "    <tr>\n",
       "      <th>1978</th>\n",
       "      <td>PEMS-SF</td>\n",
       "      <td>CWT</td>\n",
       "      <td>subtraction</td>\n",
       "      <td>0.786127</td>\n",
       "      <td>MiniRocket</td>\n",
       "      <td>Ridge</td>\n",
       "    </tr>\n",
       "  </tbody>\n",
       "</table>\n",
       "<p>1979 rows × 6 columns</p>\n",
       "</div>"
      ]
     },
     "execution_count": 29,
     "metadata": {},
     "output_type": "execute_result"
    }
   ],
   "execution_count": 29
  },
  {
   "metadata": {},
   "cell_type": "markdown",
   "source": "## Resultados faltantes",
   "id": "c21cc841c09115fd"
  },
  {
   "metadata": {
    "ExecuteTime": {
     "end_time": "2025-06-25T16:57:31.233331Z",
     "start_time": "2025-06-25T16:57:31.212865Z"
    }
   },
   "cell_type": "code",
   "source": [
    "permutations = list(\n",
    "    itertools.product(\n",
    "        multivariate,\n",
    "        reps,\n",
    "        operations,\n",
    "        convolution_algorithm\n",
    "    )\n",
    ")\n",
    "\n",
    "df_permutation = pd.DataFrame(\n",
    "    permutations,\n",
    "    columns=[\"dataset\", \"representation\", \"operation\", \"convolution_algorithm\"]\n",
    ")\n",
    "\n",
    "df_diff = df_permutation.merge(\n",
    "    df[[\"dataset\", \"representation\", \"operation\", \"convolution_algorithm\"]], \n",
    "    how='outer', \n",
    "    indicator=True\n",
    ").query('_merge == \"left_only\"').drop('_merge', axis=1)\n",
    "\n",
    "df_diff"
   ],
   "id": "400f0f024172d29",
   "outputs": [
    {
     "data": {
      "text/plain": [
       "             dataset representation    operation convolution_algorithm\n",
       "365    DuckDuckGeese            CWT  dot_product            MiniRocket\n",
       "366    DuckDuckGeese            CWT  dot_product                Rocket\n",
       "367    DuckDuckGeese            CWT  dot_product                   NaN\n",
       "377    DuckDuckGeese          FIRTS  dot_product            MiniRocket\n",
       "378    DuckDuckGeese          FIRTS  dot_product                Rocket\n",
       "...              ...            ...          ...                   ...\n",
       "1818  PhonemeSpectra             RP  subtraction                Rocket\n",
       "1819  PhonemeSpectra             RP  subtraction                   NaN\n",
       "1820  PhonemeSpectra             RP          sum            MiniRocket\n",
       "1821  PhonemeSpectra             RP          sum                Rocket\n",
       "1822  PhonemeSpectra             RP          sum                   NaN\n",
       "\n",
       "[282 rows x 4 columns]"
      ],
      "text/html": [
       "<div>\n",
       "<style scoped>\n",
       "    .dataframe tbody tr th:only-of-type {\n",
       "        vertical-align: middle;\n",
       "    }\n",
       "\n",
       "    .dataframe tbody tr th {\n",
       "        vertical-align: top;\n",
       "    }\n",
       "\n",
       "    .dataframe thead th {\n",
       "        text-align: right;\n",
       "    }\n",
       "</style>\n",
       "<table border=\"1\" class=\"dataframe\">\n",
       "  <thead>\n",
       "    <tr style=\"text-align: right;\">\n",
       "      <th></th>\n",
       "      <th>dataset</th>\n",
       "      <th>representation</th>\n",
       "      <th>operation</th>\n",
       "      <th>convolution_algorithm</th>\n",
       "    </tr>\n",
       "  </thead>\n",
       "  <tbody>\n",
       "    <tr>\n",
       "      <th>365</th>\n",
       "      <td>DuckDuckGeese</td>\n",
       "      <td>CWT</td>\n",
       "      <td>dot_product</td>\n",
       "      <td>MiniRocket</td>\n",
       "    </tr>\n",
       "    <tr>\n",
       "      <th>366</th>\n",
       "      <td>DuckDuckGeese</td>\n",
       "      <td>CWT</td>\n",
       "      <td>dot_product</td>\n",
       "      <td>Rocket</td>\n",
       "    </tr>\n",
       "    <tr>\n",
       "      <th>367</th>\n",
       "      <td>DuckDuckGeese</td>\n",
       "      <td>CWT</td>\n",
       "      <td>dot_product</td>\n",
       "      <td>NaN</td>\n",
       "    </tr>\n",
       "    <tr>\n",
       "      <th>377</th>\n",
       "      <td>DuckDuckGeese</td>\n",
       "      <td>FIRTS</td>\n",
       "      <td>dot_product</td>\n",
       "      <td>MiniRocket</td>\n",
       "    </tr>\n",
       "    <tr>\n",
       "      <th>378</th>\n",
       "      <td>DuckDuckGeese</td>\n",
       "      <td>FIRTS</td>\n",
       "      <td>dot_product</td>\n",
       "      <td>Rocket</td>\n",
       "    </tr>\n",
       "    <tr>\n",
       "      <th>...</th>\n",
       "      <td>...</td>\n",
       "      <td>...</td>\n",
       "      <td>...</td>\n",
       "      <td>...</td>\n",
       "    </tr>\n",
       "    <tr>\n",
       "      <th>1818</th>\n",
       "      <td>PhonemeSpectra</td>\n",
       "      <td>RP</td>\n",
       "      <td>subtraction</td>\n",
       "      <td>Rocket</td>\n",
       "    </tr>\n",
       "    <tr>\n",
       "      <th>1819</th>\n",
       "      <td>PhonemeSpectra</td>\n",
       "      <td>RP</td>\n",
       "      <td>subtraction</td>\n",
       "      <td>NaN</td>\n",
       "    </tr>\n",
       "    <tr>\n",
       "      <th>1820</th>\n",
       "      <td>PhonemeSpectra</td>\n",
       "      <td>RP</td>\n",
       "      <td>sum</td>\n",
       "      <td>MiniRocket</td>\n",
       "    </tr>\n",
       "    <tr>\n",
       "      <th>1821</th>\n",
       "      <td>PhonemeSpectra</td>\n",
       "      <td>RP</td>\n",
       "      <td>sum</td>\n",
       "      <td>Rocket</td>\n",
       "    </tr>\n",
       "    <tr>\n",
       "      <th>1822</th>\n",
       "      <td>PhonemeSpectra</td>\n",
       "      <td>RP</td>\n",
       "      <td>sum</td>\n",
       "      <td>NaN</td>\n",
       "    </tr>\n",
       "  </tbody>\n",
       "</table>\n",
       "<p>282 rows × 4 columns</p>\n",
       "</div>"
      ]
     },
     "execution_count": 30,
     "metadata": {},
     "output_type": "execute_result"
    }
   ],
   "execution_count": 30
  },
  {
   "metadata": {
    "ExecuteTime": {
     "end_time": "2025-06-25T16:57:31.256640Z",
     "start_time": "2025-06-25T16:57:31.252622Z"
    }
   },
   "cell_type": "code",
   "source": [
    "for x in df_diff[\"dataset\"].unique():\n",
    "    print(x)"
   ],
   "id": "cd1704cf83c1ba27",
   "outputs": [
    {
     "name": "stdout",
     "output_type": "stream",
     "text": [
      "DuckDuckGeese\n",
      "EigenWorms\n",
      "InsectWingbeat\n",
      "MotorImagery\n",
      "PEMS-SF\n",
      "PenDigits\n",
      "PhonemeSpectra\n"
     ]
    }
   ],
   "execution_count": 31
  },
  {
   "metadata": {
    "ExecuteTime": {
     "end_time": "2025-06-25T16:57:52.483752Z",
     "start_time": "2025-06-25T16:57:52.479505Z"
    }
   },
   "cell_type": "code",
   "source": "multivariate",
   "id": "c0e691e17c4893a9",
   "outputs": [
    {
     "data": {
      "text/plain": [
       "['ArticularyWordRecognition',\n",
       " 'AtrialFibrillation',\n",
       " 'BasicMotions',\n",
       " 'CharacterTrajectories',\n",
       " 'Cricket',\n",
       " 'DuckDuckGeese',\n",
       " 'EigenWorms',\n",
       " 'Epilepsy',\n",
       " 'EthanolConcentration',\n",
       " 'ERing',\n",
       " 'FaceDetection',\n",
       " 'FingerMovements',\n",
       " 'HandMovementDirection',\n",
       " 'Handwriting',\n",
       " 'Heartbeat',\n",
       " 'InsectWingbeat',\n",
       " 'JapaneseVowels',\n",
       " 'Libras',\n",
       " 'LSST',\n",
       " 'MotorImagery',\n",
       " 'NATOPS',\n",
       " 'PenDigits',\n",
       " 'PEMS-SF',\n",
       " 'PhonemeSpectra',\n",
       " 'RacketSports',\n",
       " 'SelfRegulationSCP1',\n",
       " 'SelfRegulationSCP2',\n",
       " 'SpokenArabicDigits',\n",
       " 'StandWalkJump',\n",
       " 'UWaveGestureLibrary']"
      ]
     },
     "execution_count": 38,
     "metadata": {},
     "output_type": "execute_result"
    }
   ],
   "execution_count": 38
  },
  {
   "metadata": {},
   "cell_type": "markdown",
   "source": "# Datasets com resultados faltantes",
   "id": "56ee3e7600ad834b"
  },
  {
   "metadata": {
    "ExecuteTime": {
     "end_time": "2025-06-25T16:57:31.301671Z",
     "start_time": "2025-06-25T16:57:31.294634Z"
    }
   },
   "cell_type": "code",
   "source": [
    "datasets_missing_results = df_diff[\"dataset\"].unique() \n",
    "df_properties[df_properties[\"dataset\"].isin(datasets_missing_results)]"
   ],
   "id": "d4ad505f106e74ca",
   "outputs": [
    {
     "data": {
      "text/plain": [
       "           dataset  train_cases  test_cases  dimensions  length  classes\n",
       "5    DuckDuckGeese           60          40        1345     270        5\n",
       "6       EigenWorms          128         131           6   17984        5\n",
       "18  InsectWingbeat        30000       20000         200      78       10\n",
       "19    MotorImagery          278         100          64    3000        2\n",
       "21       PenDigits         7494        3498           2       8       10\n",
       "22         PEMS-SF          267         173         963     144        7"
      ],
      "text/html": [
       "<div>\n",
       "<style scoped>\n",
       "    .dataframe tbody tr th:only-of-type {\n",
       "        vertical-align: middle;\n",
       "    }\n",
       "\n",
       "    .dataframe tbody tr th {\n",
       "        vertical-align: top;\n",
       "    }\n",
       "\n",
       "    .dataframe thead th {\n",
       "        text-align: right;\n",
       "    }\n",
       "</style>\n",
       "<table border=\"1\" class=\"dataframe\">\n",
       "  <thead>\n",
       "    <tr style=\"text-align: right;\">\n",
       "      <th></th>\n",
       "      <th>dataset</th>\n",
       "      <th>train_cases</th>\n",
       "      <th>test_cases</th>\n",
       "      <th>dimensions</th>\n",
       "      <th>length</th>\n",
       "      <th>classes</th>\n",
       "    </tr>\n",
       "  </thead>\n",
       "  <tbody>\n",
       "    <tr>\n",
       "      <th>5</th>\n",
       "      <td>DuckDuckGeese</td>\n",
       "      <td>60</td>\n",
       "      <td>40</td>\n",
       "      <td>1345</td>\n",
       "      <td>270</td>\n",
       "      <td>5</td>\n",
       "    </tr>\n",
       "    <tr>\n",
       "      <th>6</th>\n",
       "      <td>EigenWorms</td>\n",
       "      <td>128</td>\n",
       "      <td>131</td>\n",
       "      <td>6</td>\n",
       "      <td>17984</td>\n",
       "      <td>5</td>\n",
       "    </tr>\n",
       "    <tr>\n",
       "      <th>18</th>\n",
       "      <td>InsectWingbeat</td>\n",
       "      <td>30000</td>\n",
       "      <td>20000</td>\n",
       "      <td>200</td>\n",
       "      <td>78</td>\n",
       "      <td>10</td>\n",
       "    </tr>\n",
       "    <tr>\n",
       "      <th>19</th>\n",
       "      <td>MotorImagery</td>\n",
       "      <td>278</td>\n",
       "      <td>100</td>\n",
       "      <td>64</td>\n",
       "      <td>3000</td>\n",
       "      <td>2</td>\n",
       "    </tr>\n",
       "    <tr>\n",
       "      <th>21</th>\n",
       "      <td>PenDigits</td>\n",
       "      <td>7494</td>\n",
       "      <td>3498</td>\n",
       "      <td>2</td>\n",
       "      <td>8</td>\n",
       "      <td>10</td>\n",
       "    </tr>\n",
       "    <tr>\n",
       "      <th>22</th>\n",
       "      <td>PEMS-SF</td>\n",
       "      <td>267</td>\n",
       "      <td>173</td>\n",
       "      <td>963</td>\n",
       "      <td>144</td>\n",
       "      <td>7</td>\n",
       "    </tr>\n",
       "  </tbody>\n",
       "</table>\n",
       "</div>"
      ]
     },
     "execution_count": 32,
     "metadata": {},
     "output_type": "execute_result"
    }
   ],
   "execution_count": 32
  },
  {
   "metadata": {},
   "cell_type": "markdown",
   "source": "# Datasets sem nenhum resultado",
   "id": "48226577551538e7"
  },
  {
   "metadata": {
    "ExecuteTime": {
     "end_time": "2025-06-25T16:57:31.383064Z",
     "start_time": "2025-06-25T16:57:31.373441Z"
    }
   },
   "cell_type": "code",
   "source": [
    "not_calculated_datasets = [\n",
    "    dataset\n",
    "    for dataset in multivariate\n",
    "    if dataset not in df[\"dataset\"].unique()\n",
    "]\n",
    "df_properties[df_properties[\"dataset\"].isin(not_calculated_datasets)]"
   ],
   "id": "d7b7bbcf026103f0",
   "outputs": [
    {
     "data": {
      "text/plain": [
       "Empty DataFrame\n",
       "Columns: [dataset, train_cases, test_cases, dimensions, length, classes]\n",
       "Index: []"
      ],
      "text/html": [
       "<div>\n",
       "<style scoped>\n",
       "    .dataframe tbody tr th:only-of-type {\n",
       "        vertical-align: middle;\n",
       "    }\n",
       "\n",
       "    .dataframe tbody tr th {\n",
       "        vertical-align: top;\n",
       "    }\n",
       "\n",
       "    .dataframe thead th {\n",
       "        text-align: right;\n",
       "    }\n",
       "</style>\n",
       "<table border=\"1\" class=\"dataframe\">\n",
       "  <thead>\n",
       "    <tr style=\"text-align: right;\">\n",
       "      <th></th>\n",
       "      <th>dataset</th>\n",
       "      <th>train_cases</th>\n",
       "      <th>test_cases</th>\n",
       "      <th>dimensions</th>\n",
       "      <th>length</th>\n",
       "      <th>classes</th>\n",
       "    </tr>\n",
       "  </thead>\n",
       "  <tbody>\n",
       "  </tbody>\n",
       "</table>\n",
       "</div>"
      ]
     },
     "execution_count": 33,
     "metadata": {},
     "output_type": "execute_result"
    }
   ],
   "execution_count": 33
  },
  {
   "metadata": {},
   "cell_type": "markdown",
   "source": "# Resultados faltantes dos datasets que conseguiram carregar ",
   "id": "7363e0b49ab3d3d3"
  },
  {
   "metadata": {
    "ExecuteTime": {
     "end_time": "2025-06-25T16:57:31.622354Z",
     "start_time": "2025-06-25T16:57:31.614641Z"
    }
   },
   "cell_type": "code",
   "source": [
    "missing_results_in_fine_datasets = df[\n",
    "    (df[\"dataset\"].isin(datasets_missing_results))\n",
    "    & ~(df[\"dataset\"].isin(not_calculated_datasets))\n",
    "]\n",
    "missing_results_in_fine_datasets"
   ],
   "id": "cc67ac840f17361b",
   "outputs": [
    {
     "data": {
      "text/plain": [
       "            dataset representation    operation  accuracy  \\\n",
       "360   DuckDuckGeese             RP          sum  0.160000   \n",
       "361   DuckDuckGeese             RP          sum  0.320000   \n",
       "362   DuckDuckGeese             RP          sum  0.320000   \n",
       "363   DuckDuckGeese             RP  subtraction  0.220000   \n",
       "364   DuckDuckGeese             RP  subtraction  0.280000   \n",
       "...             ...            ...          ...       ...   \n",
       "1974        PEMS-SF            CWT          sum  0.901734   \n",
       "1975        PEMS-SF            CWT          sum  0.855491   \n",
       "1976        PEMS-SF            CWT  subtraction  0.635838   \n",
       "1977        PEMS-SF            CWT  subtraction  0.780347   \n",
       "1978        PEMS-SF            CWT  subtraction  0.786127   \n",
       "\n",
       "     convolution_algorithm classification_algorithm  \n",
       "360                    NaN                    Ridge  \n",
       "361                 Rocket                    Ridge  \n",
       "362             MiniRocket                    Ridge  \n",
       "363                    NaN                    Ridge  \n",
       "364                 Rocket                    Ridge  \n",
       "...                    ...                      ...  \n",
       "1974                Rocket                    Ridge  \n",
       "1975            MiniRocket                    Ridge  \n",
       "1976                   NaN                    Ridge  \n",
       "1977                Rocket                    Ridge  \n",
       "1978            MiniRocket                    Ridge  \n",
       "\n",
       "[228 rows x 6 columns]"
      ],
      "text/html": [
       "<div>\n",
       "<style scoped>\n",
       "    .dataframe tbody tr th:only-of-type {\n",
       "        vertical-align: middle;\n",
       "    }\n",
       "\n",
       "    .dataframe tbody tr th {\n",
       "        vertical-align: top;\n",
       "    }\n",
       "\n",
       "    .dataframe thead th {\n",
       "        text-align: right;\n",
       "    }\n",
       "</style>\n",
       "<table border=\"1\" class=\"dataframe\">\n",
       "  <thead>\n",
       "    <tr style=\"text-align: right;\">\n",
       "      <th></th>\n",
       "      <th>dataset</th>\n",
       "      <th>representation</th>\n",
       "      <th>operation</th>\n",
       "      <th>accuracy</th>\n",
       "      <th>convolution_algorithm</th>\n",
       "      <th>classification_algorithm</th>\n",
       "    </tr>\n",
       "  </thead>\n",
       "  <tbody>\n",
       "    <tr>\n",
       "      <th>360</th>\n",
       "      <td>DuckDuckGeese</td>\n",
       "      <td>RP</td>\n",
       "      <td>sum</td>\n",
       "      <td>0.160000</td>\n",
       "      <td>NaN</td>\n",
       "      <td>Ridge</td>\n",
       "    </tr>\n",
       "    <tr>\n",
       "      <th>361</th>\n",
       "      <td>DuckDuckGeese</td>\n",
       "      <td>RP</td>\n",
       "      <td>sum</td>\n",
       "      <td>0.320000</td>\n",
       "      <td>Rocket</td>\n",
       "      <td>Ridge</td>\n",
       "    </tr>\n",
       "    <tr>\n",
       "      <th>362</th>\n",
       "      <td>DuckDuckGeese</td>\n",
       "      <td>RP</td>\n",
       "      <td>sum</td>\n",
       "      <td>0.320000</td>\n",
       "      <td>MiniRocket</td>\n",
       "      <td>Ridge</td>\n",
       "    </tr>\n",
       "    <tr>\n",
       "      <th>363</th>\n",
       "      <td>DuckDuckGeese</td>\n",
       "      <td>RP</td>\n",
       "      <td>subtraction</td>\n",
       "      <td>0.220000</td>\n",
       "      <td>NaN</td>\n",
       "      <td>Ridge</td>\n",
       "    </tr>\n",
       "    <tr>\n",
       "      <th>364</th>\n",
       "      <td>DuckDuckGeese</td>\n",
       "      <td>RP</td>\n",
       "      <td>subtraction</td>\n",
       "      <td>0.280000</td>\n",
       "      <td>Rocket</td>\n",
       "      <td>Ridge</td>\n",
       "    </tr>\n",
       "    <tr>\n",
       "      <th>...</th>\n",
       "      <td>...</td>\n",
       "      <td>...</td>\n",
       "      <td>...</td>\n",
       "      <td>...</td>\n",
       "      <td>...</td>\n",
       "      <td>...</td>\n",
       "    </tr>\n",
       "    <tr>\n",
       "      <th>1974</th>\n",
       "      <td>PEMS-SF</td>\n",
       "      <td>CWT</td>\n",
       "      <td>sum</td>\n",
       "      <td>0.901734</td>\n",
       "      <td>Rocket</td>\n",
       "      <td>Ridge</td>\n",
       "    </tr>\n",
       "    <tr>\n",
       "      <th>1975</th>\n",
       "      <td>PEMS-SF</td>\n",
       "      <td>CWT</td>\n",
       "      <td>sum</td>\n",
       "      <td>0.855491</td>\n",
       "      <td>MiniRocket</td>\n",
       "      <td>Ridge</td>\n",
       "    </tr>\n",
       "    <tr>\n",
       "      <th>1976</th>\n",
       "      <td>PEMS-SF</td>\n",
       "      <td>CWT</td>\n",
       "      <td>subtraction</td>\n",
       "      <td>0.635838</td>\n",
       "      <td>NaN</td>\n",
       "      <td>Ridge</td>\n",
       "    </tr>\n",
       "    <tr>\n",
       "      <th>1977</th>\n",
       "      <td>PEMS-SF</td>\n",
       "      <td>CWT</td>\n",
       "      <td>subtraction</td>\n",
       "      <td>0.780347</td>\n",
       "      <td>Rocket</td>\n",
       "      <td>Ridge</td>\n",
       "    </tr>\n",
       "    <tr>\n",
       "      <th>1978</th>\n",
       "      <td>PEMS-SF</td>\n",
       "      <td>CWT</td>\n",
       "      <td>subtraction</td>\n",
       "      <td>0.786127</td>\n",
       "      <td>MiniRocket</td>\n",
       "      <td>Ridge</td>\n",
       "    </tr>\n",
       "  </tbody>\n",
       "</table>\n",
       "<p>228 rows × 6 columns</p>\n",
       "</div>"
      ]
     },
     "execution_count": 34,
     "metadata": {},
     "output_type": "execute_result"
    }
   ],
   "execution_count": 34
  },
  {
   "metadata": {
    "ExecuteTime": {
     "end_time": "2025-06-25T16:57:31.787307Z",
     "start_time": "2025-06-25T16:57:31.702168Z"
    }
   },
   "cell_type": "code",
   "source": [
    "per_representation = missing_results_in_fine_datasets[\"representation\"].value_counts()\n",
    "per_representation.plot(kind=\"bar\")"
   ],
   "id": "9c2e2e49754b1eae",
   "outputs": [
    {
     "data": {
      "text/plain": [
       "<Axes: xlabel='representation'>"
      ]
     },
     "execution_count": 35,
     "metadata": {},
     "output_type": "execute_result"
    },
    {
     "data": {
      "text/plain": [
       "<Figure size 640x480 with 1 Axes>"
      ],
      "image/png": "[encoded data removed]"
     },
     "metadata": {},
     "output_type": "display_data"
    }
   ],
   "execution_count": 35
  },
  {
   "metadata": {
    "ExecuteTime": {
     "end_time": "2025-06-25T16:57:31.913206Z",
     "start_time": "2025-06-25T16:57:31.838519Z"
    }
   },
   "cell_type": "code",
   "source": [
    "per_operation = missing_results_in_fine_datasets[\"operation\"].value_counts()\n",
    "per_operation.plot(kind=\"bar\")"
   ],
   "id": "3b80c83d67675001",
   "outputs": [
    {
     "data": {
      "text/plain": [
       "<Axes: xlabel='operation'>"
      ]
     },
     "execution_count": 36,
     "metadata": {},
     "output_type": "execute_result"
    },
    {
     "data": {
      "text/plain": [
       "<Figure size 640x480 with 1 Axes>"
      ],
      "image/png": "[encoded data removed]"
     },
     "metadata": {},
     "output_type": "display_data"
    }
   ],
   "execution_count": 36
  },
  {
   "metadata": {
    "ExecuteTime": {
     "end_time": "2025-06-25T16:57:32.003916Z",
     "start_time": "2025-06-25T16:57:31.926528Z"
    }
   },
   "cell_type": "code",
   "source": [
    "per_concolution_algorithm = missing_results_in_fine_datasets[\"convolution_algorithm\"].value_counts()\n",
    "per_concolution_algorithm.plot(kind=\"bar\")"
   ],
   "id": "56d3b6c753045687",
   "outputs": [
    {
     "data": {
      "text/plain": [
       "<Axes: xlabel='convolution_algorithm'>"
      ]
     },
     "execution_count": 37,
     "metadata": {},
     "output_type": "execute_result"
    },
    {
     "data": {
      "text/plain": [
       "<Figure size 640x480 with 1 Axes>"
      ],
      "image/png": "[encoded data removed]"
     },
     "metadata": {},
     "output_type": "display_data"
    }
   ],
   "execution_count": 37
  }
 ],
 "metadata": {
  "kernelspec": {
   "display_name": "Python 3",
   "language": "python",
   "name": "python3"
  },
  "language_info": {
   "codemirror_mode": {
    "name": "ipython",
    "version": 2
   },
   "file_extension": ".py",
   "mimetype": "text/x-python",
   "name": "python",
   "nbconvert_exporter": "python",
   "pygments_lexer": "ipython2",
   "version": "2.7.6"
  }
 },
 "nbformat": 4,
 "nbformat_minor": 5
}
