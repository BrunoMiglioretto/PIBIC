{
 "cells": [
  {
   "cell_type": "code",
   "id": "initial_id",
   "metadata": {
    "collapsed": true,
    "ExecuteTime": {
     "end_time": "2025-05-14T17:06:45.592795Z",
     "start_time": "2025-05-14T17:06:45.197522Z"
    }
   },
   "source": [
    "import pandas as pd\n",
    "import numpy as np\n",
    "import matplotlib as plt\n",
    "from aeon.datasets import load_from_ts_file\n",
    "import seaborn as sns\n",
    "\n",
    "from utils.utils import dimensions_fusion, transform_series, load_dataset\n",
    "from utils import config"
   ],
   "outputs": [],
   "execution_count": 1
  },
  {
   "metadata": {
    "ExecuteTime": {
     "end_time": "2025-05-14T17:06:48.294150Z",
     "start_time": "2025-05-14T17:06:47.394189Z"
    }
   },
   "cell_type": "code",
   "source": [
    "DATASETS_FOLDER = \"C:/Users/bruno/puc/iniciacao/projeto/datasets/data\"\n",
    "X_train, y_train = load_from_ts_file(f\"{DATASETS_FOLDER}/Heartbeat/Heartbeat_TRAIN.ts\")"
   ],
   "id": "6da4e1593c68484",
   "outputs": [],
   "execution_count": 2
  },
  {
   "metadata": {
    "ExecuteTime": {
     "end_time": "2025-05-03T18:46:40.187097Z",
     "start_time": "2025-05-03T18:46:02.058030Z"
    }
   },
   "cell_type": "code",
   "source": [
    "transformed_train_series = []\n",
    "for exemple in X_train:\n",
    "    transformed_train_series.append(\n",
    "        [transform_series(series, \"MTF\") for series in exemple]\n",
    "    )\n",
    "transformed_test_series = []\n",
    "for exemple in X_train:\n",
    "    transformed_test_series.append(\n",
    "        [transform_series(series, \"MTF\") for series in exemple]\n",
    "    )\n"
   ],
   "id": "bbd93100150b4b9e",
   "outputs": [],
   "execution_count": 11
  },
  {
   "metadata": {
    "ExecuteTime": {
     "end_time": "2025-05-03T18:48:52.794647Z",
     "start_time": "2025-05-03T18:47:21.515971Z"
    }
   },
   "cell_type": "code",
   "source": [
    "X_train_transformed = dimensions_fusion(transformed_train_series, \"sum\")\n",
    "X_test_transformed = dimensions_fusion(transformed_test_series, \"sum\")\n"
   ],
   "id": "9d69c7ce86c75d",
   "outputs": [],
   "execution_count": 12
  },
  {
   "metadata": {
    "ExecuteTime": {
     "end_time": "2025-05-14T17:10:35.174121Z",
     "start_time": "2025-05-14T17:10:28.383682Z"
    }
   },
   "cell_type": "code",
   "source": [
    "for x in X_train:\n",
    "    for y in x:\n",
    "        for z in y:\n",
    "            if np.isnan(z):\n",
    "                print(z) \n",
    "            if np.isinf(z):\n",
    "                print(z)"
   ],
   "id": "9197674a0b451ba6",
   "outputs": [],
   "execution_count": 13
  },
  {
   "metadata": {
    "ExecuteTime": {
     "end_time": "2025-05-14T17:09:02.647301Z",
     "start_time": "2025-05-14T17:09:02.643301Z"
    }
   },
   "cell_type": "code",
   "source": "X_train[0][0][0]",
   "id": "4de7616559839d73",
   "outputs": [
    {
     "data": {
      "text/plain": [
       "np.float64(0.000949)"
      ]
     },
     "execution_count": 9,
     "metadata": {},
     "output_type": "execute_result"
    }
   ],
   "execution_count": 9
  }
 ],
 "metadata": {
  "kernelspec": {
   "display_name": "Python 3",
   "language": "python",
   "name": "python3"
  },
  "language_info": {
   "codemirror_mode": {
    "name": "ipython",
    "version": 2
   },
   "file_extension": ".py",
   "mimetype": "text/x-python",
   "name": "python",
   "nbconvert_exporter": "python",
   "pygments_lexer": "ipython2",
   "version": "2.7.6"
  }
 },
 "nbformat": 4,
 "nbformat_minor": 5
}
