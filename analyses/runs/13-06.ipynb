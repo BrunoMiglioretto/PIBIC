{
 "cells": [
  {
   "cell_type": "code",
   "id": "initial_id",
   "metadata": {
    "collapsed": true,
    "ExecuteTime": {
     "end_time": "2025-06-13T16:57:32.862035Z",
     "start_time": "2025-06-13T16:57:32.632548Z"
    }
   },
   "source": [
    "import itertools\n",
    "import pandas as pd\n",
    "import numpy as np\n",
    "\n",
    "from aeon.datasets.tsc_datasets import multivariate"
   ],
   "outputs": [],
   "execution_count": 1
  },
  {
   "metadata": {
    "ExecuteTime": {
     "end_time": "2025-06-13T16:57:32.872619Z",
     "start_time": "2025-06-13T16:57:32.862035Z"
    }
   },
   "cell_type": "code",
   "source": [
    "df = pd.read_csv(\"../../results/results_13-06.csv\")\n",
    "df_properties = pd.read_csv(\"../../metadata/datasets_properties.csv\")"
   ],
   "id": "49ab40c5af738f9e",
   "outputs": [],
   "execution_count": 2
  },
  {
   "metadata": {
    "ExecuteTime": {
     "end_time": "2025-06-13T16:57:32.877925Z",
     "start_time": "2025-06-13T16:57:32.872619Z"
    }
   },
   "cell_type": "code",
   "source": [
    "reps = ['RP', 'MTF', 'GASF', 'GADF', 'FIRTS', 'CWT']\n",
    "operations = [\"sum\", \"subtraction\", \"dot_product\", \"element_wise\"]\n",
    "convolution_algorithm = [np.nan, \"MiniRocket\", \"Rocket\"]"
   ],
   "id": "da8d9eef0d8f5cb4",
   "outputs": [],
   "execution_count": 3
  },
  {
   "metadata": {},
   "cell_type": "markdown",
   "source": "# Resultados",
   "id": "509a6213de10bdb5"
  },
  {
   "metadata": {
    "ExecuteTime": {
     "end_time": "2025-06-13T16:57:32.891126Z",
     "start_time": "2025-06-13T16:57:32.877925Z"
    }
   },
   "cell_type": "code",
   "source": "df",
   "id": "73d3a14fa25245cd",
   "outputs": [
    {
     "data": {
      "text/plain": [
       "                        dataset representation     operation  accuracy  \\\n",
       "0     ArticularyWordRecognition            NaN           NaN  0.520000   \n",
       "1            AtrialFibrillation            NaN           NaN  0.400000   \n",
       "2                  BasicMotions            NaN           NaN  0.575000   \n",
       "3                       Cricket            NaN           NaN  0.500000   \n",
       "4                 DuckDuckGeese            NaN           NaN  0.120000   \n",
       "...                         ...            ...           ...       ...   \n",
       "1722      CharacterTrajectories            CWT   dot_product  0.916435   \n",
       "1723      CharacterTrajectories            CWT   dot_product  0.911560   \n",
       "1724      CharacterTrajectories            CWT  element_wise  0.942897   \n",
       "1725      CharacterTrajectories            CWT  element_wise  0.954039   \n",
       "1726      CharacterTrajectories            CWT  element_wise  0.944986   \n",
       "\n",
       "     convolution_algorithm classification_algorithm  \n",
       "0                      NaN                    Ridge  \n",
       "1                      NaN                    Ridge  \n",
       "2                      NaN                    Ridge  \n",
       "3                      NaN                    Ridge  \n",
       "4                      NaN                    Ridge  \n",
       "...                    ...                      ...  \n",
       "1722                Rocket                    Ridge  \n",
       "1723            MiniRocket                    Ridge  \n",
       "1724                   NaN                    Ridge  \n",
       "1725                Rocket                    Ridge  \n",
       "1726            MiniRocket                    Ridge  \n",
       "\n",
       "[1727 rows x 6 columns]"
      ],
      "text/html": [
       "<div>\n",
       "<style scoped>\n",
       "    .dataframe tbody tr th:only-of-type {\n",
       "        vertical-align: middle;\n",
       "    }\n",
       "\n",
       "    .dataframe tbody tr th {\n",
       "        vertical-align: top;\n",
       "    }\n",
       "\n",
       "    .dataframe thead th {\n",
       "        text-align: right;\n",
       "    }\n",
       "</style>\n",
       "<table border=\"1\" class=\"dataframe\">\n",
       "  <thead>\n",
       "    <tr style=\"text-align: right;\">\n",
       "      <th></th>\n",
       "      <th>dataset</th>\n",
       "      <th>representation</th>\n",
       "      <th>operation</th>\n",
       "      <th>accuracy</th>\n",
       "      <th>convolution_algorithm</th>\n",
       "      <th>classification_algorithm</th>\n",
       "    </tr>\n",
       "  </thead>\n",
       "  <tbody>\n",
       "    <tr>\n",
       "      <th>0</th>\n",
       "      <td>ArticularyWordRecognition</td>\n",
       "      <td>NaN</td>\n",
       "      <td>NaN</td>\n",
       "      <td>0.520000</td>\n",
       "      <td>NaN</td>\n",
       "      <td>Ridge</td>\n",
       "    </tr>\n",
       "    <tr>\n",
       "      <th>1</th>\n",
       "      <td>AtrialFibrillation</td>\n",
       "      <td>NaN</td>\n",
       "      <td>NaN</td>\n",
       "      <td>0.400000</td>\n",
       "      <td>NaN</td>\n",
       "      <td>Ridge</td>\n",
       "    </tr>\n",
       "    <tr>\n",
       "      <th>2</th>\n",
       "      <td>BasicMotions</td>\n",
       "      <td>NaN</td>\n",
       "      <td>NaN</td>\n",
       "      <td>0.575000</td>\n",
       "      <td>NaN</td>\n",
       "      <td>Ridge</td>\n",
       "    </tr>\n",
       "    <tr>\n",
       "      <th>3</th>\n",
       "      <td>Cricket</td>\n",
       "      <td>NaN</td>\n",
       "      <td>NaN</td>\n",
       "      <td>0.500000</td>\n",
       "      <td>NaN</td>\n",
       "      <td>Ridge</td>\n",
       "    </tr>\n",
       "    <tr>\n",
       "      <th>4</th>\n",
       "      <td>DuckDuckGeese</td>\n",
       "      <td>NaN</td>\n",
       "      <td>NaN</td>\n",
       "      <td>0.120000</td>\n",
       "      <td>NaN</td>\n",
       "      <td>Ridge</td>\n",
       "    </tr>\n",
       "    <tr>\n",
       "      <th>...</th>\n",
       "      <td>...</td>\n",
       "      <td>...</td>\n",
       "      <td>...</td>\n",
       "      <td>...</td>\n",
       "      <td>...</td>\n",
       "      <td>...</td>\n",
       "    </tr>\n",
       "    <tr>\n",
       "      <th>1722</th>\n",
       "      <td>CharacterTrajectories</td>\n",
       "      <td>CWT</td>\n",
       "      <td>dot_product</td>\n",
       "      <td>0.916435</td>\n",
       "      <td>Rocket</td>\n",
       "      <td>Ridge</td>\n",
       "    </tr>\n",
       "    <tr>\n",
       "      <th>1723</th>\n",
       "      <td>CharacterTrajectories</td>\n",
       "      <td>CWT</td>\n",
       "      <td>dot_product</td>\n",
       "      <td>0.911560</td>\n",
       "      <td>MiniRocket</td>\n",
       "      <td>Ridge</td>\n",
       "    </tr>\n",
       "    <tr>\n",
       "      <th>1724</th>\n",
       "      <td>CharacterTrajectories</td>\n",
       "      <td>CWT</td>\n",
       "      <td>element_wise</td>\n",
       "      <td>0.942897</td>\n",
       "      <td>NaN</td>\n",
       "      <td>Ridge</td>\n",
       "    </tr>\n",
       "    <tr>\n",
       "      <th>1725</th>\n",
       "      <td>CharacterTrajectories</td>\n",
       "      <td>CWT</td>\n",
       "      <td>element_wise</td>\n",
       "      <td>0.954039</td>\n",
       "      <td>Rocket</td>\n",
       "      <td>Ridge</td>\n",
       "    </tr>\n",
       "    <tr>\n",
       "      <th>1726</th>\n",
       "      <td>CharacterTrajectories</td>\n",
       "      <td>CWT</td>\n",
       "      <td>element_wise</td>\n",
       "      <td>0.944986</td>\n",
       "      <td>MiniRocket</td>\n",
       "      <td>Ridge</td>\n",
       "    </tr>\n",
       "  </tbody>\n",
       "</table>\n",
       "<p>1727 rows × 6 columns</p>\n",
       "</div>"
      ]
     },
     "execution_count": 4,
     "metadata": {},
     "output_type": "execute_result"
    }
   ],
   "execution_count": 4
  },
  {
   "metadata": {},
   "cell_type": "markdown",
   "source": "## Resultados faltantes",
   "id": "c21cc841c09115fd"
  },
  {
   "metadata": {
    "ExecuteTime": {
     "end_time": "2025-06-13T16:57:32.911087Z",
     "start_time": "2025-06-13T16:57:32.891126Z"
    }
   },
   "cell_type": "code",
   "source": [
    "permutations = list(\n",
    "    itertools.product(\n",
    "        multivariate,\n",
    "        reps,\n",
    "        operations,\n",
    "        convolution_algorithm\n",
    "    )\n",
    ")\n",
    "\n",
    "df_permutation = pd.DataFrame(\n",
    "    permutations,\n",
    "    columns=[\"dataset\", \"representation\", \"operation\", \"convolution_algorithm\"]\n",
    ")\n",
    "\n",
    "df_diff = df_permutation.merge(\n",
    "    df[[\"dataset\", \"representation\", \"operation\", \"convolution_algorithm\"]], \n",
    "    how='outer', \n",
    "    indicator=True\n",
    ").query('_merge == \"left_only\"').drop('_merge', axis=1)\n",
    "\n",
    "df_diff"
   ],
   "id": "400f0f024172d29",
   "outputs": [
    {
     "data": {
      "text/plain": [
       "                 dataset representation     operation convolution_algorithm\n",
       "379        DuckDuckGeese          FIRTS   dot_product            MiniRocket\n",
       "380        DuckDuckGeese          FIRTS   dot_product                Rocket\n",
       "381        DuckDuckGeese          FIRTS   dot_product                   NaN\n",
       "383        DuckDuckGeese          FIRTS  element_wise                Rocket\n",
       "384        DuckDuckGeese          FIRTS  element_wise                   NaN\n",
       "...                  ...            ...           ...                   ...\n",
       "2032  SpokenArabicDigits             RP   dot_product                Rocket\n",
       "2033  SpokenArabicDigits             RP   dot_product                   NaN\n",
       "2034  SpokenArabicDigits             RP  element_wise            MiniRocket\n",
       "2035  SpokenArabicDigits             RP  element_wise                Rocket\n",
       "2036  SpokenArabicDigits             RP  element_wise                   NaN\n",
       "\n",
       "[462 rows x 4 columns]"
      ],
      "text/html": [
       "<div>\n",
       "<style scoped>\n",
       "    .dataframe tbody tr th:only-of-type {\n",
       "        vertical-align: middle;\n",
       "    }\n",
       "\n",
       "    .dataframe tbody tr th {\n",
       "        vertical-align: top;\n",
       "    }\n",
       "\n",
       "    .dataframe thead th {\n",
       "        text-align: right;\n",
       "    }\n",
       "</style>\n",
       "<table border=\"1\" class=\"dataframe\">\n",
       "  <thead>\n",
       "    <tr style=\"text-align: right;\">\n",
       "      <th></th>\n",
       "      <th>dataset</th>\n",
       "      <th>representation</th>\n",
       "      <th>operation</th>\n",
       "      <th>convolution_algorithm</th>\n",
       "    </tr>\n",
       "  </thead>\n",
       "  <tbody>\n",
       "    <tr>\n",
       "      <th>379</th>\n",
       "      <td>DuckDuckGeese</td>\n",
       "      <td>FIRTS</td>\n",
       "      <td>dot_product</td>\n",
       "      <td>MiniRocket</td>\n",
       "    </tr>\n",
       "    <tr>\n",
       "      <th>380</th>\n",
       "      <td>DuckDuckGeese</td>\n",
       "      <td>FIRTS</td>\n",
       "      <td>dot_product</td>\n",
       "      <td>Rocket</td>\n",
       "    </tr>\n",
       "    <tr>\n",
       "      <th>381</th>\n",
       "      <td>DuckDuckGeese</td>\n",
       "      <td>FIRTS</td>\n",
       "      <td>dot_product</td>\n",
       "      <td>NaN</td>\n",
       "    </tr>\n",
       "    <tr>\n",
       "      <th>383</th>\n",
       "      <td>DuckDuckGeese</td>\n",
       "      <td>FIRTS</td>\n",
       "      <td>element_wise</td>\n",
       "      <td>Rocket</td>\n",
       "    </tr>\n",
       "    <tr>\n",
       "      <th>384</th>\n",
       "      <td>DuckDuckGeese</td>\n",
       "      <td>FIRTS</td>\n",
       "      <td>element_wise</td>\n",
       "      <td>NaN</td>\n",
       "    </tr>\n",
       "    <tr>\n",
       "      <th>...</th>\n",
       "      <td>...</td>\n",
       "      <td>...</td>\n",
       "      <td>...</td>\n",
       "      <td>...</td>\n",
       "    </tr>\n",
       "    <tr>\n",
       "      <th>2032</th>\n",
       "      <td>SpokenArabicDigits</td>\n",
       "      <td>RP</td>\n",
       "      <td>dot_product</td>\n",
       "      <td>Rocket</td>\n",
       "    </tr>\n",
       "    <tr>\n",
       "      <th>2033</th>\n",
       "      <td>SpokenArabicDigits</td>\n",
       "      <td>RP</td>\n",
       "      <td>dot_product</td>\n",
       "      <td>NaN</td>\n",
       "    </tr>\n",
       "    <tr>\n",
       "      <th>2034</th>\n",
       "      <td>SpokenArabicDigits</td>\n",
       "      <td>RP</td>\n",
       "      <td>element_wise</td>\n",
       "      <td>MiniRocket</td>\n",
       "    </tr>\n",
       "    <tr>\n",
       "      <th>2035</th>\n",
       "      <td>SpokenArabicDigits</td>\n",
       "      <td>RP</td>\n",
       "      <td>element_wise</td>\n",
       "      <td>Rocket</td>\n",
       "    </tr>\n",
       "    <tr>\n",
       "      <th>2036</th>\n",
       "      <td>SpokenArabicDigits</td>\n",
       "      <td>RP</td>\n",
       "      <td>element_wise</td>\n",
       "      <td>NaN</td>\n",
       "    </tr>\n",
       "  </tbody>\n",
       "</table>\n",
       "<p>462 rows × 4 columns</p>\n",
       "</div>"
      ]
     },
     "execution_count": 5,
     "metadata": {},
     "output_type": "execute_result"
    }
   ],
   "execution_count": 5
  },
  {
   "metadata": {},
   "cell_type": "markdown",
   "source": "# Datasets com resultados faltantes",
   "id": "56ee3e7600ad834b"
  },
  {
   "metadata": {
    "ExecuteTime": {
     "end_time": "2025-06-13T16:57:32.917838Z",
     "start_time": "2025-06-13T16:57:32.911087Z"
    }
   },
   "cell_type": "code",
   "source": [
    "datasets_missing_results = df_diff[\"dataset\"].unique() \n",
    "df_properties[df_properties[\"dataset\"].isin(datasets_missing_results)]"
   ],
   "id": "d4ad505f106e74ca",
   "outputs": [
    {
     "data": {
      "text/plain": [
       "               dataset  train_cases  test_cases  dimensions  length  classes\n",
       "5        DuckDuckGeese           60          40        1345     270        5\n",
       "6           EigenWorms          128         131           6   17984        5\n",
       "17                LSST         2459        2466           6      36       14\n",
       "18      InsectWingbeat        30000       20000         200      78       10\n",
       "19        MotorImagery          278         100          64    3000        2\n",
       "22             PEMS-SF          267         173         963     144        7\n",
       "27  SpokenArabicDigits         6599        2199          13      93       10"
      ],
      "text/html": [
       "<div>\n",
       "<style scoped>\n",
       "    .dataframe tbody tr th:only-of-type {\n",
       "        vertical-align: middle;\n",
       "    }\n",
       "\n",
       "    .dataframe tbody tr th {\n",
       "        vertical-align: top;\n",
       "    }\n",
       "\n",
       "    .dataframe thead th {\n",
       "        text-align: right;\n",
       "    }\n",
       "</style>\n",
       "<table border=\"1\" class=\"dataframe\">\n",
       "  <thead>\n",
       "    <tr style=\"text-align: right;\">\n",
       "      <th></th>\n",
       "      <th>dataset</th>\n",
       "      <th>train_cases</th>\n",
       "      <th>test_cases</th>\n",
       "      <th>dimensions</th>\n",
       "      <th>length</th>\n",
       "      <th>classes</th>\n",
       "    </tr>\n",
       "  </thead>\n",
       "  <tbody>\n",
       "    <tr>\n",
       "      <th>5</th>\n",
       "      <td>DuckDuckGeese</td>\n",
       "      <td>60</td>\n",
       "      <td>40</td>\n",
       "      <td>1345</td>\n",
       "      <td>270</td>\n",
       "      <td>5</td>\n",
       "    </tr>\n",
       "    <tr>\n",
       "      <th>6</th>\n",
       "      <td>EigenWorms</td>\n",
       "      <td>128</td>\n",
       "      <td>131</td>\n",
       "      <td>6</td>\n",
       "      <td>17984</td>\n",
       "      <td>5</td>\n",
       "    </tr>\n",
       "    <tr>\n",
       "      <th>17</th>\n",
       "      <td>LSST</td>\n",
       "      <td>2459</td>\n",
       "      <td>2466</td>\n",
       "      <td>6</td>\n",
       "      <td>36</td>\n",
       "      <td>14</td>\n",
       "    </tr>\n",
       "    <tr>\n",
       "      <th>18</th>\n",
       "      <td>InsectWingbeat</td>\n",
       "      <td>30000</td>\n",
       "      <td>20000</td>\n",
       "      <td>200</td>\n",
       "      <td>78</td>\n",
       "      <td>10</td>\n",
       "    </tr>\n",
       "    <tr>\n",
       "      <th>19</th>\n",
       "      <td>MotorImagery</td>\n",
       "      <td>278</td>\n",
       "      <td>100</td>\n",
       "      <td>64</td>\n",
       "      <td>3000</td>\n",
       "      <td>2</td>\n",
       "    </tr>\n",
       "    <tr>\n",
       "      <th>22</th>\n",
       "      <td>PEMS-SF</td>\n",
       "      <td>267</td>\n",
       "      <td>173</td>\n",
       "      <td>963</td>\n",
       "      <td>144</td>\n",
       "      <td>7</td>\n",
       "    </tr>\n",
       "    <tr>\n",
       "      <th>27</th>\n",
       "      <td>SpokenArabicDigits</td>\n",
       "      <td>6599</td>\n",
       "      <td>2199</td>\n",
       "      <td>13</td>\n",
       "      <td>93</td>\n",
       "      <td>10</td>\n",
       "    </tr>\n",
       "  </tbody>\n",
       "</table>\n",
       "</div>"
      ]
     },
     "execution_count": 6,
     "metadata": {},
     "output_type": "execute_result"
    }
   ],
   "execution_count": 6
  },
  {
   "metadata": {},
   "cell_type": "markdown",
   "source": "# Datasets sem nenhum resultado",
   "id": "48226577551538e7"
  },
  {
   "metadata": {
    "ExecuteTime": {
     "end_time": "2025-06-13T16:57:32.928424Z",
     "start_time": "2025-06-13T16:57:32.917838Z"
    }
   },
   "cell_type": "code",
   "source": [
    "not_calculated_datasets = [\n",
    "    dataset\n",
    "    for dataset in multivariate\n",
    "    if dataset not in df[\"dataset\"].unique()\n",
    "]\n",
    "df_properties[df_properties[\"dataset\"].isin(not_calculated_datasets)]"
   ],
   "id": "d7b7bbcf026103f0",
   "outputs": [
    {
     "data": {
      "text/plain": [
       "           dataset  train_cases  test_cases  dimensions  length  classes\n",
       "18  InsectWingbeat        30000       20000         200      78       10"
      ],
      "text/html": [
       "<div>\n",
       "<style scoped>\n",
       "    .dataframe tbody tr th:only-of-type {\n",
       "        vertical-align: middle;\n",
       "    }\n",
       "\n",
       "    .dataframe tbody tr th {\n",
       "        vertical-align: top;\n",
       "    }\n",
       "\n",
       "    .dataframe thead th {\n",
       "        text-align: right;\n",
       "    }\n",
       "</style>\n",
       "<table border=\"1\" class=\"dataframe\">\n",
       "  <thead>\n",
       "    <tr style=\"text-align: right;\">\n",
       "      <th></th>\n",
       "      <th>dataset</th>\n",
       "      <th>train_cases</th>\n",
       "      <th>test_cases</th>\n",
       "      <th>dimensions</th>\n",
       "      <th>length</th>\n",
       "      <th>classes</th>\n",
       "    </tr>\n",
       "  </thead>\n",
       "  <tbody>\n",
       "    <tr>\n",
       "      <th>18</th>\n",
       "      <td>InsectWingbeat</td>\n",
       "      <td>30000</td>\n",
       "      <td>20000</td>\n",
       "      <td>200</td>\n",
       "      <td>78</td>\n",
       "      <td>10</td>\n",
       "    </tr>\n",
       "  </tbody>\n",
       "</table>\n",
       "</div>"
      ]
     },
     "execution_count": 7,
     "metadata": {},
     "output_type": "execute_result"
    }
   ],
   "execution_count": 7
  },
  {
   "metadata": {},
   "cell_type": "markdown",
   "source": "# Resultados faltantes dos datasets que conseguiram carregar ",
   "id": "7363e0b49ab3d3d3"
  },
  {
   "metadata": {
    "ExecuteTime": {
     "end_time": "2025-06-13T16:57:32.936618Z",
     "start_time": "2025-06-13T16:57:32.928424Z"
    }
   },
   "cell_type": "code",
   "source": [
    "missing_results_in_fine_datasets = df[\n",
    "    (df[\"dataset\"].isin(datasets_missing_results))\n",
    "    & ~(df[\"dataset\"].isin(not_calculated_datasets))\n",
    "]\n",
    "missing_results_in_fine_datasets"
   ],
   "id": "cc67ac840f17361b",
   "outputs": [
    {
     "data": {
      "text/plain": [
       "            dataset representation     operation  accuracy  \\\n",
       "4     DuckDuckGeese            NaN           NaN  0.120000   \n",
       "5        EigenWorms            NaN           NaN  0.435115   \n",
       "15             LSST            NaN           NaN  0.323195   \n",
       "16     MotorImagery            NaN           NaN  0.560000   \n",
       "19          PEMS-SF            NaN           NaN  0.907514   \n",
       "...             ...            ...           ...       ...   \n",
       "1578     EigenWorms            MTF   dot_product  0.419847   \n",
       "1579     EigenWorms            MTF   dot_product  0.419847   \n",
       "1580     EigenWorms            MTF  element_wise  0.419847   \n",
       "1581     EigenWorms            MTF  element_wise  0.396947   \n",
       "1582     EigenWorms            MTF  element_wise  0.419847   \n",
       "\n",
       "     convolution_algorithm classification_algorithm  \n",
       "4                      NaN                    Ridge  \n",
       "5                      NaN                    Ridge  \n",
       "15                     NaN                    Ridge  \n",
       "16                     NaN                    Ridge  \n",
       "19                     NaN                    Ridge  \n",
       "...                    ...                      ...  \n",
       "1578                Rocket                    Ridge  \n",
       "1579            MiniRocket                    Ridge  \n",
       "1580                   NaN                    Ridge  \n",
       "1581                Rocket                    Ridge  \n",
       "1582            MiniRocket                    Ridge  \n",
       "\n",
       "[120 rows x 6 columns]"
      ],
      "text/html": [
       "<div>\n",
       "<style scoped>\n",
       "    .dataframe tbody tr th:only-of-type {\n",
       "        vertical-align: middle;\n",
       "    }\n",
       "\n",
       "    .dataframe tbody tr th {\n",
       "        vertical-align: top;\n",
       "    }\n",
       "\n",
       "    .dataframe thead th {\n",
       "        text-align: right;\n",
       "    }\n",
       "</style>\n",
       "<table border=\"1\" class=\"dataframe\">\n",
       "  <thead>\n",
       "    <tr style=\"text-align: right;\">\n",
       "      <th></th>\n",
       "      <th>dataset</th>\n",
       "      <th>representation</th>\n",
       "      <th>operation</th>\n",
       "      <th>accuracy</th>\n",
       "      <th>convolution_algorithm</th>\n",
       "      <th>classification_algorithm</th>\n",
       "    </tr>\n",
       "  </thead>\n",
       "  <tbody>\n",
       "    <tr>\n",
       "      <th>4</th>\n",
       "      <td>DuckDuckGeese</td>\n",
       "      <td>NaN</td>\n",
       "      <td>NaN</td>\n",
       "      <td>0.120000</td>\n",
       "      <td>NaN</td>\n",
       "      <td>Ridge</td>\n",
       "    </tr>\n",
       "    <tr>\n",
       "      <th>5</th>\n",
       "      <td>EigenWorms</td>\n",
       "      <td>NaN</td>\n",
       "      <td>NaN</td>\n",
       "      <td>0.435115</td>\n",
       "      <td>NaN</td>\n",
       "      <td>Ridge</td>\n",
       "    </tr>\n",
       "    <tr>\n",
       "      <th>15</th>\n",
       "      <td>LSST</td>\n",
       "      <td>NaN</td>\n",
       "      <td>NaN</td>\n",
       "      <td>0.323195</td>\n",
       "      <td>NaN</td>\n",
       "      <td>Ridge</td>\n",
       "    </tr>\n",
       "    <tr>\n",
       "      <th>16</th>\n",
       "      <td>MotorImagery</td>\n",
       "      <td>NaN</td>\n",
       "      <td>NaN</td>\n",
       "      <td>0.560000</td>\n",
       "      <td>NaN</td>\n",
       "      <td>Ridge</td>\n",
       "    </tr>\n",
       "    <tr>\n",
       "      <th>19</th>\n",
       "      <td>PEMS-SF</td>\n",
       "      <td>NaN</td>\n",
       "      <td>NaN</td>\n",
       "      <td>0.907514</td>\n",
       "      <td>NaN</td>\n",
       "      <td>Ridge</td>\n",
       "    </tr>\n",
       "    <tr>\n",
       "      <th>...</th>\n",
       "      <td>...</td>\n",
       "      <td>...</td>\n",
       "      <td>...</td>\n",
       "      <td>...</td>\n",
       "      <td>...</td>\n",
       "      <td>...</td>\n",
       "    </tr>\n",
       "    <tr>\n",
       "      <th>1578</th>\n",
       "      <td>EigenWorms</td>\n",
       "      <td>MTF</td>\n",
       "      <td>dot_product</td>\n",
       "      <td>0.419847</td>\n",
       "      <td>Rocket</td>\n",
       "      <td>Ridge</td>\n",
       "    </tr>\n",
       "    <tr>\n",
       "      <th>1579</th>\n",
       "      <td>EigenWorms</td>\n",
       "      <td>MTF</td>\n",
       "      <td>dot_product</td>\n",
       "      <td>0.419847</td>\n",
       "      <td>MiniRocket</td>\n",
       "      <td>Ridge</td>\n",
       "    </tr>\n",
       "    <tr>\n",
       "      <th>1580</th>\n",
       "      <td>EigenWorms</td>\n",
       "      <td>MTF</td>\n",
       "      <td>element_wise</td>\n",
       "      <td>0.419847</td>\n",
       "      <td>NaN</td>\n",
       "      <td>Ridge</td>\n",
       "    </tr>\n",
       "    <tr>\n",
       "      <th>1581</th>\n",
       "      <td>EigenWorms</td>\n",
       "      <td>MTF</td>\n",
       "      <td>element_wise</td>\n",
       "      <td>0.396947</td>\n",
       "      <td>Rocket</td>\n",
       "      <td>Ridge</td>\n",
       "    </tr>\n",
       "    <tr>\n",
       "      <th>1582</th>\n",
       "      <td>EigenWorms</td>\n",
       "      <td>MTF</td>\n",
       "      <td>element_wise</td>\n",
       "      <td>0.419847</td>\n",
       "      <td>MiniRocket</td>\n",
       "      <td>Ridge</td>\n",
       "    </tr>\n",
       "  </tbody>\n",
       "</table>\n",
       "<p>120 rows × 6 columns</p>\n",
       "</div>"
      ]
     },
     "execution_count": 8,
     "metadata": {},
     "output_type": "execute_result"
    }
   ],
   "execution_count": 8
  },
  {
   "metadata": {
    "ExecuteTime": {
     "end_time": "2025-06-13T16:57:33.045117Z",
     "start_time": "2025-06-13T16:57:32.936618Z"
    }
   },
   "cell_type": "code",
   "source": [
    "per_representation = missing_results_in_fine_datasets[\"representation\"].value_counts()\n",
    "per_representation.plot(kind=\"bar\")"
   ],
   "id": "9c2e2e49754b1eae",
   "outputs": [
    {
     "data": {
      "text/plain": [
       "<Axes: xlabel='representation'>"
      ]
     },
     "execution_count": 9,
     "metadata": {},
     "output_type": "execute_result"
    },
    {
     "data": {
      "text/plain": [
       "<Figure size 640x480 with 1 Axes>"
      ],
      "image/png": "[encoded data removed]"
     },
     "metadata": {},
     "output_type": "display_data"
    }
   ],
   "execution_count": 9
  },
  {
   "metadata": {
    "ExecuteTime": {
     "end_time": "2025-06-13T16:57:33.129799Z",
     "start_time": "2025-06-13T16:57:33.045117Z"
    }
   },
   "cell_type": "code",
   "source": [
    "per_operation = missing_results_in_fine_datasets[\"operation\"].value_counts()\n",
    "per_operation.plot(kind=\"bar\")"
   ],
   "id": "3b80c83d67675001",
   "outputs": [
    {
     "data": {
      "text/plain": [
       "<Axes: xlabel='operation'>"
      ]
     },
     "execution_count": 10,
     "metadata": {},
     "output_type": "execute_result"
    },
    {
     "data": {
      "text/plain": [
       "<Figure size 640x480 with 1 Axes>"
      ],
      "image/png": "[encoded data removed]"
     },
     "metadata": {},
     "output_type": "display_data"
    }
   ],
   "execution_count": 10
  },
  {
   "metadata": {
    "ExecuteTime": {
     "end_time": "2025-06-13T16:57:33.206579Z",
     "start_time": "2025-06-13T16:57:33.130807Z"
    }
   },
   "cell_type": "code",
   "source": [
    "per_concolution_algorithm = missing_results_in_fine_datasets[\"convolution_algorithm\"].value_counts()\n",
    "per_concolution_algorithm.plot(kind=\"bar\")"
   ],
   "id": "56d3b6c753045687",
   "outputs": [
    {
     "data": {
      "text/plain": [
       "<Axes: xlabel='convolution_algorithm'>"
      ]
     },
     "execution_count": 11,
     "metadata": {},
     "output_type": "execute_result"
    },
    {
     "data": {
      "text/plain": [
       "<Figure size 640x480 with 1 Axes>"
      ],
      "image/png": "[encoded data removed]"
     },
     "metadata": {},
     "output_type": "display_data"
    }
   ],
   "execution_count": 11
  }
 ],
 "metadata": {
  "kernelspec": {
   "display_name": "Python 3",
   "language": "python",
   "name": "python3"
  },
  "language_info": {
   "codemirror_mode": {
    "name": "ipython",
    "version": 2
   },
   "file_extension": ".py",
   "mimetype": "text/x-python",
   "name": "python",
   "nbconvert_exporter": "python",
   "pygments_lexer": "ipython2",
   "version": "2.7.6"
  }
 },
 "nbformat": 4,
 "nbformat_minor": 5
}
