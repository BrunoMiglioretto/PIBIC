{
 "cells": [
  {
   "cell_type": "code",
   "id": "initial_id",
   "metadata": {
    "collapsed": true,
    "ExecuteTime": {
     "end_time": "2025-06-25T15:19:38.944458Z",
     "start_time": "2025-06-25T15:19:38.365195Z"
    }
   },
   "source": [
    "import itertools\n",
    "import pandas as pd\n",
    "import numpy as np\n",
    "\n",
    "from aeon.datasets.tsc_datasets import multivariate\n"
   ],
   "outputs": [],
   "execution_count": 1
  },
  {
   "metadata": {
    "ExecuteTime": {
     "end_time": "2025-06-25T15:19:44.648977Z",
     "start_time": "2025-06-25T15:19:44.638417Z"
    }
   },
   "cell_type": "code",
   "source": [
    "df = pd.read_csv(\"../../results/results_25-06.csv\")\n",
    "df_properties = pd.read_csv(\"../../metadata/datasets_properties.csv\")\n"
   ],
   "id": "50e9c450c76c1c53",
   "outputs": [],
   "execution_count": 2
  },
  {
   "metadata": {
    "ExecuteTime": {
     "end_time": "2025-06-25T15:21:42.140703Z",
     "start_time": "2025-06-25T15:21:42.135629Z"
    }
   },
   "cell_type": "code",
   "source": "len(df[\"dataset\"].unique())",
   "id": "6de7a94a1f06ec26",
   "outputs": [
    {
     "data": {
      "text/plain": [
       "31"
      ]
     },
     "execution_count": 14,
     "metadata": {},
     "output_type": "execute_result"
    }
   ],
   "execution_count": 14
  },
  {
   "metadata": {
    "ExecuteTime": {
     "end_time": "2025-06-25T15:22:18.462196Z",
     "start_time": "2025-06-25T15:22:18.447284Z"
    }
   },
   "cell_type": "code",
   "source": [
    "for x in df[\"dataset\"].unique():\n",
    "    if x not in multivariate:\n",
    "        print(x)"
   ],
   "id": "11b0e1bfd768038d",
   "outputs": [
    {
     "name": "stdout",
     "output_type": "stream",
     "text": [
      "Phoneme\n"
     ]
    }
   ],
   "execution_count": 15
  },
  {
   "metadata": {
    "ExecuteTime": {
     "end_time": "2025-06-25T15:21:38.158395Z",
     "start_time": "2025-06-25T15:21:38.147436Z"
    }
   },
   "cell_type": "code",
   "source": "len(multivariate)",
   "id": "29b7808e6160b3d2",
   "outputs": [
    {
     "data": {
      "text/plain": [
       "30"
      ]
     },
     "execution_count": 13,
     "metadata": {},
     "output_type": "execute_result"
    }
   ],
   "execution_count": 13
  },
  {
   "metadata": {
    "ExecuteTime": {
     "end_time": "2025-06-25T15:24:42.859685Z",
     "start_time": "2025-06-25T15:24:42.853260Z"
    }
   },
   "cell_type": "code",
   "source": "df[df[\"dataset\"] == \"PhonemeSpectra\"]",
   "id": "4c5aa967dae0ffb",
   "outputs": [
    {
     "data": {
      "text/plain": [
       "             dataset representation operation  accuracy convolution_algorithm  \\\n",
       "1851  PhonemeSpectra            NaN       NaN  0.053683                   NaN   \n",
       "\n",
       "     classification_algorithm  \n",
       "1851                    Ridge  "
      ],
      "text/html": [
       "<div>\n",
       "<style scoped>\n",
       "    .dataframe tbody tr th:only-of-type {\n",
       "        vertical-align: middle;\n",
       "    }\n",
       "\n",
       "    .dataframe tbody tr th {\n",
       "        vertical-align: top;\n",
       "    }\n",
       "\n",
       "    .dataframe thead th {\n",
       "        text-align: right;\n",
       "    }\n",
       "</style>\n",
       "<table border=\"1\" class=\"dataframe\">\n",
       "  <thead>\n",
       "    <tr style=\"text-align: right;\">\n",
       "      <th></th>\n",
       "      <th>dataset</th>\n",
       "      <th>representation</th>\n",
       "      <th>operation</th>\n",
       "      <th>accuracy</th>\n",
       "      <th>convolution_algorithm</th>\n",
       "      <th>classification_algorithm</th>\n",
       "    </tr>\n",
       "  </thead>\n",
       "  <tbody>\n",
       "    <tr>\n",
       "      <th>1851</th>\n",
       "      <td>PhonemeSpectra</td>\n",
       "      <td>NaN</td>\n",
       "      <td>NaN</td>\n",
       "      <td>0.053683</td>\n",
       "      <td>NaN</td>\n",
       "      <td>Ridge</td>\n",
       "    </tr>\n",
       "  </tbody>\n",
       "</table>\n",
       "</div>"
      ]
     },
     "execution_count": 19,
     "metadata": {},
     "output_type": "execute_result"
    }
   ],
   "execution_count": 19
  },
  {
   "metadata": {
    "ExecuteTime": {
     "end_time": "2025-06-25T15:47:43.329694Z",
     "start_time": "2025-06-25T15:47:43.324111Z"
    }
   },
   "cell_type": "code",
   "source": [
    "# df[(df[\"representation\"] == \"\") & (df[\"operation\"] == \"\")]\n",
    "for x in df[df[\"representation\"].isnull()][\"dataset\"].unique():\n",
    "    \n"
   ],
   "id": "4e82becc3662d9a8",
   "outputs": [
    {
     "data": {
      "text/plain": [
       "30"
      ]
     },
     "execution_count": 26,
     "metadata": {},
     "output_type": "execute_result"
    }
   ],
   "execution_count": 26
  }
 ],
 "metadata": {
  "kernelspec": {
   "display_name": "Python 3",
   "language": "python",
   "name": "python3"
  },
  "language_info": {
   "codemirror_mode": {
    "name": "ipython",
    "version": 2
   },
   "file_extension": ".py",
   "mimetype": "text/x-python",
   "name": "python",
   "nbconvert_exporter": "python",
   "pygments_lexer": "ipython2",
   "version": "2.7.6"
  }
 },
 "nbformat": 4,
 "nbformat_minor": 5
}
