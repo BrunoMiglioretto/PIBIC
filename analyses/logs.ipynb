{
 "cells": [
  {
   "cell_type": "code",
   "id": "initial_id",
   "metadata": {
    "collapsed": true,
    "ExecuteTime": {
     "end_time": "2025-05-22T21:21:36.103206Z",
     "start_time": "2025-05-22T21:21:36.096613Z"
    }
   },
   "source": [
    "import pandas as pd\n",
    "import re"
   ],
   "outputs": [],
   "execution_count": 6
  },
  {
   "metadata": {
    "ExecuteTime": {
     "end_time": "2025-05-22T21:21:36.122028Z",
     "start_time": "2025-05-22T21:21:36.116036Z"
    }
   },
   "cell_type": "code",
   "source": [
    "import os\n",
    "\n",
    "directory_path = \"../logs/\"\n",
    "\n",
    "file_lines = []\n",
    "for filename in os.listdir(directory_path):\n",
    "    file_path = os.path.join(directory_path, filename)\n",
    "    with open(file_path, 'r') as f:\n",
    "        file_lines.extend(f.readlines())"
   ],
   "id": "8b0c3a040ee24976",
   "outputs": [],
   "execution_count": 7
  },
  {
   "metadata": {
    "ExecuteTime": {
     "end_time": "2025-05-22T21:21:36.143789Z",
     "start_time": "2025-05-22T21:21:36.133813Z"
    }
   },
   "cell_type": "code",
   "source": [
    "datetime_pattern = r'\\d{2}/\\d{2}/\\d{4} \\d{2}:\\d{2}:\\d{2} (AM|PM)'\n",
    "type_pattern = r\"INFO|ERROR|WARNING\"\n",
    "\n",
    "logs = []\n",
    "errors = []\n",
    "for line in file_lines:\n",
    "    try:\n",
    "        match = re.match(datetime_pattern, line)\n",
    "        dt = line[match.start():match.end()]\n",
    "        \n",
    "        match = re.search(type_pattern, line)\n",
    "        log_type = line[match.start():match.end()]\n",
    "        message = line[match.end():]\n",
    "        logs.append(\n",
    "            [dt, log_type, message]\n",
    "        )\n",
    "    except AttributeError as e:\n",
    "        errors.append((line, errors))\n",
    "        logs.append((\"\", \"\", line))\n",
    "\n",
    "\n",
    "df = pd.DataFrame(columns=[\n",
    "    \"datetime\",\n",
    "    \"log_type\",\n",
    "    \"message\",\n",
    "], data=logs)"
   ],
   "id": "a32915cca4b0c4f",
   "outputs": [],
   "execution_count": 8
  },
  {
   "metadata": {
    "ExecuteTime": {
     "end_time": "2025-05-22T21:21:36.167719Z",
     "start_time": "2025-05-22T21:21:36.155523Z"
    }
   },
   "cell_type": "code",
   "source": [
    "df1 = df[df[\"log_type\"] == \"ERROR\"]\n",
    "df1[\"message\"].value_counts()"
   ],
   "id": "b6dd0bfabb3f9d3b",
   "outputs": [
    {
     "data": {
      "text/plain": [
       "message\n",
       "Problema com o dataset Heartbeat com o classificador Ridge: array must not contain infs or NaNs\\n                                                                                                                                                                                                                                              4\n",
       "Problema com o dataset InsectWingbeat: setting an array element with a sequence. The requested array has an inhomogeneous shape after 1 dimensions. The detected shape was (25000,) + inhomogeneous part.\\n                                                                                                                                    1\n",
       "Problema com o dataset JapaneseVowels: setting an array element with a sequence. The requested array has an inhomogeneous shape after 1 dimensions. The detected shape was (270,) + inhomogeneous part.\\n                                                                                                                                      1\n",
       "Problema com o dataset SpokenArabicDigits: setting an array element with a sequence. The requested array has an inhomogeneous shape after 1 dimensions. The detected shape was (6599,) + inhomogeneous part.\\n                                                                                                                                 1\n",
       "Problema ao carregar dataset CharacterTrajectories: channel 1 in case 159 has a different number of observations to the other channels. Saw 88 in the first channel but 99 in the channel 1. The meta data specifies equal length == False. But even if series length are unequal, all channels for a single case must be the same length\\n    1\n",
       "Problema ao carregar dataset InsectWingbeat: setting an array element with a sequence. The requested array has an inhomogeneous shape after 1 dimensions. The detected shape was (25000,) + inhomogeneous part.\\n                                                                                                                              1\n",
       "Problema ao carregar dataset JapaneseVowels: setting an array element with a sequence. The requested array has an inhomogeneous shape after 1 dimensions. The detected shape was (270,) + inhomogeneous part.\\n                                                                                                                                1\n",
       "Problema ao carregar dataset LSST: Input contains NaN.\\n                                                                                                                                                                                                                                                                                       1\n",
       "Name: count, dtype: int64"
      ]
     },
     "execution_count": 9,
     "metadata": {},
     "output_type": "execute_result"
    }
   ],
   "execution_count": 9
  },
  {
   "metadata": {
    "ExecuteTime": {
     "end_time": "2025-05-22T21:21:36.199874Z",
     "start_time": "2025-05-22T21:21:36.195973Z"
    }
   },
   "cell_type": "code",
   "source": [
    "df1 = df[df[\"log_type\"] == \"WARNING\"]\n",
    "df1[\"message\"].value_counts()"
   ],
   "id": "1a593e70e147a265",
   "outputs": [
    {
     "data": {
      "text/plain": [
       "message\n",
       "channel 1 in case 159 has a different number of observations to the other channels. Saw 88 in the first channel but 99 in the channel 1. The meta data specifies equal length == False. But even if series length are unequal, all channels for a single case must be the same length\\n    1\n",
       "Não foi possível carregar o dataset CharacterTrajectories armazenados na máquina local\\n                                                                                                                                                                                                   1\n",
       "Name: count, dtype: int64"
      ]
     },
     "execution_count": 10,
     "metadata": {},
     "output_type": "execute_result"
    }
   ],
   "execution_count": 10
  }
 ],
 "metadata": {
  "kernelspec": {
   "display_name": "Python 3",
   "language": "python",
   "name": "python3"
  },
  "language_info": {
   "codemirror_mode": {
    "name": "ipython",
    "version": 2
   },
   "file_extension": ".py",
   "mimetype": "text/x-python",
   "name": "python",
   "nbconvert_exporter": "python",
   "pygments_lexer": "ipython2",
   "version": "2.7.6"
  }
 },
 "nbformat": 4,
 "nbformat_minor": 5
}
