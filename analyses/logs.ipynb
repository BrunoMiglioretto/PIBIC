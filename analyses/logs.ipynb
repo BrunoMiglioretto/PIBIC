{
 "cells": [
  {
   "cell_type": "code",
   "id": "initial_id",
   "metadata": {
    "collapsed": true,
    "ExecuteTime": {
     "end_time": "2025-05-14T16:54:15.047419Z",
     "start_time": "2025-05-14T16:54:14.648859Z"
    }
   },
   "source": [
    "import pandas as pd\n",
    "import re"
   ],
   "outputs": [],
   "execution_count": 1
  },
  {
   "metadata": {
    "ExecuteTime": {
     "end_time": "2025-05-14T16:54:15.054357Z",
     "start_time": "2025-05-14T16:54:15.048478Z"
    }
   },
   "cell_type": "code",
   "source": [
    "import os\n",
    "\n",
    "directory_path = \"../logs/\"\n",
    "\n",
    "file_lines = []\n",
    "for filename in os.listdir(directory_path):\n",
    "    file_path = os.path.join(directory_path, filename)\n",
    "    with open(file_path, 'r') as f:\n",
    "        file_lines.extend(f.readlines())"
   ],
   "id": "8b0c3a040ee24976",
   "outputs": [],
   "execution_count": 2
  },
  {
   "metadata": {
    "ExecuteTime": {
     "end_time": "2025-05-14T16:54:15.061733Z",
     "start_time": "2025-05-14T16:54:15.054357Z"
    }
   },
   "cell_type": "code",
   "source": [
    "datetime_pattern = r'\\d{2}/\\d{2}/\\d{4} \\d{2}:\\d{2}:\\d{2} (AM|PM)'\n",
    "type_pattern = r\"INFO|ERROR|WARNING\"\n",
    "\n",
    "logs = []\n",
    "errors = []\n",
    "for line in file_lines:\n",
    "    try:\n",
    "        match = re.match(datetime_pattern, line)\n",
    "        dt = line[match.start():match.end()]\n",
    "        \n",
    "        match = re.search(type_pattern, line)\n",
    "        log_type = line[match.start():match.end()]\n",
    "        message = line[match.end():]\n",
    "        logs.append(\n",
    "            [dt, log_type, message]\n",
    "        )\n",
    "    except AttributeError as e:\n",
    "        errors.append((line, errors))\n",
    "        logs.append((\"\", \"\", line))\n",
    "\n",
    "\n",
    "df = pd.DataFrame(columns=[\n",
    "    \"datetime\",\n",
    "    \"log_type\",\n",
    "    \"message\",\n",
    "], data=logs)"
   ],
   "id": "a32915cca4b0c4f",
   "outputs": [],
   "execution_count": 3
  },
  {
   "metadata": {
    "ExecuteTime": {
     "end_time": "2025-05-14T16:54:15.069567Z",
     "start_time": "2025-05-14T16:54:15.062738Z"
    }
   },
   "cell_type": "code",
   "source": [
    "df1 = df[df[\"log_type\"] == \"ERROR\"]\n",
    "df1[\"message\"].value_counts()"
   ],
   "id": "b6dd0bfabb3f9d3b",
   "outputs": [
    {
     "data": {
      "text/plain": [
       "message\n",
       "Problema com o dataset Heartbeat com o classificador Ridge: array must not contain infs or NaNs\\n                                                                                                                                                                                                                                              10\n",
       "Problema com o dataset JapaneseVowels: setting an array element with a sequence. The requested array has an inhomogeneous shape after 1 dimensions. The detected shape was (270,) + inhomogeneous part.\\n                                                                                                                                       7\n",
       "Problema com o dataset InsectWingbeat: setting an array element with a sequence. The requested array has an inhomogeneous shape after 1 dimensions. The detected shape was (25000,) + inhomogeneous part.\\n                                                                                                                                     7\n",
       "Problema com o dataset DuckDuckGeese usando MiniRocket: Data seen by instance of MiniRocket has missing values, but MiniRocket cannot handle these characteristics. \\n                                                                                                                                                                          7\n",
       "Problema com o dataset SpokenArabicDigits: setting an array element with a sequence. The requested array has an inhomogeneous shape after 1 dimensions. The detected shape was (6599,) + inhomogeneous part.\\n                                                                                                                                  7\n",
       "Problema com o dataset DuckDuckGeese usando Rocket: Data seen by instance of Rocket has missing values, but Rocket cannot handle these characteristics. \\n                                                                                                                                                                                      7\n",
       "Problema com o dataset DuckDuckGeese com o classificador Ridge: Input X contains NaN.\\n                                                                                                                                                                                                                                                         7\n",
       "Problema ao carregar dataset Heartbeat: name 'df_results' is not defined\\n                                                                                                                                                                                                                                                                      6\n",
       "Problema ao carregar dataset CharacterTrajectories: channel 1 in case 159 has a different number of observations to the other channels. Saw 88 in the first channel but 99 in the channel 1. The meta data specifies equal length == False. But even if series length are unequal, all channels for a single case must be the same length\\n     5\n",
       "Problema ao carregar dataset JapaneseVowels: setting an array element with a sequence. The requested array has an inhomogeneous shape after 1 dimensions. The detected shape was (270,) + inhomogeneous part.\\n                                                                                                                                 3\n",
       "Problema ao carregar dataset InsectWingbeat: setting an array element with a sequence. The requested array has an inhomogeneous shape after 1 dimensions. The detected shape was (25000,) + inhomogeneous part.\\n                                                                                                                               2\n",
       "Problema ao carregar dataset LSST: Input contains NaN.\\n                                                                                                                                                                                                                                                                                        2\n",
       "Problema com o dataset DuckDuckGeese usando Rocket: Input X contains infinity or a value too large for dtype('float32').\\n                                                                                                                                                                                                                      1\n",
       "Problema com o dataset DuckDuckGeese com o classificador Ridge: Input X contains infinity or a value too large for dtype('float64').\\n                                                                                                                                                                                                          1\n",
       "Problema ao carregar dataset PEMS-SF: Input contains NaN.\\n                                                                                                                                                                                                                                                                                     1\n",
       "Problema ao carregar dataset PhonemeSpectra: Input contains NaN.\\n                                                                                                                                                                                                                                                                              1\n",
       "Problema ao carregar dataset SpokenArabicDigits: setting an array element with a sequence. The requested array has an inhomogeneous shape after 1 dimensions. The detected shape was (6599,) + inhomogeneous part.\\n                                                                                                                            1\n",
       "Problema ao carregar dataset Heartbeat: Unable to allocate 1.25 MiB for an array with shape (1, 405, 405) and data type float64\\n                                                                                                                                                                                                               1\n",
       "Problema ao carregar dataset Heartbeat: 'numpy.ndarray' object has no attribute 'pop'\\n                                                                                                                                                                                                                                                         1\n",
       "Name: count, dtype: int64"
      ]
     },
     "execution_count": 4,
     "metadata": {},
     "output_type": "execute_result"
    }
   ],
   "execution_count": 4
  },
  {
   "metadata": {
    "ExecuteTime": {
     "end_time": "2025-05-14T16:54:15.075396Z",
     "start_time": "2025-05-14T16:54:15.070571Z"
    }
   },
   "cell_type": "code",
   "source": [
    "df1 = df[df[\"log_type\"] == \"WARNING\"]\n",
    "df1[\"message\"].value_counts()"
   ],
   "id": "1a593e70e147a265",
   "outputs": [
    {
     "data": {
      "text/plain": [
       "message\n",
       "channel 1 in case 159 has a different number of observations to the other channels. Saw 88 in the first channel but 99 in the channel 1. The meta data specifies equal length == False. But even if series length are unequal, all channels for a single case must be the same length\\n    6\n",
       "NÃ£o foi possÃ­vel carregar o dataset CharacterTrajectories armazenados na mÃ¡quina local\\n                                                                                                                                                                                                5\n",
       "Não foi possível carregar o dataset CharacterTrajectories armazenados na máquina local\\n                                                                                                                                                                                                   1\n",
       "Name: count, dtype: int64"
      ]
     },
     "execution_count": 5,
     "metadata": {},
     "output_type": "execute_result"
    }
   ],
   "execution_count": 5
  }
 ],
 "metadata": {
  "kernelspec": {
   "display_name": "Python 3",
   "language": "python",
   "name": "python3"
  },
  "language_info": {
   "codemirror_mode": {
    "name": "ipython",
    "version": 2
   },
   "file_extension": ".py",
   "mimetype": "text/x-python",
   "name": "python",
   "nbconvert_exporter": "python",
   "pygments_lexer": "ipython2",
   "version": "2.7.6"
  }
 },
 "nbformat": 4,
 "nbformat_minor": 5
}
