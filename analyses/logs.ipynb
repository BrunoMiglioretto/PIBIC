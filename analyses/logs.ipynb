{
 "cells": [
  {
   "cell_type": "code",
   "id": "initial_id",
   "metadata": {
    "collapsed": true,
    "ExecuteTime": {
     "end_time": "2025-06-25T16:52:12.909858Z",
     "start_time": "2025-06-25T16:52:12.477200Z"
    }
   },
   "source": [
    "import pandas as pd\n",
    "import re"
   ],
   "outputs": [],
   "execution_count": 1
  },
  {
   "metadata": {
    "ExecuteTime": {
     "end_time": "2025-06-25T16:52:12.914872Z",
     "start_time": "2025-06-25T16:52:12.910864Z"
    }
   },
   "cell_type": "code",
   "source": [
    "directory_path = \"../logs/\"\n",
    "\n",
    "file_lines = []\n",
    "with open(r\"C:\\Users\\bruno\\puc\\iniciacao\\projeto\\logs\\logs-25.txt\") as f:\n",
    "    file_lines.extend(f.readlines())"
   ],
   "id": "8b0c3a040ee24976",
   "outputs": [],
   "execution_count": 2
  },
  {
   "metadata": {
    "ExecuteTime": {
     "end_time": "2025-06-25T16:52:12.922032Z",
     "start_time": "2025-06-25T16:52:12.915879Z"
    }
   },
   "cell_type": "code",
   "source": [
    "datetime_pattern = r'\\d{2}/\\d{2}/\\d{4} \\d{2}:\\d{2}:\\d{2} (AM|PM)'\n",
    "type_pattern = r\"INFO|ERROR|WARNING\"\n",
    "\n",
    "logs = []\n",
    "errors = []\n",
    "for line in file_lines:\n",
    "    try:\n",
    "        match = re.match(datetime_pattern, line)\n",
    "        dt = line[match.start():match.end()]\n",
    "        \n",
    "        match = re.search(type_pattern, line)\n",
    "        log_type = line[match.start():match.end()]\n",
    "        message = line[match.end():]\n",
    "        logs.append(\n",
    "            [dt, log_type, message]\n",
    "        )\n",
    "    except AttributeError as e:\n",
    "        errors.append((line, errors))\n",
    "        logs.append((\"\", \"\", line))\n",
    "\n",
    "\n",
    "df = pd.DataFrame(columns=[\n",
    "    \"datetime\",\n",
    "    \"log_type\",\n",
    "    \"message\",\n",
    "], data=logs)"
   ],
   "id": "a32915cca4b0c4f",
   "outputs": [],
   "execution_count": 3
  },
  {
   "metadata": {
    "ExecuteTime": {
     "end_time": "2025-06-25T16:52:12.930696Z",
     "start_time": "2025-06-25T16:52:12.922537Z"
    }
   },
   "cell_type": "code",
   "source": [
    "df1 = df[df[\"log_type\"] == \"ERROR\"]\n",
    "df1[\"message\"].value_counts()"
   ],
   "id": "b6dd0bfabb3f9d3b",
   "outputs": [
    {
     "data": {
      "text/plain": [
       "message\n",
       "Problema com o dataset PenDigits com o classificador Ridge: Input X contains NaN.\\n                                                                                       24\n",
       "Problema com o dataset PenDigits usando MiniRocket: Data seen by instance of MiniRocket has missing values, but MiniRocket cannot handle these characteristics. \\n        24\n",
       "Problema com o dataset PenDigits usando Rocket: Data seen by instance of Rocket has missing values, but Rocket cannot handle these characteristics. \\n                    24\n",
       "Problema com o dataset PEMS-SF com o classificador Ridge: Input X contains NaN.\\n                                                                                          7\n",
       "Problema com o dataset PEMS-SF usando Rocket: Data seen by instance of Rocket has missing values, but Rocket cannot handle these characteristics. \\n                       7\n",
       "Problema com o dataset PEMS-SF usando MiniRocket: Data seen by instance of MiniRocket has missing values, but MiniRocket cannot handle these characteristics. \\n           7\n",
       "Problema com o dataset DuckDuckGeese usando MiniRocket: Data seen by instance of MiniRocket has missing values, but MiniRocket cannot handle these characteristics. \\n     6\n",
       "Problema com o dataset DuckDuckGeese com o classificador Ridge: Input X contains NaN.\\n                                                                                    6\n",
       "Problema com o dataset DuckDuckGeese usando Rocket: Data seen by instance of Rocket has missing values, but Rocket cannot handle these characteristics. \\n                 6\n",
       "Problema ao carregar dataset InsectWingbeat: Input contains NaN.\\n                                                                                                         1\n",
       "Problema com o dataset PEMS-SF com o classificador Ridge: array must not contain infs or NaNs\\n                                                                            1\n",
       "Problema com o dataset DuckDuckGeese com o classificador Ridge: Input X contains infinity or a value too large for dtype('float64').\\n                                     1\n",
       "Problema com o dataset DuckDuckGeese usando Rocket: Input X contains infinity or a value too large for dtype('float32').\\n                                                 1\n",
       "Name: count, dtype: int64"
      ]
     },
     "execution_count": 4,
     "metadata": {},
     "output_type": "execute_result"
    }
   ],
   "execution_count": 4
  },
  {
   "metadata": {
    "ExecuteTime": {
     "end_time": "2025-06-25T16:52:12.937163Z",
     "start_time": "2025-06-25T16:52:12.932015Z"
    }
   },
   "cell_type": "code",
   "source": [
    "df1 = df[df[\"log_type\"] == \"WARNING\"]\n",
    "df1[\"message\"].value_counts()"
   ],
   "id": "1a593e70e147a265",
   "outputs": [
    {
     "data": {
      "text/plain": [
       "Series([], Name: count, dtype: int64)"
      ]
     },
     "execution_count": 5,
     "metadata": {},
     "output_type": "execute_result"
    }
   ],
   "execution_count": 5
  },
  {
   "metadata": {},
   "cell_type": "code",
   "outputs": [],
   "execution_count": null,
   "source": "df1[\"message\"].value_counts()",
   "id": "a64c98f8a8fa77f7"
  }
 ],
 "metadata": {
  "kernelspec": {
   "display_name": "Python 3",
   "language": "python",
   "name": "python3"
  },
  "language_info": {
   "codemirror_mode": {
    "name": "ipython",
    "version": 2
   },
   "file_extension": ".py",
   "mimetype": "text/x-python",
   "name": "python",
   "nbconvert_exporter": "python",
   "pygments_lexer": "ipython2",
   "version": "2.7.6"
  }
 },
 "nbformat": 4,
 "nbformat_minor": 5
}
